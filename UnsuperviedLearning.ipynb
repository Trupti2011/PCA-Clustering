{
 "cells": [
  {
   "cell_type": "code",
   "execution_count": 1,
   "id": "aa5a12a3",
   "metadata": {},
   "outputs": [],
   "source": [
    "# import data\n",
    "import matplotlib.pyplot as plt\n",
    "import pandas as pd\n",
    "%matplotlib inline\n",
    "import numpy as np\n",
    "import seaborn as sns\n",
    "import warnings\n",
    "warnings.filterwarnings('ignore')"
   ]
  },
  {
   "cell_type": "code",
   "execution_count": 136,
   "id": "a059f97f",
   "metadata": {},
   "outputs": [
    {
     "data": {
      "text/html": [
       "<div>\n",
       "<style scoped>\n",
       "    .dataframe tbody tr th:only-of-type {\n",
       "        vertical-align: middle;\n",
       "    }\n",
       "\n",
       "    .dataframe tbody tr th {\n",
       "        vertical-align: top;\n",
       "    }\n",
       "\n",
       "    .dataframe thead th {\n",
       "        text-align: right;\n",
       "    }\n",
       "</style>\n",
       "<table border=\"1\" class=\"dataframe\">\n",
       "  <thead>\n",
       "    <tr style=\"text-align: right;\">\n",
       "      <th></th>\n",
       "      <th>Alcohol</th>\n",
       "      <th>Malic_Acid</th>\n",
       "      <th>Ash</th>\n",
       "      <th>Ash_Alcanity</th>\n",
       "      <th>Magnesium</th>\n",
       "      <th>Total_Phenols</th>\n",
       "      <th>Flavanoids</th>\n",
       "      <th>Nonflavanoid_Phenols</th>\n",
       "      <th>Proanthocyanins</th>\n",
       "      <th>Color_Intensity</th>\n",
       "      <th>Hue</th>\n",
       "      <th>OD280</th>\n",
       "      <th>Proline</th>\n",
       "      <th>Customer_Segment</th>\n",
       "    </tr>\n",
       "  </thead>\n",
       "  <tbody>\n",
       "    <tr>\n",
       "      <th>0</th>\n",
       "      <td>14.23</td>\n",
       "      <td>1.71</td>\n",
       "      <td>2.43</td>\n",
       "      <td>15.6</td>\n",
       "      <td>127</td>\n",
       "      <td>2.80</td>\n",
       "      <td>3.06</td>\n",
       "      <td>0.28</td>\n",
       "      <td>2.29</td>\n",
       "      <td>5.64</td>\n",
       "      <td>1.04</td>\n",
       "      <td>3.92</td>\n",
       "      <td>1065</td>\n",
       "      <td>1</td>\n",
       "    </tr>\n",
       "    <tr>\n",
       "      <th>1</th>\n",
       "      <td>13.20</td>\n",
       "      <td>1.78</td>\n",
       "      <td>2.14</td>\n",
       "      <td>11.2</td>\n",
       "      <td>100</td>\n",
       "      <td>2.65</td>\n",
       "      <td>2.76</td>\n",
       "      <td>0.26</td>\n",
       "      <td>1.28</td>\n",
       "      <td>4.38</td>\n",
       "      <td>1.05</td>\n",
       "      <td>3.40</td>\n",
       "      <td>1050</td>\n",
       "      <td>1</td>\n",
       "    </tr>\n",
       "    <tr>\n",
       "      <th>2</th>\n",
       "      <td>13.16</td>\n",
       "      <td>2.36</td>\n",
       "      <td>2.67</td>\n",
       "      <td>18.6</td>\n",
       "      <td>101</td>\n",
       "      <td>2.80</td>\n",
       "      <td>3.24</td>\n",
       "      <td>0.30</td>\n",
       "      <td>2.81</td>\n",
       "      <td>5.68</td>\n",
       "      <td>1.03</td>\n",
       "      <td>3.17</td>\n",
       "      <td>1185</td>\n",
       "      <td>1</td>\n",
       "    </tr>\n",
       "    <tr>\n",
       "      <th>3</th>\n",
       "      <td>14.37</td>\n",
       "      <td>1.95</td>\n",
       "      <td>2.50</td>\n",
       "      <td>16.8</td>\n",
       "      <td>113</td>\n",
       "      <td>3.85</td>\n",
       "      <td>3.49</td>\n",
       "      <td>0.24</td>\n",
       "      <td>2.18</td>\n",
       "      <td>7.80</td>\n",
       "      <td>0.86</td>\n",
       "      <td>3.45</td>\n",
       "      <td>1480</td>\n",
       "      <td>1</td>\n",
       "    </tr>\n",
       "    <tr>\n",
       "      <th>4</th>\n",
       "      <td>13.24</td>\n",
       "      <td>2.59</td>\n",
       "      <td>2.87</td>\n",
       "      <td>21.0</td>\n",
       "      <td>118</td>\n",
       "      <td>2.80</td>\n",
       "      <td>2.69</td>\n",
       "      <td>0.39</td>\n",
       "      <td>1.82</td>\n",
       "      <td>4.32</td>\n",
       "      <td>1.04</td>\n",
       "      <td>2.93</td>\n",
       "      <td>735</td>\n",
       "      <td>1</td>\n",
       "    </tr>\n",
       "  </tbody>\n",
       "</table>\n",
       "</div>"
      ],
      "text/plain": [
       "   Alcohol  Malic_Acid   Ash  Ash_Alcanity  Magnesium  Total_Phenols  \\\n",
       "0    14.23        1.71  2.43          15.6        127           2.80   \n",
       "1    13.20        1.78  2.14          11.2        100           2.65   \n",
       "2    13.16        2.36  2.67          18.6        101           2.80   \n",
       "3    14.37        1.95  2.50          16.8        113           3.85   \n",
       "4    13.24        2.59  2.87          21.0        118           2.80   \n",
       "\n",
       "   Flavanoids  Nonflavanoid_Phenols  Proanthocyanins  Color_Intensity   Hue  \\\n",
       "0        3.06                  0.28             2.29             5.64  1.04   \n",
       "1        2.76                  0.26             1.28             4.38  1.05   \n",
       "2        3.24                  0.30             2.81             5.68  1.03   \n",
       "3        3.49                  0.24             2.18             7.80  0.86   \n",
       "4        2.69                  0.39             1.82             4.32  1.04   \n",
       "\n",
       "   OD280  Proline  Customer_Segment  \n",
       "0   3.92     1065                 1  \n",
       "1   3.40     1050                 1  \n",
       "2   3.17     1185                 1  \n",
       "3   3.45     1480                 1  \n",
       "4   2.93      735                 1  "
      ]
     },
     "execution_count": 136,
     "metadata": {},
     "output_type": "execute_result"
    }
   ],
   "source": [
    "wine=pd.read_csv(r\"C:\\Users\\Dell\\Desktop\\MACHINE LEARNING\\Practices\\Wine.csv\")\n",
    "wine.head()"
   ]
  },
  {
   "cell_type": "markdown",
   "id": "c172eb2d",
   "metadata": {},
   "source": [
    "# EDA"
   ]
  },
  {
   "cell_type": "code",
   "execution_count": 137,
   "id": "f51a2a27",
   "metadata": {},
   "outputs": [
    {
     "name": "stdout",
     "output_type": "stream",
     "text": [
      "<class 'pandas.core.frame.DataFrame'>\n",
      "RangeIndex: 178 entries, 0 to 177\n",
      "Data columns (total 14 columns):\n",
      " #   Column                Non-Null Count  Dtype  \n",
      "---  ------                --------------  -----  \n",
      " 0   Alcohol               178 non-null    float64\n",
      " 1   Malic_Acid            178 non-null    float64\n",
      " 2   Ash                   178 non-null    float64\n",
      " 3   Ash_Alcanity          178 non-null    float64\n",
      " 4   Magnesium             178 non-null    int64  \n",
      " 5   Total_Phenols         178 non-null    float64\n",
      " 6   Flavanoids            178 non-null    float64\n",
      " 7   Nonflavanoid_Phenols  178 non-null    float64\n",
      " 8   Proanthocyanins       178 non-null    float64\n",
      " 9   Color_Intensity       178 non-null    float64\n",
      " 10  Hue                   178 non-null    float64\n",
      " 11  OD280                 178 non-null    float64\n",
      " 12  Proline               178 non-null    int64  \n",
      " 13  Customer_Segment      178 non-null    int64  \n",
      "dtypes: float64(11), int64(3)\n",
      "memory usage: 19.6 KB\n"
     ]
    }
   ],
   "source": [
    "wine.info()"
   ]
  },
  {
   "cell_type": "code",
   "execution_count": 138,
   "id": "0c0fc788",
   "metadata": {},
   "outputs": [
    {
     "data": {
      "text/plain": [
       "Alcohol                 0\n",
       "Malic_Acid              0\n",
       "Ash                     0\n",
       "Ash_Alcanity            0\n",
       "Magnesium               0\n",
       "Total_Phenols           0\n",
       "Flavanoids              0\n",
       "Nonflavanoid_Phenols    0\n",
       "Proanthocyanins         0\n",
       "Color_Intensity         0\n",
       "Hue                     0\n",
       "OD280                   0\n",
       "Proline                 0\n",
       "Customer_Segment        0\n",
       "dtype: int64"
      ]
     },
     "execution_count": 138,
     "metadata": {},
     "output_type": "execute_result"
    }
   ],
   "source": [
    "wine.isnull().sum()"
   ]
  },
  {
   "cell_type": "code",
   "execution_count": 139,
   "id": "c7750447",
   "metadata": {},
   "outputs": [
    {
     "data": {
      "text/plain": [
       "<Axes: >"
      ]
     },
     "execution_count": 139,
     "metadata": {},
     "output_type": "execute_result"
    },
    {
     "data": {
      "image/png": "[encoded data removed]",
      "text/plain": [
       "<Figure size 800x550 with 1 Axes>"
      ]
     },
     "metadata": {},
     "output_type": "display_data"
    }
   ],
   "source": [
    "# checking for outliers\n",
    "sns.boxplot(data=wine)"
   ]
  },
  {
   "cell_type": "code",
   "execution_count": 140,
   "id": "7f7a4fc2",
   "metadata": {},
   "outputs": [],
   "source": [
    "# Treatment for outliers\n",
    "for i in wine:\n",
    "    if wine[i].dtype in (\"float64\",\"int64\"):\n",
    "        q1=wine[i].quantile(0.25)\n",
    "        q3=wine[i].quantile(0.75)\n",
    "        iqr=q3-q1\n",
    "        ul=q3 + 1.5 * iqr\n",
    "        ll=q1 - 1.5 * iqr\n",
    "        wine[i].clip(upper=ul,lower=ll,inplace=True)"
   ]
  },
  {
   "cell_type": "code",
   "execution_count": 141,
   "id": "54166d1d",
   "metadata": {},
   "outputs": [
    {
     "data": {
      "text/plain": [
       "<Axes: >"
      ]
     },
     "execution_count": 141,
     "metadata": {},
     "output_type": "execute_result"
    },
    {
     "data": {
      "image/png": "[encoded data removed]",
      "text/plain": [
       "<Figure size 800x550 with 1 Axes>"
      ]
     },
     "metadata": {},
     "output_type": "display_data"
    }
   ],
   "source": [
    "sns.boxplot(data=wine)"
   ]
  },
  {
   "cell_type": "markdown",
   "id": "d8934a52",
   "metadata": {},
   "source": [
    "# Q-1"
   ]
  },
  {
   "cell_type": "code",
   "execution_count": 142,
   "id": "7233b2c4",
   "metadata": {},
   "outputs": [
    {
     "data": {
      "text/html": [
       "<style type=\"text/css\">\n",
       "#T_1d6ec_row0_col0, #T_1d6ec_row1_col1, #T_1d6ec_row2_col2, #T_1d6ec_row3_col3, #T_1d6ec_row4_col4, #T_1d6ec_row5_col5, #T_1d6ec_row5_col6, #T_1d6ec_row6_col5, #T_1d6ec_row6_col6, #T_1d6ec_row6_col11, #T_1d6ec_row7_col7, #T_1d6ec_row8_col8, #T_1d6ec_row9_col9, #T_1d6ec_row10_col10, #T_1d6ec_row11_col6, #T_1d6ec_row11_col11, #T_1d6ec_row12_col12, #T_1d6ec_row13_col13 {\n",
       "  background-color: yellow;\n",
       "}\n",
       "</style>\n",
       "<table id=\"T_1d6ec\">\n",
       "  <thead>\n",
       "    <tr>\n",
       "      <th class=\"blank level0\" >&nbsp;</th>\n",
       "      <th id=\"T_1d6ec_level0_col0\" class=\"col_heading level0 col0\" >Alcohol</th>\n",
       "      <th id=\"T_1d6ec_level0_col1\" class=\"col_heading level0 col1\" >Malic_Acid</th>\n",
       "      <th id=\"T_1d6ec_level0_col2\" class=\"col_heading level0 col2\" >Ash</th>\n",
       "      <th id=\"T_1d6ec_level0_col3\" class=\"col_heading level0 col3\" >Ash_Alcanity</th>\n",
       "      <th id=\"T_1d6ec_level0_col4\" class=\"col_heading level0 col4\" >Magnesium</th>\n",
       "      <th id=\"T_1d6ec_level0_col5\" class=\"col_heading level0 col5\" >Total_Phenols</th>\n",
       "      <th id=\"T_1d6ec_level0_col6\" class=\"col_heading level0 col6\" >Flavanoids</th>\n",
       "      <th id=\"T_1d6ec_level0_col7\" class=\"col_heading level0 col7\" >Nonflavanoid_Phenols</th>\n",
       "      <th id=\"T_1d6ec_level0_col8\" class=\"col_heading level0 col8\" >Proanthocyanins</th>\n",
       "      <th id=\"T_1d6ec_level0_col9\" class=\"col_heading level0 col9\" >Color_Intensity</th>\n",
       "      <th id=\"T_1d6ec_level0_col10\" class=\"col_heading level0 col10\" >Hue</th>\n",
       "      <th id=\"T_1d6ec_level0_col11\" class=\"col_heading level0 col11\" >OD280</th>\n",
       "      <th id=\"T_1d6ec_level0_col12\" class=\"col_heading level0 col12\" >Proline</th>\n",
       "      <th id=\"T_1d6ec_level0_col13\" class=\"col_heading level0 col13\" >Customer_Segment</th>\n",
       "    </tr>\n",
       "  </thead>\n",
       "  <tbody>\n",
       "    <tr>\n",
       "      <th id=\"T_1d6ec_level0_row0\" class=\"row_heading level0 row0\" >Alcohol</th>\n",
       "      <td id=\"T_1d6ec_row0_col0\" class=\"data row0 col0\" >1.000000</td>\n",
       "      <td id=\"T_1d6ec_row0_col1\" class=\"data row0 col1\" >0.094756</td>\n",
       "      <td id=\"T_1d6ec_row0_col2\" class=\"data row0 col2\" >0.220174</td>\n",
       "      <td id=\"T_1d6ec_row0_col3\" class=\"data row0 col3\" >-0.312191</td>\n",
       "      <td id=\"T_1d6ec_row0_col4\" class=\"data row0 col4\" >0.302173</td>\n",
       "      <td id=\"T_1d6ec_row0_col5\" class=\"data row0 col5\" >0.289101</td>\n",
       "      <td id=\"T_1d6ec_row0_col6\" class=\"data row0 col6\" >0.236815</td>\n",
       "      <td id=\"T_1d6ec_row0_col7\" class=\"data row0 col7\" >-0.155929</td>\n",
       "      <td id=\"T_1d6ec_row0_col8\" class=\"data row0 col8\" >0.153171</td>\n",
       "      <td id=\"T_1d6ec_row0_col9\" class=\"data row0 col9\" >0.549107</td>\n",
       "      <td id=\"T_1d6ec_row0_col10\" class=\"data row0 col10\" >-0.067156</td>\n",
       "      <td id=\"T_1d6ec_row0_col11\" class=\"data row0 col11\" >0.072343</td>\n",
       "      <td id=\"T_1d6ec_row0_col12\" class=\"data row0 col12\" >0.643720</td>\n",
       "      <td id=\"T_1d6ec_row0_col13\" class=\"data row0 col13\" >-0.328222</td>\n",
       "    </tr>\n",
       "    <tr>\n",
       "      <th id=\"T_1d6ec_level0_row1\" class=\"row_heading level0 row1\" >Malic_Acid</th>\n",
       "      <td id=\"T_1d6ec_row1_col0\" class=\"data row1 col0\" >0.094756</td>\n",
       "      <td id=\"T_1d6ec_row1_col1\" class=\"data row1 col1\" >1.000000</td>\n",
       "      <td id=\"T_1d6ec_row1_col2\" class=\"data row1 col2\" >0.166614</td>\n",
       "      <td id=\"T_1d6ec_row1_col3\" class=\"data row1 col3\" >0.295882</td>\n",
       "      <td id=\"T_1d6ec_row1_col4\" class=\"data row1 col4\" >-0.039329</td>\n",
       "      <td id=\"T_1d6ec_row1_col5\" class=\"data row1 col5\" >-0.339050</td>\n",
       "      <td id=\"T_1d6ec_row1_col6\" class=\"data row1 col6\" >-0.414875</td>\n",
       "      <td id=\"T_1d6ec_row1_col7\" class=\"data row1 col7\" >0.294203</td>\n",
       "      <td id=\"T_1d6ec_row1_col8\" class=\"data row1 col8\" >-0.234575</td>\n",
       "      <td id=\"T_1d6ec_row1_col9\" class=\"data row1 col9\" >0.264897</td>\n",
       "      <td id=\"T_1d6ec_row1_col10\" class=\"data row1 col10\" >-0.566409</td>\n",
       "      <td id=\"T_1d6ec_row1_col11\" class=\"data row1 col11\" >-0.372582</td>\n",
       "      <td id=\"T_1d6ec_row1_col12\" class=\"data row1 col12\" >-0.191173</td>\n",
       "      <td id=\"T_1d6ec_row1_col13\" class=\"data row1 col13\" >0.440422</td>\n",
       "    </tr>\n",
       "    <tr>\n",
       "      <th id=\"T_1d6ec_level0_row2\" class=\"row_heading level0 row2\" >Ash</th>\n",
       "      <td id=\"T_1d6ec_row2_col0\" class=\"data row2 col0\" >0.220174</td>\n",
       "      <td id=\"T_1d6ec_row2_col1\" class=\"data row2 col1\" >0.166614</td>\n",
       "      <td id=\"T_1d6ec_row2_col2\" class=\"data row2 col2\" >1.000000</td>\n",
       "      <td id=\"T_1d6ec_row2_col3\" class=\"data row2 col3\" >0.427713</td>\n",
       "      <td id=\"T_1d6ec_row2_col4\" class=\"data row2 col4\" >0.322510</td>\n",
       "      <td id=\"T_1d6ec_row2_col5\" class=\"data row2 col5\" >0.124436</td>\n",
       "      <td id=\"T_1d6ec_row2_col6\" class=\"data row2 col6\" >0.097562</td>\n",
       "      <td id=\"T_1d6ec_row2_col7\" class=\"data row2 col7\" >0.183666</td>\n",
       "      <td id=\"T_1d6ec_row2_col8\" class=\"data row2 col8\" >0.006080</td>\n",
       "      <td id=\"T_1d6ec_row2_col9\" class=\"data row2 col9\" >0.256799</td>\n",
       "      <td id=\"T_1d6ec_row2_col10\" class=\"data row2 col10\" >-0.075904</td>\n",
       "      <td id=\"T_1d6ec_row2_col11\" class=\"data row2 col11\" >-0.011214</td>\n",
       "      <td id=\"T_1d6ec_row2_col12\" class=\"data row2 col12\" >0.229676</td>\n",
       "      <td id=\"T_1d6ec_row2_col13\" class=\"data row2 col13\" >-0.047680</td>\n",
       "    </tr>\n",
       "    <tr>\n",
       "      <th id=\"T_1d6ec_level0_row3\" class=\"row_heading level0 row3\" >Ash_Alcanity</th>\n",
       "      <td id=\"T_1d6ec_row3_col0\" class=\"data row3 col0\" >-0.312191</td>\n",
       "      <td id=\"T_1d6ec_row3_col1\" class=\"data row3 col1\" >0.295882</td>\n",
       "      <td id=\"T_1d6ec_row3_col2\" class=\"data row3 col2\" >0.427713</td>\n",
       "      <td id=\"T_1d6ec_row3_col3\" class=\"data row3 col3\" >1.000000</td>\n",
       "      <td id=\"T_1d6ec_row3_col4\" class=\"data row3 col4\" >-0.098030</td>\n",
       "      <td id=\"T_1d6ec_row3_col5\" class=\"data row3 col5\" >-0.333046</td>\n",
       "      <td id=\"T_1d6ec_row3_col6\" class=\"data row3 col6\" >-0.363405</td>\n",
       "      <td id=\"T_1d6ec_row3_col7\" class=\"data row3 col7\" >0.369276</td>\n",
       "      <td id=\"T_1d6ec_row3_col8\" class=\"data row3 col8\" >-0.208794</td>\n",
       "      <td id=\"T_1d6ec_row3_col9\" class=\"data row3 col9\" >0.009748</td>\n",
       "      <td id=\"T_1d6ec_row3_col10\" class=\"data row3 col10\" >-0.286664</td>\n",
       "      <td id=\"T_1d6ec_row3_col11\" class=\"data row3 col11\" >-0.287032</td>\n",
       "      <td id=\"T_1d6ec_row3_col12\" class=\"data row3 col12\" >-0.448700</td>\n",
       "      <td id=\"T_1d6ec_row3_col13\" class=\"data row3 col13\" >0.525608</td>\n",
       "    </tr>\n",
       "    <tr>\n",
       "      <th id=\"T_1d6ec_level0_row4\" class=\"row_heading level0 row4\" >Magnesium</th>\n",
       "      <td id=\"T_1d6ec_row4_col0\" class=\"data row4 col0\" >0.302173</td>\n",
       "      <td id=\"T_1d6ec_row4_col1\" class=\"data row4 col1\" >-0.039329</td>\n",
       "      <td id=\"T_1d6ec_row4_col2\" class=\"data row4 col2\" >0.322510</td>\n",
       "      <td id=\"T_1d6ec_row4_col3\" class=\"data row4 col3\" >-0.098030</td>\n",
       "      <td id=\"T_1d6ec_row4_col4\" class=\"data row4 col4\" >1.000000</td>\n",
       "      <td id=\"T_1d6ec_row4_col5\" class=\"data row4 col5\" >0.227035</td>\n",
       "      <td id=\"T_1d6ec_row4_col6\" class=\"data row4 col6\" >0.209431</td>\n",
       "      <td id=\"T_1d6ec_row4_col7\" class=\"data row4 col7\" >-0.255674</td>\n",
       "      <td id=\"T_1d6ec_row4_col8\" class=\"data row4 col8\" >0.201428</td>\n",
       "      <td id=\"T_1d6ec_row4_col9\" class=\"data row4 col9\" >0.240505</td>\n",
       "      <td id=\"T_1d6ec_row4_col10\" class=\"data row4 col10\" >0.040007</td>\n",
       "      <td id=\"T_1d6ec_row4_col11\" class=\"data row4 col11\" >0.064019</td>\n",
       "      <td id=\"T_1d6ec_row4_col12\" class=\"data row4 col12\" >0.411557</td>\n",
       "      <td id=\"T_1d6ec_row4_col13\" class=\"data row4 col13\" >-0.224264</td>\n",
       "    </tr>\n",
       "    <tr>\n",
       "      <th id=\"T_1d6ec_level0_row5\" class=\"row_heading level0 row5\" >Total_Phenols</th>\n",
       "      <td id=\"T_1d6ec_row5_col0\" class=\"data row5 col0\" >0.289101</td>\n",
       "      <td id=\"T_1d6ec_row5_col1\" class=\"data row5 col1\" >-0.339050</td>\n",
       "      <td id=\"T_1d6ec_row5_col2\" class=\"data row5 col2\" >0.124436</td>\n",
       "      <td id=\"T_1d6ec_row5_col3\" class=\"data row5 col3\" >-0.333046</td>\n",
       "      <td id=\"T_1d6ec_row5_col4\" class=\"data row5 col4\" >0.227035</td>\n",
       "      <td id=\"T_1d6ec_row5_col5\" class=\"data row5 col5\" >1.000000</td>\n",
       "      <td id=\"T_1d6ec_row5_col6\" class=\"data row5 col6\" >0.864564</td>\n",
       "      <td id=\"T_1d6ec_row5_col7\" class=\"data row5 col7\" >-0.449935</td>\n",
       "      <td id=\"T_1d6ec_row5_col8\" class=\"data row5 col8\" >0.618771</td>\n",
       "      <td id=\"T_1d6ec_row5_col9\" class=\"data row5 col9\" >-0.062101</td>\n",
       "      <td id=\"T_1d6ec_row5_col10\" class=\"data row5 col10\" >0.435952</td>\n",
       "      <td id=\"T_1d6ec_row5_col11\" class=\"data row5 col11\" >0.699949</td>\n",
       "      <td id=\"T_1d6ec_row5_col12\" class=\"data row5 col12\" >0.498115</td>\n",
       "      <td id=\"T_1d6ec_row5_col13\" class=\"data row5 col13\" >-0.719163</td>\n",
       "    </tr>\n",
       "    <tr>\n",
       "      <th id=\"T_1d6ec_level0_row6\" class=\"row_heading level0 row6\" >Flavanoids</th>\n",
       "      <td id=\"T_1d6ec_row6_col0\" class=\"data row6 col0\" >0.236815</td>\n",
       "      <td id=\"T_1d6ec_row6_col1\" class=\"data row6 col1\" >-0.414875</td>\n",
       "      <td id=\"T_1d6ec_row6_col2\" class=\"data row6 col2\" >0.097562</td>\n",
       "      <td id=\"T_1d6ec_row6_col3\" class=\"data row6 col3\" >-0.363405</td>\n",
       "      <td id=\"T_1d6ec_row6_col4\" class=\"data row6 col4\" >0.209431</td>\n",
       "      <td id=\"T_1d6ec_row6_col5\" class=\"data row6 col5\" >0.864564</td>\n",
       "      <td id=\"T_1d6ec_row6_col6\" class=\"data row6 col6\" >1.000000</td>\n",
       "      <td id=\"T_1d6ec_row6_col7\" class=\"data row6 col7\" >-0.537900</td>\n",
       "      <td id=\"T_1d6ec_row6_col8\" class=\"data row6 col8\" >0.665384</td>\n",
       "      <td id=\"T_1d6ec_row6_col9\" class=\"data row6 col9\" >-0.169807</td>\n",
       "      <td id=\"T_1d6ec_row6_col10\" class=\"data row6 col10\" >0.546718</td>\n",
       "      <td id=\"T_1d6ec_row6_col11\" class=\"data row6 col11\" >0.787194</td>\n",
       "      <td id=\"T_1d6ec_row6_col12\" class=\"data row6 col12\" >0.494193</td>\n",
       "      <td id=\"T_1d6ec_row6_col13\" class=\"data row6 col13\" >-0.847498</td>\n",
       "    </tr>\n",
       "    <tr>\n",
       "      <th id=\"T_1d6ec_level0_row7\" class=\"row_heading level0 row7\" >Nonflavanoid_Phenols</th>\n",
       "      <td id=\"T_1d6ec_row7_col0\" class=\"data row7 col0\" >-0.155929</td>\n",
       "      <td id=\"T_1d6ec_row7_col1\" class=\"data row7 col1\" >0.294203</td>\n",
       "      <td id=\"T_1d6ec_row7_col2\" class=\"data row7 col2\" >0.183666</td>\n",
       "      <td id=\"T_1d6ec_row7_col3\" class=\"data row7 col3\" >0.369276</td>\n",
       "      <td id=\"T_1d6ec_row7_col4\" class=\"data row7 col4\" >-0.255674</td>\n",
       "      <td id=\"T_1d6ec_row7_col5\" class=\"data row7 col5\" >-0.449935</td>\n",
       "      <td id=\"T_1d6ec_row7_col6\" class=\"data row7 col6\" >-0.537900</td>\n",
       "      <td id=\"T_1d6ec_row7_col7\" class=\"data row7 col7\" >1.000000</td>\n",
       "      <td id=\"T_1d6ec_row7_col8\" class=\"data row7 col8\" >-0.368455</td>\n",
       "      <td id=\"T_1d6ec_row7_col9\" class=\"data row7 col9\" >0.131596</td>\n",
       "      <td id=\"T_1d6ec_row7_col10\" class=\"data row7 col10\" >-0.266995</td>\n",
       "      <td id=\"T_1d6ec_row7_col11\" class=\"data row7 col11\" >-0.503270</td>\n",
       "      <td id=\"T_1d6ec_row7_col12\" class=\"data row7 col12\" >-0.311385</td>\n",
       "      <td id=\"T_1d6ec_row7_col13\" class=\"data row7 col13\" >0.489109</td>\n",
       "    </tr>\n",
       "    <tr>\n",
       "      <th id=\"T_1d6ec_level0_row8\" class=\"row_heading level0 row8\" >Proanthocyanins</th>\n",
       "      <td id=\"T_1d6ec_row8_col0\" class=\"data row8 col0\" >0.153171</td>\n",
       "      <td id=\"T_1d6ec_row8_col1\" class=\"data row8 col1\" >-0.234575</td>\n",
       "      <td id=\"T_1d6ec_row8_col2\" class=\"data row8 col2\" >0.006080</td>\n",
       "      <td id=\"T_1d6ec_row8_col3\" class=\"data row8 col3\" >-0.208794</td>\n",
       "      <td id=\"T_1d6ec_row8_col4\" class=\"data row8 col4\" >0.201428</td>\n",
       "      <td id=\"T_1d6ec_row8_col5\" class=\"data row8 col5\" >0.618771</td>\n",
       "      <td id=\"T_1d6ec_row8_col6\" class=\"data row8 col6\" >0.665384</td>\n",
       "      <td id=\"T_1d6ec_row8_col7\" class=\"data row8 col7\" >-0.368455</td>\n",
       "      <td id=\"T_1d6ec_row8_col8\" class=\"data row8 col8\" >1.000000</td>\n",
       "      <td id=\"T_1d6ec_row8_col9\" class=\"data row8 col9\" >-0.032693</td>\n",
       "      <td id=\"T_1d6ec_row8_col10\" class=\"data row8 col10\" >0.306289</td>\n",
       "      <td id=\"T_1d6ec_row8_col11\" class=\"data row8 col11\" >0.530565</td>\n",
       "      <td id=\"T_1d6ec_row8_col12\" class=\"data row8 col12\" >0.340562</td>\n",
       "      <td id=\"T_1d6ec_row8_col13\" class=\"data row8 col13\" >-0.512528</td>\n",
       "    </tr>\n",
       "    <tr>\n",
       "      <th id=\"T_1d6ec_level0_row9\" class=\"row_heading level0 row9\" >Color_Intensity</th>\n",
       "      <td id=\"T_1d6ec_row9_col0\" class=\"data row9 col0\" >0.549107</td>\n",
       "      <td id=\"T_1d6ec_row9_col1\" class=\"data row9 col1\" >0.264897</td>\n",
       "      <td id=\"T_1d6ec_row9_col2\" class=\"data row9 col2\" >0.256799</td>\n",
       "      <td id=\"T_1d6ec_row9_col3\" class=\"data row9 col3\" >0.009748</td>\n",
       "      <td id=\"T_1d6ec_row9_col4\" class=\"data row9 col4\" >0.240505</td>\n",
       "      <td id=\"T_1d6ec_row9_col5\" class=\"data row9 col5\" >-0.062101</td>\n",
       "      <td id=\"T_1d6ec_row9_col6\" class=\"data row9 col6\" >-0.169807</td>\n",
       "      <td id=\"T_1d6ec_row9_col7\" class=\"data row9 col7\" >0.131596</td>\n",
       "      <td id=\"T_1d6ec_row9_col8\" class=\"data row9 col8\" >-0.032693</td>\n",
       "      <td id=\"T_1d6ec_row9_col9\" class=\"data row9 col9\" >1.000000</td>\n",
       "      <td id=\"T_1d6ec_row9_col10\" class=\"data row9 col10\" >-0.520416</td>\n",
       "      <td id=\"T_1d6ec_row9_col11\" class=\"data row9 col11\" >-0.430638</td>\n",
       "      <td id=\"T_1d6ec_row9_col12\" class=\"data row9 col12\" >0.327100</td>\n",
       "      <td id=\"T_1d6ec_row9_col13\" class=\"data row9 col13\" >0.260260</td>\n",
       "    </tr>\n",
       "    <tr>\n",
       "      <th id=\"T_1d6ec_level0_row10\" class=\"row_heading level0 row10\" >Hue</th>\n",
       "      <td id=\"T_1d6ec_row10_col0\" class=\"data row10 col0\" >-0.067156</td>\n",
       "      <td id=\"T_1d6ec_row10_col1\" class=\"data row10 col1\" >-0.566409</td>\n",
       "      <td id=\"T_1d6ec_row10_col2\" class=\"data row10 col2\" >-0.075904</td>\n",
       "      <td id=\"T_1d6ec_row10_col3\" class=\"data row10 col3\" >-0.286664</td>\n",
       "      <td id=\"T_1d6ec_row10_col4\" class=\"data row10 col4\" >0.040007</td>\n",
       "      <td id=\"T_1d6ec_row10_col5\" class=\"data row10 col5\" >0.435952</td>\n",
       "      <td id=\"T_1d6ec_row10_col6\" class=\"data row10 col6\" >0.546718</td>\n",
       "      <td id=\"T_1d6ec_row10_col7\" class=\"data row10 col7\" >-0.266995</td>\n",
       "      <td id=\"T_1d6ec_row10_col8\" class=\"data row10 col8\" >0.306289</td>\n",
       "      <td id=\"T_1d6ec_row10_col9\" class=\"data row10 col9\" >-0.520416</td>\n",
       "      <td id=\"T_1d6ec_row10_col10\" class=\"data row10 col10\" >1.000000</td>\n",
       "      <td id=\"T_1d6ec_row10_col11\" class=\"data row10 col11\" >0.568387</td>\n",
       "      <td id=\"T_1d6ec_row10_col12\" class=\"data row10 col12\" >0.239968</td>\n",
       "      <td id=\"T_1d6ec_row10_col13\" class=\"data row10 col13\" >-0.621549</td>\n",
       "    </tr>\n",
       "    <tr>\n",
       "      <th id=\"T_1d6ec_level0_row11\" class=\"row_heading level0 row11\" >OD280</th>\n",
       "      <td id=\"T_1d6ec_row11_col0\" class=\"data row11 col0\" >0.072343</td>\n",
       "      <td id=\"T_1d6ec_row11_col1\" class=\"data row11 col1\" >-0.372582</td>\n",
       "      <td id=\"T_1d6ec_row11_col2\" class=\"data row11 col2\" >-0.011214</td>\n",
       "      <td id=\"T_1d6ec_row11_col3\" class=\"data row11 col3\" >-0.287032</td>\n",
       "      <td id=\"T_1d6ec_row11_col4\" class=\"data row11 col4\" >0.064019</td>\n",
       "      <td id=\"T_1d6ec_row11_col5\" class=\"data row11 col5\" >0.699949</td>\n",
       "      <td id=\"T_1d6ec_row11_col6\" class=\"data row11 col6\" >0.787194</td>\n",
       "      <td id=\"T_1d6ec_row11_col7\" class=\"data row11 col7\" >-0.503270</td>\n",
       "      <td id=\"T_1d6ec_row11_col8\" class=\"data row11 col8\" >0.530565</td>\n",
       "      <td id=\"T_1d6ec_row11_col9\" class=\"data row11 col9\" >-0.430638</td>\n",
       "      <td id=\"T_1d6ec_row11_col10\" class=\"data row11 col10\" >0.568387</td>\n",
       "      <td id=\"T_1d6ec_row11_col11\" class=\"data row11 col11\" >1.000000</td>\n",
       "      <td id=\"T_1d6ec_row11_col12\" class=\"data row11 col12\" >0.312761</td>\n",
       "      <td id=\"T_1d6ec_row11_col13\" class=\"data row11 col13\" >-0.788230</td>\n",
       "    </tr>\n",
       "    <tr>\n",
       "      <th id=\"T_1d6ec_level0_row12\" class=\"row_heading level0 row12\" >Proline</th>\n",
       "      <td id=\"T_1d6ec_row12_col0\" class=\"data row12 col0\" >0.643720</td>\n",
       "      <td id=\"T_1d6ec_row12_col1\" class=\"data row12 col1\" >-0.191173</td>\n",
       "      <td id=\"T_1d6ec_row12_col2\" class=\"data row12 col2\" >0.229676</td>\n",
       "      <td id=\"T_1d6ec_row12_col3\" class=\"data row12 col3\" >-0.448700</td>\n",
       "      <td id=\"T_1d6ec_row12_col4\" class=\"data row12 col4\" >0.411557</td>\n",
       "      <td id=\"T_1d6ec_row12_col5\" class=\"data row12 col5\" >0.498115</td>\n",
       "      <td id=\"T_1d6ec_row12_col6\" class=\"data row12 col6\" >0.494193</td>\n",
       "      <td id=\"T_1d6ec_row12_col7\" class=\"data row12 col7\" >-0.311385</td>\n",
       "      <td id=\"T_1d6ec_row12_col8\" class=\"data row12 col8\" >0.340562</td>\n",
       "      <td id=\"T_1d6ec_row12_col9\" class=\"data row12 col9\" >0.327100</td>\n",
       "      <td id=\"T_1d6ec_row12_col10\" class=\"data row12 col10\" >0.239968</td>\n",
       "      <td id=\"T_1d6ec_row12_col11\" class=\"data row12 col11\" >0.312761</td>\n",
       "      <td id=\"T_1d6ec_row12_col12\" class=\"data row12 col12\" >1.000000</td>\n",
       "      <td id=\"T_1d6ec_row12_col13\" class=\"data row12 col13\" >-0.633717</td>\n",
       "    </tr>\n",
       "    <tr>\n",
       "      <th id=\"T_1d6ec_level0_row13\" class=\"row_heading level0 row13\" >Customer_Segment</th>\n",
       "      <td id=\"T_1d6ec_row13_col0\" class=\"data row13 col0\" >-0.328222</td>\n",
       "      <td id=\"T_1d6ec_row13_col1\" class=\"data row13 col1\" >0.440422</td>\n",
       "      <td id=\"T_1d6ec_row13_col2\" class=\"data row13 col2\" >-0.047680</td>\n",
       "      <td id=\"T_1d6ec_row13_col3\" class=\"data row13 col3\" >0.525608</td>\n",
       "      <td id=\"T_1d6ec_row13_col4\" class=\"data row13 col4\" >-0.224264</td>\n",
       "      <td id=\"T_1d6ec_row13_col5\" class=\"data row13 col5\" >-0.719163</td>\n",
       "      <td id=\"T_1d6ec_row13_col6\" class=\"data row13 col6\" >-0.847498</td>\n",
       "      <td id=\"T_1d6ec_row13_col7\" class=\"data row13 col7\" >0.489109</td>\n",
       "      <td id=\"T_1d6ec_row13_col8\" class=\"data row13 col8\" >-0.512528</td>\n",
       "      <td id=\"T_1d6ec_row13_col9\" class=\"data row13 col9\" >0.260260</td>\n",
       "      <td id=\"T_1d6ec_row13_col10\" class=\"data row13 col10\" >-0.621549</td>\n",
       "      <td id=\"T_1d6ec_row13_col11\" class=\"data row13 col11\" >-0.788230</td>\n",
       "      <td id=\"T_1d6ec_row13_col12\" class=\"data row13 col12\" >-0.633717</td>\n",
       "      <td id=\"T_1d6ec_row13_col13\" class=\"data row13 col13\" >1.000000</td>\n",
       "    </tr>\n",
       "  </tbody>\n",
       "</table>\n"
      ],
      "text/plain": [
       "<pandas.io.formats.style.Styler at 0x2bc241d2310>"
      ]
     },
     "execution_count": 142,
     "metadata": {},
     "output_type": "execute_result"
    }
   ],
   "source": [
    "Correlation = wine.corr()\n",
    "Correlation.style.applymap(lambda x: 'background-color : yellow' if x > 0.7 else '')"
   ]
  },
  {
   "cell_type": "code",
   "execution_count": 143,
   "id": "a43a853b",
   "metadata": {},
   "outputs": [
    {
     "data": {
      "text/plain": [
       "<Axes: >"
      ]
     },
     "execution_count": 143,
     "metadata": {},
     "output_type": "execute_result"
    },
    {
     "data": {
      "image/png": "[encoded data removed]",
      "text/plain": [
       "<Figure size 800x550 with 2 Axes>"
      ]
     },
     "metadata": {},
     "output_type": "display_data"
    }
   ],
   "source": [
    "sns.heatmap(wine.corr(),annot=True)"
   ]
  },
  {
   "cell_type": "markdown",
   "id": "fda2a7b5",
   "metadata": {},
   "source": [
    "Total_Phenols,Flavanoids,OD280,Proline have high correlation."
   ]
  },
  {
   "cell_type": "code",
   "execution_count": 144,
   "id": "aaa86594",
   "metadata": {},
   "outputs": [
    {
     "data": {
      "text/plain": [
       "array([[   2.8 ,    3.06,    3.92, 1065.  ],\n",
       "       [   2.65,    2.76,    3.4 , 1050.  ],\n",
       "       [   2.8 ,    3.24,    3.17, 1185.  ],\n",
       "       [   3.85,    3.49,    3.45, 1480.  ],\n",
       "       [   2.8 ,    2.69,    2.93,  735.  ]])"
      ]
     },
     "execution_count": 144,
     "metadata": {},
     "output_type": "execute_result"
    }
   ],
   "source": [
    "#Take specific Variable for Analysis\n",
    "data=wine.iloc[:,[5,6,11,12]].values #Total_Phenols,Flavanoids,OD280,Proline\n",
    "data[0:5]"
   ]
  },
  {
   "cell_type": "code",
   "execution_count": 145,
   "id": "0147651f",
   "metadata": {},
   "outputs": [
    {
     "data": {
      "image/png": "[encoded data removed]",
      "text/plain": [
       "<Figure size 1000x400 with 1 Axes>"
      ]
     },
     "metadata": {},
     "output_type": "display_data"
    }
   ],
   "source": [
    "import scipy.cluster.hierarchy as shc\n",
    "\n",
    "plt.figure(figsize=(10, 4))\n",
    "plt.title(\"Wine Dendograms\")\n",
    "dend = shc.dendrogram(shc.linkage(data, method='ward',metric='euclidean')) #ward = minimum of variance"
   ]
  },
  {
   "cell_type": "code",
   "execution_count": 147,
   "id": "88514bec",
   "metadata": {},
   "outputs": [
    {
     "data": {
      "text/plain": [
       "<Axes: xlabel='Total_Phenols', ylabel='Proline'>"
      ]
     },
     "execution_count": 147,
     "metadata": {},
     "output_type": "execute_result"
    },
    {
     "data": {
      "image/png": "[encoded data removed]",
      "text/plain": [
       "<Figure size 800x550 with 1 Axes>"
      ]
     },
     "metadata": {},
     "output_type": "display_data"
    }
   ],
   "source": [
    "import seaborn as sns \n",
    "sns.scatterplot(x='Total_Phenols',y='Proline',hue='Customer_Segment',palette=\"turbo\",data=wine)"
   ]
  },
  {
   "cell_type": "markdown",
   "id": "8512ebc5",
   "metadata": {},
   "source": [
    "# Q-2"
   ]
  },
  {
   "cell_type": "code",
   "execution_count": 148,
   "id": "226e2da4",
   "metadata": {},
   "outputs": [
    {
     "data": {
      "text/plain": [
       "Index(['Alcohol', 'Malic_Acid', 'Ash', 'Ash_Alcanity', 'Magnesium',\n",
       "       'Total_Phenols', 'Flavanoids', 'Nonflavanoid_Phenols',\n",
       "       'Proanthocyanins', 'Color_Intensity', 'Hue', 'OD280', 'Proline',\n",
       "       'Customer_Segment'],\n",
       "      dtype='object')"
      ]
     },
     "execution_count": 148,
     "metadata": {},
     "output_type": "execute_result"
    }
   ],
   "source": [
    "wine.columns"
   ]
  },
  {
   "cell_type": "code",
   "execution_count": null,
   "id": "0ab4291d",
   "metadata": {},
   "outputs": [],
   "source": []
  },
  {
   "cell_type": "markdown",
   "id": "e8393046",
   "metadata": {},
   "source": [
    "# Taking specific column for Analysis¶"
   ]
  },
  {
   "cell_type": "code",
   "execution_count": 149,
   "id": "17cbaa14",
   "metadata": {},
   "outputs": [],
   "source": [
    "numeric_predictors = ['Alcohol', 'Malic_Acid', 'Ash', 'Ash_Alcanity', 'Magnesium',\n",
    "       'Total_Phenols', 'Flavanoids', 'Nonflavanoid_Phenols',\n",
    "       'Proanthocyanins', 'Color_Intensity', 'Hue', 'OD280', 'Proline']\n",
    "X_train = wine[numeric_predictors]\n",
    "y_train = wine['Customer_Segment']"
   ]
  },
  {
   "cell_type": "code",
   "execution_count": 150,
   "id": "c5db30a7",
   "metadata": {},
   "outputs": [
    {
     "data": {
      "text/html": [
       "<div>\n",
       "<style scoped>\n",
       "    .dataframe tbody tr th:only-of-type {\n",
       "        vertical-align: middle;\n",
       "    }\n",
       "\n",
       "    .dataframe tbody tr th {\n",
       "        vertical-align: top;\n",
       "    }\n",
       "\n",
       "    .dataframe thead th {\n",
       "        text-align: right;\n",
       "    }\n",
       "</style>\n",
       "<table border=\"1\" class=\"dataframe\">\n",
       "  <thead>\n",
       "    <tr style=\"text-align: right;\">\n",
       "      <th></th>\n",
       "      <th>Alcohol</th>\n",
       "      <th>Malic_Acid</th>\n",
       "      <th>Ash</th>\n",
       "      <th>Ash_Alcanity</th>\n",
       "      <th>Magnesium</th>\n",
       "      <th>Total_Phenols</th>\n",
       "      <th>Flavanoids</th>\n",
       "      <th>Nonflavanoid_Phenols</th>\n",
       "      <th>Proanthocyanins</th>\n",
       "      <th>Color_Intensity</th>\n",
       "      <th>Hue</th>\n",
       "      <th>OD280</th>\n",
       "      <th>Proline</th>\n",
       "    </tr>\n",
       "  </thead>\n",
       "  <tbody>\n",
       "    <tr>\n",
       "      <th>0</th>\n",
       "      <td>14.23</td>\n",
       "      <td>1.71</td>\n",
       "      <td>2.43</td>\n",
       "      <td>15.6</td>\n",
       "      <td>127.0</td>\n",
       "      <td>2.80</td>\n",
       "      <td>3.06</td>\n",
       "      <td>0.28</td>\n",
       "      <td>2.29</td>\n",
       "      <td>5.64</td>\n",
       "      <td>1.04</td>\n",
       "      <td>3.92</td>\n",
       "      <td>1065</td>\n",
       "    </tr>\n",
       "    <tr>\n",
       "      <th>1</th>\n",
       "      <td>13.20</td>\n",
       "      <td>1.78</td>\n",
       "      <td>2.14</td>\n",
       "      <td>11.2</td>\n",
       "      <td>100.0</td>\n",
       "      <td>2.65</td>\n",
       "      <td>2.76</td>\n",
       "      <td>0.26</td>\n",
       "      <td>1.28</td>\n",
       "      <td>4.38</td>\n",
       "      <td>1.05</td>\n",
       "      <td>3.40</td>\n",
       "      <td>1050</td>\n",
       "    </tr>\n",
       "    <tr>\n",
       "      <th>2</th>\n",
       "      <td>13.16</td>\n",
       "      <td>2.36</td>\n",
       "      <td>2.67</td>\n",
       "      <td>18.6</td>\n",
       "      <td>101.0</td>\n",
       "      <td>2.80</td>\n",
       "      <td>3.24</td>\n",
       "      <td>0.30</td>\n",
       "      <td>2.81</td>\n",
       "      <td>5.68</td>\n",
       "      <td>1.03</td>\n",
       "      <td>3.17</td>\n",
       "      <td>1185</td>\n",
       "    </tr>\n",
       "    <tr>\n",
       "      <th>3</th>\n",
       "      <td>14.37</td>\n",
       "      <td>1.95</td>\n",
       "      <td>2.50</td>\n",
       "      <td>16.8</td>\n",
       "      <td>113.0</td>\n",
       "      <td>3.85</td>\n",
       "      <td>3.49</td>\n",
       "      <td>0.24</td>\n",
       "      <td>2.18</td>\n",
       "      <td>7.80</td>\n",
       "      <td>0.86</td>\n",
       "      <td>3.45</td>\n",
       "      <td>1480</td>\n",
       "    </tr>\n",
       "    <tr>\n",
       "      <th>4</th>\n",
       "      <td>13.24</td>\n",
       "      <td>2.59</td>\n",
       "      <td>2.87</td>\n",
       "      <td>21.0</td>\n",
       "      <td>118.0</td>\n",
       "      <td>2.80</td>\n",
       "      <td>2.69</td>\n",
       "      <td>0.39</td>\n",
       "      <td>1.82</td>\n",
       "      <td>4.32</td>\n",
       "      <td>1.04</td>\n",
       "      <td>2.93</td>\n",
       "      <td>735</td>\n",
       "    </tr>\n",
       "  </tbody>\n",
       "</table>\n",
       "</div>"
      ],
      "text/plain": [
       "   Alcohol  Malic_Acid   Ash  Ash_Alcanity  Magnesium  Total_Phenols  \\\n",
       "0    14.23        1.71  2.43          15.6      127.0           2.80   \n",
       "1    13.20        1.78  2.14          11.2      100.0           2.65   \n",
       "2    13.16        2.36  2.67          18.6      101.0           2.80   \n",
       "3    14.37        1.95  2.50          16.8      113.0           3.85   \n",
       "4    13.24        2.59  2.87          21.0      118.0           2.80   \n",
       "\n",
       "   Flavanoids  Nonflavanoid_Phenols  Proanthocyanins  Color_Intensity   Hue  \\\n",
       "0        3.06                  0.28             2.29             5.64  1.04   \n",
       "1        2.76                  0.26             1.28             4.38  1.05   \n",
       "2        3.24                  0.30             2.81             5.68  1.03   \n",
       "3        3.49                  0.24             2.18             7.80  0.86   \n",
       "4        2.69                  0.39             1.82             4.32  1.04   \n",
       "\n",
       "   OD280  Proline  \n",
       "0   3.92     1065  \n",
       "1   3.40     1050  \n",
       "2   3.17     1185  \n",
       "3   3.45     1480  \n",
       "4   2.93      735  "
      ]
     },
     "execution_count": 150,
     "metadata": {},
     "output_type": "execute_result"
    }
   ],
   "source": [
    "X_train.head()"
   ]
  },
  {
   "cell_type": "code",
   "execution_count": 151,
   "id": "e78a7dda",
   "metadata": {},
   "outputs": [
    {
     "data": {
      "text/html": [
       "<style type=\"text/css\">\n",
       "#T_b2a96_row0_col0, #T_b2a96_row0_col9, #T_b2a96_row0_col12, #T_b2a96_row1_col1, #T_b2a96_row2_col2, #T_b2a96_row3_col3, #T_b2a96_row4_col4, #T_b2a96_row5_col5, #T_b2a96_row5_col6, #T_b2a96_row5_col8, #T_b2a96_row5_col11, #T_b2a96_row6_col5, #T_b2a96_row6_col6, #T_b2a96_row6_col8, #T_b2a96_row6_col10, #T_b2a96_row6_col11, #T_b2a96_row7_col7, #T_b2a96_row8_col5, #T_b2a96_row8_col6, #T_b2a96_row8_col8, #T_b2a96_row8_col11, #T_b2a96_row9_col0, #T_b2a96_row9_col9, #T_b2a96_row10_col6, #T_b2a96_row10_col10, #T_b2a96_row10_col11, #T_b2a96_row11_col5, #T_b2a96_row11_col6, #T_b2a96_row11_col8, #T_b2a96_row11_col10, #T_b2a96_row11_col11, #T_b2a96_row12_col0, #T_b2a96_row12_col12 {\n",
       "  background-color: yellow;\n",
       "}\n",
       "</style>\n",
       "<table id=\"T_b2a96\">\n",
       "  <thead>\n",
       "    <tr>\n",
       "      <th class=\"blank level0\" >&nbsp;</th>\n",
       "      <th id=\"T_b2a96_level0_col0\" class=\"col_heading level0 col0\" >Alcohol</th>\n",
       "      <th id=\"T_b2a96_level0_col1\" class=\"col_heading level0 col1\" >Malic_Acid</th>\n",
       "      <th id=\"T_b2a96_level0_col2\" class=\"col_heading level0 col2\" >Ash</th>\n",
       "      <th id=\"T_b2a96_level0_col3\" class=\"col_heading level0 col3\" >Ash_Alcanity</th>\n",
       "      <th id=\"T_b2a96_level0_col4\" class=\"col_heading level0 col4\" >Magnesium</th>\n",
       "      <th id=\"T_b2a96_level0_col5\" class=\"col_heading level0 col5\" >Total_Phenols</th>\n",
       "      <th id=\"T_b2a96_level0_col6\" class=\"col_heading level0 col6\" >Flavanoids</th>\n",
       "      <th id=\"T_b2a96_level0_col7\" class=\"col_heading level0 col7\" >Nonflavanoid_Phenols</th>\n",
       "      <th id=\"T_b2a96_level0_col8\" class=\"col_heading level0 col8\" >Proanthocyanins</th>\n",
       "      <th id=\"T_b2a96_level0_col9\" class=\"col_heading level0 col9\" >Color_Intensity</th>\n",
       "      <th id=\"T_b2a96_level0_col10\" class=\"col_heading level0 col10\" >Hue</th>\n",
       "      <th id=\"T_b2a96_level0_col11\" class=\"col_heading level0 col11\" >OD280</th>\n",
       "      <th id=\"T_b2a96_level0_col12\" class=\"col_heading level0 col12\" >Proline</th>\n",
       "    </tr>\n",
       "  </thead>\n",
       "  <tbody>\n",
       "    <tr>\n",
       "      <th id=\"T_b2a96_level0_row0\" class=\"row_heading level0 row0\" >Alcohol</th>\n",
       "      <td id=\"T_b2a96_row0_col0\" class=\"data row0 col0\" >1.000000</td>\n",
       "      <td id=\"T_b2a96_row0_col1\" class=\"data row0 col1\" >0.094756</td>\n",
       "      <td id=\"T_b2a96_row0_col2\" class=\"data row0 col2\" >0.220174</td>\n",
       "      <td id=\"T_b2a96_row0_col3\" class=\"data row0 col3\" >-0.312191</td>\n",
       "      <td id=\"T_b2a96_row0_col4\" class=\"data row0 col4\" >0.302173</td>\n",
       "      <td id=\"T_b2a96_row0_col5\" class=\"data row0 col5\" >0.289101</td>\n",
       "      <td id=\"T_b2a96_row0_col6\" class=\"data row0 col6\" >0.236815</td>\n",
       "      <td id=\"T_b2a96_row0_col7\" class=\"data row0 col7\" >-0.155929</td>\n",
       "      <td id=\"T_b2a96_row0_col8\" class=\"data row0 col8\" >0.153171</td>\n",
       "      <td id=\"T_b2a96_row0_col9\" class=\"data row0 col9\" >0.549107</td>\n",
       "      <td id=\"T_b2a96_row0_col10\" class=\"data row0 col10\" >-0.067156</td>\n",
       "      <td id=\"T_b2a96_row0_col11\" class=\"data row0 col11\" >0.072343</td>\n",
       "      <td id=\"T_b2a96_row0_col12\" class=\"data row0 col12\" >0.643720</td>\n",
       "    </tr>\n",
       "    <tr>\n",
       "      <th id=\"T_b2a96_level0_row1\" class=\"row_heading level0 row1\" >Malic_Acid</th>\n",
       "      <td id=\"T_b2a96_row1_col0\" class=\"data row1 col0\" >0.094756</td>\n",
       "      <td id=\"T_b2a96_row1_col1\" class=\"data row1 col1\" >1.000000</td>\n",
       "      <td id=\"T_b2a96_row1_col2\" class=\"data row1 col2\" >0.166614</td>\n",
       "      <td id=\"T_b2a96_row1_col3\" class=\"data row1 col3\" >0.295882</td>\n",
       "      <td id=\"T_b2a96_row1_col4\" class=\"data row1 col4\" >-0.039329</td>\n",
       "      <td id=\"T_b2a96_row1_col5\" class=\"data row1 col5\" >-0.339050</td>\n",
       "      <td id=\"T_b2a96_row1_col6\" class=\"data row1 col6\" >-0.414875</td>\n",
       "      <td id=\"T_b2a96_row1_col7\" class=\"data row1 col7\" >0.294203</td>\n",
       "      <td id=\"T_b2a96_row1_col8\" class=\"data row1 col8\" >-0.234575</td>\n",
       "      <td id=\"T_b2a96_row1_col9\" class=\"data row1 col9\" >0.264897</td>\n",
       "      <td id=\"T_b2a96_row1_col10\" class=\"data row1 col10\" >-0.566409</td>\n",
       "      <td id=\"T_b2a96_row1_col11\" class=\"data row1 col11\" >-0.372582</td>\n",
       "      <td id=\"T_b2a96_row1_col12\" class=\"data row1 col12\" >-0.191173</td>\n",
       "    </tr>\n",
       "    <tr>\n",
       "      <th id=\"T_b2a96_level0_row2\" class=\"row_heading level0 row2\" >Ash</th>\n",
       "      <td id=\"T_b2a96_row2_col0\" class=\"data row2 col0\" >0.220174</td>\n",
       "      <td id=\"T_b2a96_row2_col1\" class=\"data row2 col1\" >0.166614</td>\n",
       "      <td id=\"T_b2a96_row2_col2\" class=\"data row2 col2\" >1.000000</td>\n",
       "      <td id=\"T_b2a96_row2_col3\" class=\"data row2 col3\" >0.427713</td>\n",
       "      <td id=\"T_b2a96_row2_col4\" class=\"data row2 col4\" >0.322510</td>\n",
       "      <td id=\"T_b2a96_row2_col5\" class=\"data row2 col5\" >0.124436</td>\n",
       "      <td id=\"T_b2a96_row2_col6\" class=\"data row2 col6\" >0.097562</td>\n",
       "      <td id=\"T_b2a96_row2_col7\" class=\"data row2 col7\" >0.183666</td>\n",
       "      <td id=\"T_b2a96_row2_col8\" class=\"data row2 col8\" >0.006080</td>\n",
       "      <td id=\"T_b2a96_row2_col9\" class=\"data row2 col9\" >0.256799</td>\n",
       "      <td id=\"T_b2a96_row2_col10\" class=\"data row2 col10\" >-0.075904</td>\n",
       "      <td id=\"T_b2a96_row2_col11\" class=\"data row2 col11\" >-0.011214</td>\n",
       "      <td id=\"T_b2a96_row2_col12\" class=\"data row2 col12\" >0.229676</td>\n",
       "    </tr>\n",
       "    <tr>\n",
       "      <th id=\"T_b2a96_level0_row3\" class=\"row_heading level0 row3\" >Ash_Alcanity</th>\n",
       "      <td id=\"T_b2a96_row3_col0\" class=\"data row3 col0\" >-0.312191</td>\n",
       "      <td id=\"T_b2a96_row3_col1\" class=\"data row3 col1\" >0.295882</td>\n",
       "      <td id=\"T_b2a96_row3_col2\" class=\"data row3 col2\" >0.427713</td>\n",
       "      <td id=\"T_b2a96_row3_col3\" class=\"data row3 col3\" >1.000000</td>\n",
       "      <td id=\"T_b2a96_row3_col4\" class=\"data row3 col4\" >-0.098030</td>\n",
       "      <td id=\"T_b2a96_row3_col5\" class=\"data row3 col5\" >-0.333046</td>\n",
       "      <td id=\"T_b2a96_row3_col6\" class=\"data row3 col6\" >-0.363405</td>\n",
       "      <td id=\"T_b2a96_row3_col7\" class=\"data row3 col7\" >0.369276</td>\n",
       "      <td id=\"T_b2a96_row3_col8\" class=\"data row3 col8\" >-0.208794</td>\n",
       "      <td id=\"T_b2a96_row3_col9\" class=\"data row3 col9\" >0.009748</td>\n",
       "      <td id=\"T_b2a96_row3_col10\" class=\"data row3 col10\" >-0.286664</td>\n",
       "      <td id=\"T_b2a96_row3_col11\" class=\"data row3 col11\" >-0.287032</td>\n",
       "      <td id=\"T_b2a96_row3_col12\" class=\"data row3 col12\" >-0.448700</td>\n",
       "    </tr>\n",
       "    <tr>\n",
       "      <th id=\"T_b2a96_level0_row4\" class=\"row_heading level0 row4\" >Magnesium</th>\n",
       "      <td id=\"T_b2a96_row4_col0\" class=\"data row4 col0\" >0.302173</td>\n",
       "      <td id=\"T_b2a96_row4_col1\" class=\"data row4 col1\" >-0.039329</td>\n",
       "      <td id=\"T_b2a96_row4_col2\" class=\"data row4 col2\" >0.322510</td>\n",
       "      <td id=\"T_b2a96_row4_col3\" class=\"data row4 col3\" >-0.098030</td>\n",
       "      <td id=\"T_b2a96_row4_col4\" class=\"data row4 col4\" >1.000000</td>\n",
       "      <td id=\"T_b2a96_row4_col5\" class=\"data row4 col5\" >0.227035</td>\n",
       "      <td id=\"T_b2a96_row4_col6\" class=\"data row4 col6\" >0.209431</td>\n",
       "      <td id=\"T_b2a96_row4_col7\" class=\"data row4 col7\" >-0.255674</td>\n",
       "      <td id=\"T_b2a96_row4_col8\" class=\"data row4 col8\" >0.201428</td>\n",
       "      <td id=\"T_b2a96_row4_col9\" class=\"data row4 col9\" >0.240505</td>\n",
       "      <td id=\"T_b2a96_row4_col10\" class=\"data row4 col10\" >0.040007</td>\n",
       "      <td id=\"T_b2a96_row4_col11\" class=\"data row4 col11\" >0.064019</td>\n",
       "      <td id=\"T_b2a96_row4_col12\" class=\"data row4 col12\" >0.411557</td>\n",
       "    </tr>\n",
       "    <tr>\n",
       "      <th id=\"T_b2a96_level0_row5\" class=\"row_heading level0 row5\" >Total_Phenols</th>\n",
       "      <td id=\"T_b2a96_row5_col0\" class=\"data row5 col0\" >0.289101</td>\n",
       "      <td id=\"T_b2a96_row5_col1\" class=\"data row5 col1\" >-0.339050</td>\n",
       "      <td id=\"T_b2a96_row5_col2\" class=\"data row5 col2\" >0.124436</td>\n",
       "      <td id=\"T_b2a96_row5_col3\" class=\"data row5 col3\" >-0.333046</td>\n",
       "      <td id=\"T_b2a96_row5_col4\" class=\"data row5 col4\" >0.227035</td>\n",
       "      <td id=\"T_b2a96_row5_col5\" class=\"data row5 col5\" >1.000000</td>\n",
       "      <td id=\"T_b2a96_row5_col6\" class=\"data row5 col6\" >0.864564</td>\n",
       "      <td id=\"T_b2a96_row5_col7\" class=\"data row5 col7\" >-0.449935</td>\n",
       "      <td id=\"T_b2a96_row5_col8\" class=\"data row5 col8\" >0.618771</td>\n",
       "      <td id=\"T_b2a96_row5_col9\" class=\"data row5 col9\" >-0.062101</td>\n",
       "      <td id=\"T_b2a96_row5_col10\" class=\"data row5 col10\" >0.435952</td>\n",
       "      <td id=\"T_b2a96_row5_col11\" class=\"data row5 col11\" >0.699949</td>\n",
       "      <td id=\"T_b2a96_row5_col12\" class=\"data row5 col12\" >0.498115</td>\n",
       "    </tr>\n",
       "    <tr>\n",
       "      <th id=\"T_b2a96_level0_row6\" class=\"row_heading level0 row6\" >Flavanoids</th>\n",
       "      <td id=\"T_b2a96_row6_col0\" class=\"data row6 col0\" >0.236815</td>\n",
       "      <td id=\"T_b2a96_row6_col1\" class=\"data row6 col1\" >-0.414875</td>\n",
       "      <td id=\"T_b2a96_row6_col2\" class=\"data row6 col2\" >0.097562</td>\n",
       "      <td id=\"T_b2a96_row6_col3\" class=\"data row6 col3\" >-0.363405</td>\n",
       "      <td id=\"T_b2a96_row6_col4\" class=\"data row6 col4\" >0.209431</td>\n",
       "      <td id=\"T_b2a96_row6_col5\" class=\"data row6 col5\" >0.864564</td>\n",
       "      <td id=\"T_b2a96_row6_col6\" class=\"data row6 col6\" >1.000000</td>\n",
       "      <td id=\"T_b2a96_row6_col7\" class=\"data row6 col7\" >-0.537900</td>\n",
       "      <td id=\"T_b2a96_row6_col8\" class=\"data row6 col8\" >0.665384</td>\n",
       "      <td id=\"T_b2a96_row6_col9\" class=\"data row6 col9\" >-0.169807</td>\n",
       "      <td id=\"T_b2a96_row6_col10\" class=\"data row6 col10\" >0.546718</td>\n",
       "      <td id=\"T_b2a96_row6_col11\" class=\"data row6 col11\" >0.787194</td>\n",
       "      <td id=\"T_b2a96_row6_col12\" class=\"data row6 col12\" >0.494193</td>\n",
       "    </tr>\n",
       "    <tr>\n",
       "      <th id=\"T_b2a96_level0_row7\" class=\"row_heading level0 row7\" >Nonflavanoid_Phenols</th>\n",
       "      <td id=\"T_b2a96_row7_col0\" class=\"data row7 col0\" >-0.155929</td>\n",
       "      <td id=\"T_b2a96_row7_col1\" class=\"data row7 col1\" >0.294203</td>\n",
       "      <td id=\"T_b2a96_row7_col2\" class=\"data row7 col2\" >0.183666</td>\n",
       "      <td id=\"T_b2a96_row7_col3\" class=\"data row7 col3\" >0.369276</td>\n",
       "      <td id=\"T_b2a96_row7_col4\" class=\"data row7 col4\" >-0.255674</td>\n",
       "      <td id=\"T_b2a96_row7_col5\" class=\"data row7 col5\" >-0.449935</td>\n",
       "      <td id=\"T_b2a96_row7_col6\" class=\"data row7 col6\" >-0.537900</td>\n",
       "      <td id=\"T_b2a96_row7_col7\" class=\"data row7 col7\" >1.000000</td>\n",
       "      <td id=\"T_b2a96_row7_col8\" class=\"data row7 col8\" >-0.368455</td>\n",
       "      <td id=\"T_b2a96_row7_col9\" class=\"data row7 col9\" >0.131596</td>\n",
       "      <td id=\"T_b2a96_row7_col10\" class=\"data row7 col10\" >-0.266995</td>\n",
       "      <td id=\"T_b2a96_row7_col11\" class=\"data row7 col11\" >-0.503270</td>\n",
       "      <td id=\"T_b2a96_row7_col12\" class=\"data row7 col12\" >-0.311385</td>\n",
       "    </tr>\n",
       "    <tr>\n",
       "      <th id=\"T_b2a96_level0_row8\" class=\"row_heading level0 row8\" >Proanthocyanins</th>\n",
       "      <td id=\"T_b2a96_row8_col0\" class=\"data row8 col0\" >0.153171</td>\n",
       "      <td id=\"T_b2a96_row8_col1\" class=\"data row8 col1\" >-0.234575</td>\n",
       "      <td id=\"T_b2a96_row8_col2\" class=\"data row8 col2\" >0.006080</td>\n",
       "      <td id=\"T_b2a96_row8_col3\" class=\"data row8 col3\" >-0.208794</td>\n",
       "      <td id=\"T_b2a96_row8_col4\" class=\"data row8 col4\" >0.201428</td>\n",
       "      <td id=\"T_b2a96_row8_col5\" class=\"data row8 col5\" >0.618771</td>\n",
       "      <td id=\"T_b2a96_row8_col6\" class=\"data row8 col6\" >0.665384</td>\n",
       "      <td id=\"T_b2a96_row8_col7\" class=\"data row8 col7\" >-0.368455</td>\n",
       "      <td id=\"T_b2a96_row8_col8\" class=\"data row8 col8\" >1.000000</td>\n",
       "      <td id=\"T_b2a96_row8_col9\" class=\"data row8 col9\" >-0.032693</td>\n",
       "      <td id=\"T_b2a96_row8_col10\" class=\"data row8 col10\" >0.306289</td>\n",
       "      <td id=\"T_b2a96_row8_col11\" class=\"data row8 col11\" >0.530565</td>\n",
       "      <td id=\"T_b2a96_row8_col12\" class=\"data row8 col12\" >0.340562</td>\n",
       "    </tr>\n",
       "    <tr>\n",
       "      <th id=\"T_b2a96_level0_row9\" class=\"row_heading level0 row9\" >Color_Intensity</th>\n",
       "      <td id=\"T_b2a96_row9_col0\" class=\"data row9 col0\" >0.549107</td>\n",
       "      <td id=\"T_b2a96_row9_col1\" class=\"data row9 col1\" >0.264897</td>\n",
       "      <td id=\"T_b2a96_row9_col2\" class=\"data row9 col2\" >0.256799</td>\n",
       "      <td id=\"T_b2a96_row9_col3\" class=\"data row9 col3\" >0.009748</td>\n",
       "      <td id=\"T_b2a96_row9_col4\" class=\"data row9 col4\" >0.240505</td>\n",
       "      <td id=\"T_b2a96_row9_col5\" class=\"data row9 col5\" >-0.062101</td>\n",
       "      <td id=\"T_b2a96_row9_col6\" class=\"data row9 col6\" >-0.169807</td>\n",
       "      <td id=\"T_b2a96_row9_col7\" class=\"data row9 col7\" >0.131596</td>\n",
       "      <td id=\"T_b2a96_row9_col8\" class=\"data row9 col8\" >-0.032693</td>\n",
       "      <td id=\"T_b2a96_row9_col9\" class=\"data row9 col9\" >1.000000</td>\n",
       "      <td id=\"T_b2a96_row9_col10\" class=\"data row9 col10\" >-0.520416</td>\n",
       "      <td id=\"T_b2a96_row9_col11\" class=\"data row9 col11\" >-0.430638</td>\n",
       "      <td id=\"T_b2a96_row9_col12\" class=\"data row9 col12\" >0.327100</td>\n",
       "    </tr>\n",
       "    <tr>\n",
       "      <th id=\"T_b2a96_level0_row10\" class=\"row_heading level0 row10\" >Hue</th>\n",
       "      <td id=\"T_b2a96_row10_col0\" class=\"data row10 col0\" >-0.067156</td>\n",
       "      <td id=\"T_b2a96_row10_col1\" class=\"data row10 col1\" >-0.566409</td>\n",
       "      <td id=\"T_b2a96_row10_col2\" class=\"data row10 col2\" >-0.075904</td>\n",
       "      <td id=\"T_b2a96_row10_col3\" class=\"data row10 col3\" >-0.286664</td>\n",
       "      <td id=\"T_b2a96_row10_col4\" class=\"data row10 col4\" >0.040007</td>\n",
       "      <td id=\"T_b2a96_row10_col5\" class=\"data row10 col5\" >0.435952</td>\n",
       "      <td id=\"T_b2a96_row10_col6\" class=\"data row10 col6\" >0.546718</td>\n",
       "      <td id=\"T_b2a96_row10_col7\" class=\"data row10 col7\" >-0.266995</td>\n",
       "      <td id=\"T_b2a96_row10_col8\" class=\"data row10 col8\" >0.306289</td>\n",
       "      <td id=\"T_b2a96_row10_col9\" class=\"data row10 col9\" >-0.520416</td>\n",
       "      <td id=\"T_b2a96_row10_col10\" class=\"data row10 col10\" >1.000000</td>\n",
       "      <td id=\"T_b2a96_row10_col11\" class=\"data row10 col11\" >0.568387</td>\n",
       "      <td id=\"T_b2a96_row10_col12\" class=\"data row10 col12\" >0.239968</td>\n",
       "    </tr>\n",
       "    <tr>\n",
       "      <th id=\"T_b2a96_level0_row11\" class=\"row_heading level0 row11\" >OD280</th>\n",
       "      <td id=\"T_b2a96_row11_col0\" class=\"data row11 col0\" >0.072343</td>\n",
       "      <td id=\"T_b2a96_row11_col1\" class=\"data row11 col1\" >-0.372582</td>\n",
       "      <td id=\"T_b2a96_row11_col2\" class=\"data row11 col2\" >-0.011214</td>\n",
       "      <td id=\"T_b2a96_row11_col3\" class=\"data row11 col3\" >-0.287032</td>\n",
       "      <td id=\"T_b2a96_row11_col4\" class=\"data row11 col4\" >0.064019</td>\n",
       "      <td id=\"T_b2a96_row11_col5\" class=\"data row11 col5\" >0.699949</td>\n",
       "      <td id=\"T_b2a96_row11_col6\" class=\"data row11 col6\" >0.787194</td>\n",
       "      <td id=\"T_b2a96_row11_col7\" class=\"data row11 col7\" >-0.503270</td>\n",
       "      <td id=\"T_b2a96_row11_col8\" class=\"data row11 col8\" >0.530565</td>\n",
       "      <td id=\"T_b2a96_row11_col9\" class=\"data row11 col9\" >-0.430638</td>\n",
       "      <td id=\"T_b2a96_row11_col10\" class=\"data row11 col10\" >0.568387</td>\n",
       "      <td id=\"T_b2a96_row11_col11\" class=\"data row11 col11\" >1.000000</td>\n",
       "      <td id=\"T_b2a96_row11_col12\" class=\"data row11 col12\" >0.312761</td>\n",
       "    </tr>\n",
       "    <tr>\n",
       "      <th id=\"T_b2a96_level0_row12\" class=\"row_heading level0 row12\" >Proline</th>\n",
       "      <td id=\"T_b2a96_row12_col0\" class=\"data row12 col0\" >0.643720</td>\n",
       "      <td id=\"T_b2a96_row12_col1\" class=\"data row12 col1\" >-0.191173</td>\n",
       "      <td id=\"T_b2a96_row12_col2\" class=\"data row12 col2\" >0.229676</td>\n",
       "      <td id=\"T_b2a96_row12_col3\" class=\"data row12 col3\" >-0.448700</td>\n",
       "      <td id=\"T_b2a96_row12_col4\" class=\"data row12 col4\" >0.411557</td>\n",
       "      <td id=\"T_b2a96_row12_col5\" class=\"data row12 col5\" >0.498115</td>\n",
       "      <td id=\"T_b2a96_row12_col6\" class=\"data row12 col6\" >0.494193</td>\n",
       "      <td id=\"T_b2a96_row12_col7\" class=\"data row12 col7\" >-0.311385</td>\n",
       "      <td id=\"T_b2a96_row12_col8\" class=\"data row12 col8\" >0.340562</td>\n",
       "      <td id=\"T_b2a96_row12_col9\" class=\"data row12 col9\" >0.327100</td>\n",
       "      <td id=\"T_b2a96_row12_col10\" class=\"data row12 col10\" >0.239968</td>\n",
       "      <td id=\"T_b2a96_row12_col11\" class=\"data row12 col11\" >0.312761</td>\n",
       "      <td id=\"T_b2a96_row12_col12\" class=\"data row12 col12\" >1.000000</td>\n",
       "    </tr>\n",
       "  </tbody>\n",
       "</table>\n"
      ],
      "text/plain": [
       "<pandas.io.formats.style.Styler at 0x2bc24e80ed0>"
      ]
     },
     "execution_count": 151,
     "metadata": {},
     "output_type": "execute_result"
    }
   ],
   "source": [
    "Correlation = X_train.corr()\n",
    "Correlation.style.applymap(lambda x: 'background-color : yellow' if x > 0.5 else '')"
   ]
  },
  {
   "cell_type": "markdown",
   "id": "b671edec",
   "metadata": {},
   "source": [
    "* PCA is effected by scale so we need to scale the features in the data before applying PCA.\n",
    "* we can transform the data onto unit scale (mean = 0 and variance = 1)"
   ]
  },
  {
   "cell_type": "code",
   "execution_count": 152,
   "id": "5800101d",
   "metadata": {},
   "outputs": [],
   "source": [
    "from sklearn.preprocessing import StandardScaler \n",
    "sc = StandardScaler()\n",
    "  \n",
    "X_train_1 = sc.fit_transform(wine) "
   ]
  },
  {
   "cell_type": "code",
   "execution_count": 154,
   "id": "06145bcb",
   "metadata": {},
   "outputs": [
    {
     "data": {
      "text/plain": [
       "array([[ 1.51861254, -0.56553422,  0.24064008, ...,  1.84791957,\n",
       "         1.01300893, -1.21394365],\n",
       "       [ 0.24628963, -0.50172839, -0.86217567, ...,  1.1134493 ,\n",
       "         0.96524152, -1.21394365],\n",
       "       [ 0.19687903,  0.02694849,  1.15331518, ...,  0.78858745,\n",
       "         1.39514818, -1.21394365],\n",
       "       ...,\n",
       "       [ 0.33275817,  1.77705125, -0.40583812, ..., -1.48544548,\n",
       "         0.28057537,  1.37386437],\n",
       "       [ 0.20923168,  0.23659622,  0.0124713 , ..., -1.40069891,\n",
       "         0.29649784,  1.37386437],\n",
       "       [ 1.39508604,  1.61297912,  1.41951209, ..., -1.42894777,\n",
       "        -0.59516041,  1.37386437]])"
      ]
     },
     "execution_count": 154,
     "metadata": {},
     "output_type": "execute_result"
    }
   ],
   "source": [
    "X_train_1"
   ]
  },
  {
   "cell_type": "markdown",
   "id": "214bf700",
   "metadata": {},
   "source": [
    "# No. of variable in original dataset"
   ]
  },
  {
   "cell_type": "code",
   "execution_count": 27,
   "id": "c5037bf7",
   "metadata": {},
   "outputs": [],
   "source": [
    "from sklearn.decomposition import PCA \n",
    "  \n",
    "model = PCA(n_components = 3) # we are specifying we want 3 PCA\n",
    "  \n",
    "principalComponents= model.fit(X_train_1) # Fit the model with X and apply the dimensionality reduction on X."
   ]
  },
  {
   "cell_type": "markdown",
   "id": "1d7b0536",
   "metadata": {},
   "source": [
    "# Explained Variance"
   ]
  },
  {
   "cell_type": "code",
   "execution_count": 155,
   "id": "5c0f03b6",
   "metadata": {},
   "outputs": [
    {
     "data": {
      "text/plain": [
       "[5.6, 2.56, 1.43]"
      ]
     },
     "execution_count": 155,
     "metadata": {},
     "output_type": "execute_result"
    }
   ],
   "source": [
    "import numpy as np\n",
    "list(np.round(principalComponents.explained_variance_,2))   # eigen values  >= 1 "
   ]
  },
  {
   "cell_type": "code",
   "execution_count": 156,
   "id": "228e5d67",
   "metadata": {},
   "outputs": [
    {
     "data": {
      "text/plain": [
       "0.43"
      ]
     },
     "execution_count": 156,
     "metadata": {},
     "output_type": "execute_result"
    }
   ],
   "source": [
    "np.round(5.6/13,2)"
   ]
  },
  {
   "cell_type": "code",
   "execution_count": 157,
   "id": "156fd1c1",
   "metadata": {},
   "outputs": [
    {
     "data": {
      "text/plain": [
       "[0.4, 0.18, 0.1]"
      ]
     },
     "execution_count": 157,
     "metadata": {},
     "output_type": "execute_result"
    }
   ],
   "source": [
    "list(np.round(principalComponents.explained_variance_ratio_,2))    # >= 50%"
   ]
  },
  {
   "cell_type": "code",
   "execution_count": 158,
   "id": "10ad53b7",
   "metadata": {},
   "outputs": [
    {
     "data": {
      "text/plain": [
       "0.68"
      ]
     },
     "execution_count": 158,
     "metadata": {},
     "output_type": "execute_result"
    }
   ],
   "source": [
    "0.4+0.18+0.1"
   ]
  },
  {
   "cell_type": "markdown",
   "id": "cd756ed6",
   "metadata": {},
   "source": [
    "You can see that the first principal component contains 40% of the variance\n",
    "\n",
    "The second principal component contains 18% of the variance & third PC contain 10%.\n",
    "\n",
    "Together, the three components contain 68% of the information."
   ]
  },
  {
   "cell_type": "code",
   "execution_count": 159,
   "id": "3f16d21c",
   "metadata": {},
   "outputs": [
    {
     "data": {
      "text/plain": [
       "array([[ 1.51861254, -0.56553422,  0.24064008, ...,  1.84791957,\n",
       "         1.01300893, -1.21394365],\n",
       "       [ 0.24628963, -0.50172839, -0.86217567, ...,  1.1134493 ,\n",
       "         0.96524152, -1.21394365],\n",
       "       [ 0.19687903,  0.02694849,  1.15331518, ...,  0.78858745,\n",
       "         1.39514818, -1.21394365],\n",
       "       ...,\n",
       "       [ 0.33275817,  1.77705125, -0.40583812, ..., -1.48544548,\n",
       "         0.28057537,  1.37386437],\n",
       "       [ 0.20923168,  0.23659622,  0.0124713 , ..., -1.40069891,\n",
       "         0.29649784,  1.37386437],\n",
       "       [ 1.39508604,  1.61297912,  1.41951209, ..., -1.42894777,\n",
       "        -0.59516041,  1.37386437]])"
      ]
     },
     "execution_count": 159,
     "metadata": {},
     "output_type": "execute_result"
    }
   ],
   "source": [
    "X_train_1"
   ]
  },
  {
   "cell_type": "markdown",
   "id": "7a1e1afd",
   "metadata": {},
   "source": [
    "* Beta Values or Eigen Vector Z1 = Beta1x1+Beta2X2 + beta3X3 + ..... + beta13X13"
   ]
  },
  {
   "cell_type": "code",
   "execution_count": 160,
   "id": "cb6041a7",
   "metadata": {},
   "outputs": [
    {
     "data": {
      "text/plain": [
       "array([[-0.1377818 ,  0.22329763, -0.0009843 ,  0.22883621, -0.1251569 ,\n",
       "        -0.3582432 , -0.38964643,  0.2657193 , -0.28231773,  0.08669661,\n",
       "        -0.27694181, -0.34904433, -0.26933504,  0.39251008],\n",
       "       [-0.47689882, -0.22541809, -0.31850888,  0.01538238, -0.32622521,\n",
       "        -0.06153297,  0.0046166 , -0.02489123, -0.03214222, -0.52494506,\n",
       "         0.27227014,  0.16469922, -0.36240539, -0.00496269],\n",
       "       [-0.2019702 ,  0.08624025,  0.62967078,  0.60797016,  0.13384644,\n",
       "         0.14846374,  0.14788287,  0.17454208,  0.1418448 , -0.15115795,\n",
       "         0.08845697,  0.16545227, -0.12315971, -0.00556301]])"
      ]
     },
     "execution_count": 160,
     "metadata": {},
     "output_type": "execute_result"
    }
   ],
   "source": [
    "principalComponents.components_ "
   ]
  },
  {
   "cell_type": "markdown",
   "id": "29f1f29b",
   "metadata": {},
   "source": [
    "z1=(-0.1377818 * 1.51861254) + (0.22329763 * -0.56553422) +.......+( 0.39251008*-1.21394365) z1"
   ]
  },
  {
   "cell_type": "code",
   "execution_count": 161,
   "id": "833837a6",
   "metadata": {},
   "outputs": [
    {
     "data": {
      "text/plain": [
       "array([[ 1.51861254, -0.56553422,  0.24064008, ...,  1.84791957,\n",
       "         1.01300893, -1.21394365],\n",
       "       [ 0.24628963, -0.50172839, -0.86217567, ...,  1.1134493 ,\n",
       "         0.96524152, -1.21394365],\n",
       "       [ 0.19687903,  0.02694849,  1.15331518, ...,  0.78858745,\n",
       "         1.39514818, -1.21394365],\n",
       "       ...,\n",
       "       [ 0.33275817,  1.77705125, -0.40583812, ..., -1.48544548,\n",
       "         0.28057537,  1.37386437],\n",
       "       [ 0.20923168,  0.23659622,  0.0124713 , ..., -1.40069891,\n",
       "         0.29649784,  1.37386437],\n",
       "       [ 1.39508604,  1.61297912,  1.41951209, ..., -1.42894777,\n",
       "        -0.59516041,  1.37386437]])"
      ]
     },
     "execution_count": 161,
     "metadata": {},
     "output_type": "execute_result"
    }
   ],
   "source": [
    "#Renaming the Columns Prediction for data to get data reduction\n",
    "\n",
    "X_train_1"
   ]
  },
  {
   "cell_type": "code",
   "execution_count": 162,
   "id": "9f075cef",
   "metadata": {},
   "outputs": [
    {
     "data": {
      "text/plain": [
       "array([[-3.56196816e+00, -1.52896694e+00, -1.30557584e-01],\n",
       "       [-2.54433006e+00,  3.29992583e-01, -2.04160282e+00],\n",
       "       [-2.80654586e+00, -1.04222492e+00,  1.01679147e+00],\n",
       "       [-3.94428663e+00, -2.79326448e+00, -1.54955554e-01],\n",
       "       [-1.41586551e+00, -9.53430360e-01,  2.11709262e+00],\n",
       "       [-3.31467737e+00, -2.15987637e+00, -6.03447682e-01],\n",
       "       [-2.76883800e+00, -1.16001791e+00, -9.57417877e-01],\n",
       "       [-2.40349271e+00, -1.69343430e+00,  2.13923950e-01],\n",
       "       [-2.81956282e+00, -8.88750972e-01, -1.77911470e+00],\n",
       "       [-3.01921539e+00, -7.80940913e-01, -1.00228232e+00],\n",
       "       [-3.70084217e+00, -1.30750101e+00, -4.11422652e-01],\n",
       "       [-2.11892156e+00, -5.94496720e-01, -1.17784148e+00],\n",
       "       [-2.44752356e+00, -6.43424399e-01, -8.56288036e-01],\n",
       "       [-3.71609766e+00, -1.08602601e+00, -1.19849473e+00],\n",
       "       [-4.48843580e+00, -2.09514172e+00, -1.26924638e+00],\n",
       "       [-2.62175728e+00, -1.73411029e+00,  2.69678242e-01],\n",
       "       [-2.49498019e+00, -2.40231306e+00,  9.02502288e-01],\n",
       "       [-2.24009589e+00, -1.69014319e+00,  8.48541074e-01],\n",
       "       [-3.76263778e+00, -2.55187336e+00, -4.67931106e-01],\n",
       "       [-2.40909964e+00, -1.13673350e+00, -1.30182042e-01],\n",
       "       [-3.37137429e+00, -8.66800753e-01, -3.48648141e-01],\n",
       "       [-1.48306396e+00, -2.75094384e-01,  9.75304483e-01],\n",
       "       [-2.83726793e+00,  9.04848925e-02, -2.89094758e-01],\n",
       "       [-2.00611227e+00,  5.17127291e-01,  1.76166416e-01],\n",
       "       [-2.11166213e+00,  3.20537107e-01,  9.40899883e-01],\n",
       "       [-1.40221513e+00, -8.82375458e-01,  3.63038403e+00],\n",
       "       [-2.13364186e+00, -6.75620272e-01, -4.95358734e-02],\n",
       "       [-1.63101187e+00,  1.19199688e-01, -1.39022414e+00],\n",
       "       [-2.51604400e+00, -7.31079511e-01,  1.47432094e+00],\n",
       "       [-2.57516878e+00, -1.64671425e-01, -1.09685774e+00],\n",
       "       [-2.78240332e+00, -1.24688257e+00,  1.44188772e+00],\n",
       "       [-2.94770787e+00, -1.49060169e+00, -3.22961204e-01],\n",
       "       [-2.01144769e+00, -6.04026073e-02, -1.36002569e-01],\n",
       "       [-2.26555657e+00, -1.75373883e+00,  1.26680041e+00],\n",
       "       [-1.79490143e+00, -7.47466090e-01,  5.43367756e-01],\n",
       "       [-2.22981267e+00, -1.75275270e-01,  4.69556661e-01],\n",
       "       [-1.78077032e+00, -7.27210487e-01,  5.32844526e-01],\n",
       "       [-1.52547897e+00, -1.24004761e-01,  1.23952400e-03],\n",
       "       [-1.88194333e+00,  7.80479640e-01, -1.43358370e+00],\n",
       "       [-2.82857859e+00, -1.90907973e+00, -3.07654527e-01],\n",
       "       [-2.87311241e+00, -8.26911737e-01, -1.13310966e-01],\n",
       "       [-1.09317311e+00, -1.28211472e-01, -8.00656145e-01],\n",
       "       [-3.31578744e+00, -1.17004867e+00, -2.85485390e-01],\n",
       "       [-9.04882440e-01, -3.42409518e-01, -1.98481499e-01],\n",
       "       [-2.41429674e+00,  6.53621937e-02, -6.74613130e-01],\n",
       "       [-1.53175855e+00, -1.81895378e+00,  6.41540190e-02],\n",
       "       [-3.00629547e+00, -1.18579265e+00, -5.34075867e-01],\n",
       "       [-3.07849419e+00, -6.30632937e-01, -1.18330849e+00],\n",
       "       [-2.33930817e+00, -1.24908275e+00, -4.30995226e-02],\n",
       "       [-2.98151969e+00, -1.77685982e+00, -6.58474251e-01],\n",
       "       [-3.45053443e+00, -1.31975836e-01, -2.03934189e+00],\n",
       "       [-3.13298179e+00, -7.37365022e-01,  3.38871319e-02],\n",
       "       [-3.72417608e+00, -1.65011239e+00, -5.08289718e-01],\n",
       "       [-2.55570722e+00, -1.94147518e+00,  4.00566916e-01],\n",
       "       [-2.46454734e+00, -1.07400983e+00, -9.51951591e-01],\n",
       "       [-2.74536354e+00, -1.37841264e+00,  5.39460456e-01],\n",
       "       [-3.01286259e+00, -1.48627429e+00, -6.02493856e-01],\n",
       "       [-2.49607063e+00, -1.24025984e+00,  3.04652748e-01],\n",
       "       [-3.36979148e+00, -1.75968887e+00, -2.68862990e-01],\n",
       "       [ 8.76821929e-01,  2.73370383e+00, -3.86582594e+00],\n",
       "       [ 1.41254525e+00,  1.35529230e+00, -8.48491589e-01],\n",
       "       [ 1.71255237e+00,  8.19440497e-01, -1.63660364e+00],\n",
       "       [-8.89285124e-03,  1.28726451e+00, -1.80993808e+00],\n",
       "       [-1.83514369e+00,  1.96510028e+00, -3.90346333e-02],\n",
       "       [ 5.70953408e-01,  1.85518695e+00,  7.26599197e-01],\n",
       "       [-8.09050459e-01,  7.46502765e-01,  5.95009505e-01],\n",
       "       [-2.03785232e+00,  1.98497438e+00, -2.13103969e+00],\n",
       "       [-1.26304970e-01,  2.49797260e+00, -1.12958556e+00],\n",
       "       [ 7.48537382e-01,  1.77048116e-01, -6.60424263e-01],\n",
       "       [-1.65811456e+00,  1.62567975e+00, -1.41074912e+00],\n",
       "       [ 1.47056027e+00,  8.68824085e-01, -6.23635997e-01],\n",
       "       [-1.47948223e+00,  9.89649871e-01,  2.00272290e+00],\n",
       "       [ 7.16965420e-01,  1.10513811e+00,  8.03892730e-02],\n",
       "       [-2.41492210e+00, -3.16489851e-01,  3.05416315e+00],\n",
       "       [-1.63214571e+00,  1.28022430e+00,  4.66072183e-01],\n",
       "       [ 8.21899574e-01,  2.43706264e+00, -1.60942979e+00],\n",
       "       [-3.10564569e-01,  2.21102808e+00, -2.52932875e+00],\n",
       "       [ 1.36060426e+00,  1.32152526e+00, -2.14805989e-01],\n",
       "       [-1.15608592e+00,  6.78732432e-01, -1.20322197e+00],\n",
       "       [-3.13935361e-01,  1.01763115e+00,  1.82566964e+00],\n",
       "       [-6.69820059e-01,  3.41878273e+00, -3.88067536e-01],\n",
       "       [-9.24294662e-01,  1.49089976e+00, -3.83903237e-01],\n",
       "       [ 4.87036344e-01,  2.43568094e+00,  1.37020727e+00],\n",
       "       [ 2.36659256e+00,  1.32512945e-01,  4.70642728e-01],\n",
       "       [-7.32775429e-01,  1.47525279e+00,  6.23511993e-01],\n",
       "       [-7.06910585e-01,  2.02032083e+00, -2.48132451e-01],\n",
       "       [ 7.69887357e-01,  2.25545790e+00,  7.90085329e-01],\n",
       "       [ 5.51358720e-01,  2.38124196e+00,  2.35829881e+00],\n",
       "       [ 1.05457380e+00,  1.83590455e+00,  9.78631329e-01],\n",
       "       [ 5.48244496e-01,  2.75795438e+00,  8.54512428e-01],\n",
       "       [ 1.25383695e+00,  2.16948494e+00, -4.63121243e-02],\n",
       "       [ 1.46683380e+00,  1.88148411e+00,  7.91935269e-01],\n",
       "       [ 1.79505196e+00,  1.62800142e+00, -9.21865692e-02],\n",
       "       [-6.55386571e-01,  2.34322868e+00,  1.00119695e-01],\n",
       "       [-8.33362665e-01,  2.20414664e+00,  1.35568476e-01],\n",
       "       [-1.94571162e+00,  3.04335942e-01,  4.99194655e-01],\n",
       "       [ 5.40600366e-01,  2.10969005e-01,  1.38895216e+00],\n",
       "       [-9.24278578e-01,  2.61747372e+00, -1.13002112e+00],\n",
       "       [-2.02516075e+00,  1.48146191e+00, -2.69324923e-01],\n",
       "       [-1.28515189e+00,  2.20849256e+00,  7.38264150e-01],\n",
       "       [-7.06340869e-01,  2.39513381e+00, -1.62918029e+00],\n",
       "       [ 5.31195811e-01,  2.34080007e+00, -1.53836399e+00],\n",
       "       [ 1.89579710e-01,  1.15672952e+00,  1.02786038e+00],\n",
       "       [ 6.49473658e-01,  2.74105188e+00, -8.07024913e-01],\n",
       "       [-3.27939373e-01,  2.15952025e+00, -5.04986600e-01],\n",
       "       [ 1.64951948e+00,  1.75272707e+00,  9.54543998e-01],\n",
       "       [ 3.64280327e-01,  2.23277249e+00, -5.15443657e-01],\n",
       "       [ 1.52229077e+00,  1.41009327e+00,  2.84642048e-01],\n",
       "       [-4.06097141e-02,  2.35454121e+00, -5.05442389e-01],\n",
       "       [-1.41896145e+00,  1.46293785e+00,  1.81581558e+00],\n",
       "       [-9.56034781e-01,  1.46313967e+00, -7.25336583e-02],\n",
       "       [ 3.06700840e-01,  1.97024632e+00,  6.96364781e-02],\n",
       "       [ 1.20311595e+00,  6.94107608e-01,  2.08054110e+00],\n",
       "       [ 4.58449998e-01,  2.28644819e+00,  1.08287730e+00],\n",
       "       [ 4.96851304e-01,  1.97607305e+00,  1.34821192e+00],\n",
       "       [-3.24052765e-01,  3.80960910e+00,  1.31359378e+00],\n",
       "       [ 2.73532825e-01,  2.87640442e+00, -3.34372670e-01],\n",
       "       [ 1.34650734e-01,  1.90471141e+00,  7.03338518e-01],\n",
       "       [ 2.26668343e+00,  1.31947050e+00, -1.95159210e+00],\n",
       "       [ 5.34645740e-01,  2.27442672e+00, -3.84640699e-01],\n",
       "       [-6.35835387e-01,  1.40917831e+00,  1.12979764e+00],\n",
       "       [-1.20814077e+00, -1.84189258e-01,  4.98365145e+00],\n",
       "       [ 1.12941225e+00,  6.34113237e-01,  3.07888380e+00],\n",
       "       [ 3.77054953e-01,  7.75464974e-01,  4.17377015e-01],\n",
       "       [-8.41191332e-01,  1.50208764e+00,  1.46047630e+00],\n",
       "       [ 1.34814143e-01,  2.16133900e+00,  4.16292108e-01],\n",
       "       [ 1.67303589e-02,  1.32007437e+00,  6.71580106e-01],\n",
       "       [ 1.47888791e+00,  1.21354118e+00,  3.32652490e+00],\n",
       "       [ 4.89322615e-01,  1.98838817e+00,  1.30430310e+00],\n",
       "       [ 1.69366040e+00,  1.20147871e+00,  7.86252972e-01],\n",
       "       [ 1.76472056e+00, -2.71399934e-01, -1.16804939e+00],\n",
       "       [ 2.75127372e+00, -4.28873549e-01, -7.27410862e-01],\n",
       "       [ 3.27452871e+00, -2.89267785e-01, -1.71615543e-01],\n",
       "       [ 2.54504212e+00, -4.27056388e-01, -4.55195518e-01],\n",
       "       [ 2.71060058e+00,  4.96379097e-01, -1.12619023e+00],\n",
       "       [ 3.35248913e+00, -3.55714228e-01, -1.13203112e+00],\n",
       "       [ 4.14300879e+00, -1.61306665e-01,  2.42494778e-01],\n",
       "       [ 4.13035930e+00, -6.45531719e-01,  1.73241118e+00],\n",
       "       [ 3.37942287e+00, -3.25689336e-01, -1.04982024e+00],\n",
       "       [ 2.73330227e+00, -3.29340163e-01,  1.28600428e+00],\n",
       "       [ 3.08878428e+00, -3.16865856e-01,  6.53271450e-01],\n",
       "       [ 2.64609662e+00, -3.64124018e-01, -9.81187140e-01],\n",
       "       [ 3.28585780e+00, -5.21955339e-01,  1.00464675e+00],\n",
       "       [ 2.72119303e+00, -4.81670441e-01, -2.48860144e-01],\n",
       "       [ 2.59028861e+00, -1.24100800e+00, -1.28974007e+00],\n",
       "       [ 2.95870886e+00, -5.72878858e-01, -8.67493095e-01],\n",
       "       [ 4.48957134e+00, -6.08087291e-01, -1.48784507e+00],\n",
       "       [ 3.85883980e+00, -1.26830073e+00, -1.29717565e-01],\n",
       "       [ 3.14619796e+00, -1.56972901e+00, -5.00398387e-01],\n",
       "       [ 3.23925141e+00, -2.12546826e+00, -5.25751707e-01],\n",
       "       [ 2.71401629e+00, -2.47911126e+00,  4.52044730e-01],\n",
       "       [ 2.92855715e+00, -2.10499050e+00, -3.38028899e-01],\n",
       "       [ 2.25180820e+00, -1.61769828e+00,  1.40017063e+00],\n",
       "       [ 3.08521307e+00, -2.15445718e+00, -1.01886712e+00],\n",
       "       [ 3.06746808e+00, -4.28208615e-01, -1.23639811e+00],\n",
       "       [ 3.86827307e+00, -1.80061787e+00, -1.21386179e-01],\n",
       "       [ 3.21368939e+00, -1.91635522e+00, -8.21589680e-01],\n",
       "       [ 3.68286477e+00, -1.33410508e+00,  1.62799729e+00],\n",
       "       [ 1.44914467e+00, -2.98287698e+00,  1.30097922e+00],\n",
       "       [ 2.00997345e+00, -2.14504430e+00,  5.93737540e-01],\n",
       "       [ 3.46017777e+00, -7.31822818e-01, -1.21509665e-01],\n",
       "       [ 2.58919223e+00, -1.23730198e+00, -6.85040569e-02],\n",
       "       [ 3.15353137e+00, -6.14501751e-01,  8.38916630e-01],\n",
       "       [ 2.92830584e+00, -7.50269118e-01, -8.86959673e-01],\n",
       "       [ 3.27590295e+00, -1.55192331e+00, -1.02535794e+00],\n",
       "       [ 3.79613334e+00, -8.63399882e-01, -4.89399077e-01],\n",
       "       [ 2.77452033e+00, -2.67742204e+00,  4.27490264e-01],\n",
       "       [ 3.25703126e+00, -1.28090872e+00, -1.27178831e+00],\n",
       "       [ 2.56784276e+00, -2.13358678e+00,  7.83527793e-01],\n",
       "       [ 2.76901244e+00, -2.69032265e+00,  1.45730095e+00],\n",
       "       [ 3.50477724e+00,  2.25024488e-01, -8.66697123e-01],\n",
       "       [ 3.94704074e+00, -8.42213036e-01, -1.39769496e+00],\n",
       "       [ 2.82024093e+00, -2.19587388e+00, -9.42426868e-01],\n",
       "       [ 3.57582127e+00, -2.16511512e+00, -3.78913694e-01],\n",
       "       [ 2.95156832e+00, -1.79318251e+00,  2.10665378e-01],\n",
       "       [ 3.01960071e+00, -2.86091130e+00, -9.75718783e-01],\n",
       "       [ 2.73930763e+00, -2.39059456e+00, -5.62448890e-01],\n",
       "       [ 3.51359181e+00, -2.79305368e+00,  1.03399921e+00]])"
      ]
     },
     "execution_count": 162,
     "metadata": {},
     "output_type": "execute_result"
    }
   ],
   "source": [
    "transformed_data = principalComponents.fit_transform(X_train_1)  ### only give data which is transformed ( principal component)\n",
    "transformed_data"
   ]
  },
  {
   "cell_type": "code",
   "execution_count": 163,
   "id": "a4e2e9bd",
   "metadata": {},
   "outputs": [
    {
     "name": "stdout",
     "output_type": "stream",
     "text": [
      "original shape:    (178, 14)\n",
      "transformed shape: (178, 3)\n"
     ]
    }
   ],
   "source": [
    "print(\"original shape:   \", X_train_1.shape)\n",
    "print(\"transformed shape:\", transformed_data.shape)"
   ]
  },
  {
   "cell_type": "code",
   "execution_count": 164,
   "id": "96838771",
   "metadata": {},
   "outputs": [
    {
     "data": {
      "text/html": [
       "<div>\n",
       "<style scoped>\n",
       "    .dataframe tbody tr th:only-of-type {\n",
       "        vertical-align: middle;\n",
       "    }\n",
       "\n",
       "    .dataframe tbody tr th {\n",
       "        vertical-align: top;\n",
       "    }\n",
       "\n",
       "    .dataframe thead th {\n",
       "        text-align: right;\n",
       "    }\n",
       "</style>\n",
       "<table border=\"1\" class=\"dataframe\">\n",
       "  <thead>\n",
       "    <tr style=\"text-align: right;\">\n",
       "      <th></th>\n",
       "      <th>Data PC1</th>\n",
       "      <th>Data PC2</th>\n",
       "      <th>Data PC3</th>\n",
       "    </tr>\n",
       "  </thead>\n",
       "  <tbody>\n",
       "    <tr>\n",
       "      <th>0</th>\n",
       "      <td>-3.561968</td>\n",
       "      <td>-1.528967</td>\n",
       "      <td>-0.130558</td>\n",
       "    </tr>\n",
       "    <tr>\n",
       "      <th>1</th>\n",
       "      <td>-2.544330</td>\n",
       "      <td>0.329993</td>\n",
       "      <td>-2.041603</td>\n",
       "    </tr>\n",
       "    <tr>\n",
       "      <th>2</th>\n",
       "      <td>-2.806546</td>\n",
       "      <td>-1.042225</td>\n",
       "      <td>1.016791</td>\n",
       "    </tr>\n",
       "    <tr>\n",
       "      <th>3</th>\n",
       "      <td>-3.944287</td>\n",
       "      <td>-2.793264</td>\n",
       "      <td>-0.154956</td>\n",
       "    </tr>\n",
       "    <tr>\n",
       "      <th>4</th>\n",
       "      <td>-1.415866</td>\n",
       "      <td>-0.953430</td>\n",
       "      <td>2.117093</td>\n",
       "    </tr>\n",
       "  </tbody>\n",
       "</table>\n",
       "</div>"
      ],
      "text/plain": [
       "   Data PC1  Data PC2  Data PC3\n",
       "0 -3.561968 -1.528967 -0.130558\n",
       "1 -2.544330  0.329993 -2.041603\n",
       "2 -2.806546 -1.042225  1.016791\n",
       "3 -3.944287 -2.793264 -0.154956\n",
       "4 -1.415866 -0.953430  2.117093"
      ]
     },
     "execution_count": 164,
     "metadata": {},
     "output_type": "execute_result"
    }
   ],
   "source": [
    "principalDf = pd.DataFrame(data = transformed_data\n",
    "             , columns = ['Data PC1', 'Data PC2', 'Data PC3'])\n",
    "principalDf.head()"
   ]
  },
  {
   "cell_type": "markdown",
   "id": "42d240c4",
   "metadata": {},
   "source": [
    "# Identify variable is combining together in Which PCA"
   ]
  },
  {
   "cell_type": "code",
   "execution_count": 165,
   "id": "88beefeb",
   "metadata": {},
   "outputs": [
    {
     "data": {
      "text/html": [
       "<div>\n",
       "<style scoped>\n",
       "    .dataframe tbody tr th:only-of-type {\n",
       "        vertical-align: middle;\n",
       "    }\n",
       "\n",
       "    .dataframe tbody tr th {\n",
       "        vertical-align: top;\n",
       "    }\n",
       "\n",
       "    .dataframe thead th {\n",
       "        text-align: right;\n",
       "    }\n",
       "</style>\n",
       "<table border=\"1\" class=\"dataframe\">\n",
       "  <thead>\n",
       "    <tr style=\"text-align: right;\">\n",
       "      <th></th>\n",
       "      <th>Alcohol</th>\n",
       "      <th>Malic_Acid</th>\n",
       "      <th>Ash</th>\n",
       "      <th>Ash_Alcanity</th>\n",
       "      <th>Magnesium</th>\n",
       "      <th>Total_Phenols</th>\n",
       "      <th>Flavanoids</th>\n",
       "      <th>Nonflavanoid_Phenols</th>\n",
       "      <th>Proanthocyanins</th>\n",
       "      <th>Color_Intensity</th>\n",
       "      <th>Hue</th>\n",
       "      <th>OD280</th>\n",
       "      <th>Proline</th>\n",
       "    </tr>\n",
       "  </thead>\n",
       "  <tbody>\n",
       "    <tr>\n",
       "      <th>0</th>\n",
       "      <td>14.23</td>\n",
       "      <td>1.71</td>\n",
       "      <td>2.43</td>\n",
       "      <td>15.6</td>\n",
       "      <td>127.0</td>\n",
       "      <td>2.80</td>\n",
       "      <td>3.06</td>\n",
       "      <td>0.28</td>\n",
       "      <td>2.29</td>\n",
       "      <td>5.64</td>\n",
       "      <td>1.04</td>\n",
       "      <td>3.92</td>\n",
       "      <td>1065</td>\n",
       "    </tr>\n",
       "    <tr>\n",
       "      <th>1</th>\n",
       "      <td>13.20</td>\n",
       "      <td>1.78</td>\n",
       "      <td>2.14</td>\n",
       "      <td>11.2</td>\n",
       "      <td>100.0</td>\n",
       "      <td>2.65</td>\n",
       "      <td>2.76</td>\n",
       "      <td>0.26</td>\n",
       "      <td>1.28</td>\n",
       "      <td>4.38</td>\n",
       "      <td>1.05</td>\n",
       "      <td>3.40</td>\n",
       "      <td>1050</td>\n",
       "    </tr>\n",
       "    <tr>\n",
       "      <th>2</th>\n",
       "      <td>13.16</td>\n",
       "      <td>2.36</td>\n",
       "      <td>2.67</td>\n",
       "      <td>18.6</td>\n",
       "      <td>101.0</td>\n",
       "      <td>2.80</td>\n",
       "      <td>3.24</td>\n",
       "      <td>0.30</td>\n",
       "      <td>2.81</td>\n",
       "      <td>5.68</td>\n",
       "      <td>1.03</td>\n",
       "      <td>3.17</td>\n",
       "      <td>1185</td>\n",
       "    </tr>\n",
       "    <tr>\n",
       "      <th>3</th>\n",
       "      <td>14.37</td>\n",
       "      <td>1.95</td>\n",
       "      <td>2.50</td>\n",
       "      <td>16.8</td>\n",
       "      <td>113.0</td>\n",
       "      <td>3.85</td>\n",
       "      <td>3.49</td>\n",
       "      <td>0.24</td>\n",
       "      <td>2.18</td>\n",
       "      <td>7.80</td>\n",
       "      <td>0.86</td>\n",
       "      <td>3.45</td>\n",
       "      <td>1480</td>\n",
       "    </tr>\n",
       "    <tr>\n",
       "      <th>4</th>\n",
       "      <td>13.24</td>\n",
       "      <td>2.59</td>\n",
       "      <td>2.87</td>\n",
       "      <td>21.0</td>\n",
       "      <td>118.0</td>\n",
       "      <td>2.80</td>\n",
       "      <td>2.69</td>\n",
       "      <td>0.39</td>\n",
       "      <td>1.82</td>\n",
       "      <td>4.32</td>\n",
       "      <td>1.04</td>\n",
       "      <td>2.93</td>\n",
       "      <td>735</td>\n",
       "    </tr>\n",
       "  </tbody>\n",
       "</table>\n",
       "</div>"
      ],
      "text/plain": [
       "   Alcohol  Malic_Acid   Ash  Ash_Alcanity  Magnesium  Total_Phenols  \\\n",
       "0    14.23        1.71  2.43          15.6      127.0           2.80   \n",
       "1    13.20        1.78  2.14          11.2      100.0           2.65   \n",
       "2    13.16        2.36  2.67          18.6      101.0           2.80   \n",
       "3    14.37        1.95  2.50          16.8      113.0           3.85   \n",
       "4    13.24        2.59  2.87          21.0      118.0           2.80   \n",
       "\n",
       "   Flavanoids  Nonflavanoid_Phenols  Proanthocyanins  Color_Intensity   Hue  \\\n",
       "0        3.06                  0.28             2.29             5.64  1.04   \n",
       "1        2.76                  0.26             1.28             4.38  1.05   \n",
       "2        3.24                  0.30             2.81             5.68  1.03   \n",
       "3        3.49                  0.24             2.18             7.80  0.86   \n",
       "4        2.69                  0.39             1.82             4.32  1.04   \n",
       "\n",
       "   OD280  Proline  \n",
       "0   3.92     1065  \n",
       "1   3.40     1050  \n",
       "2   3.17     1185  \n",
       "3   3.45     1480  \n",
       "4   2.93      735  "
      ]
     },
     "execution_count": 165,
     "metadata": {},
     "output_type": "execute_result"
    }
   ],
   "source": [
    "numeric_predictors_1=['Alcohol', 'Malic_Acid', 'Ash', 'Ash_Alcanity', 'Magnesium',\n",
    "       'Total_Phenols', 'Flavanoids', 'Nonflavanoid_Phenols',\n",
    "       'Proanthocyanins', 'Color_Intensity', 'Hue', 'OD280', 'Proline']\n",
    "scaled_train=pd.DataFrame(X_train,columns=numeric_predictors_1)\n",
    "scaled_train.head()"
   ]
  },
  {
   "cell_type": "code",
   "execution_count": 166,
   "id": "f9bfee5b",
   "metadata": {},
   "outputs": [
    {
     "data": {
      "text/html": [
       "<div>\n",
       "<style scoped>\n",
       "    .dataframe tbody tr th:only-of-type {\n",
       "        vertical-align: middle;\n",
       "    }\n",
       "\n",
       "    .dataframe tbody tr th {\n",
       "        vertical-align: top;\n",
       "    }\n",
       "\n",
       "    .dataframe thead th {\n",
       "        text-align: right;\n",
       "    }\n",
       "</style>\n",
       "<table border=\"1\" class=\"dataframe\">\n",
       "  <thead>\n",
       "    <tr style=\"text-align: right;\">\n",
       "      <th></th>\n",
       "      <th>Alcohol</th>\n",
       "      <th>Malic_Acid</th>\n",
       "      <th>Ash</th>\n",
       "      <th>Ash_Alcanity</th>\n",
       "      <th>Magnesium</th>\n",
       "      <th>Total_Phenols</th>\n",
       "      <th>Flavanoids</th>\n",
       "      <th>Nonflavanoid_Phenols</th>\n",
       "      <th>Proanthocyanins</th>\n",
       "      <th>Color_Intensity</th>\n",
       "      <th>Hue</th>\n",
       "      <th>OD280</th>\n",
       "      <th>Proline</th>\n",
       "      <th>Data PC1</th>\n",
       "      <th>Data PC2</th>\n",
       "      <th>Data PC3</th>\n",
       "    </tr>\n",
       "  </thead>\n",
       "  <tbody>\n",
       "    <tr>\n",
       "      <th>0</th>\n",
       "      <td>14.23</td>\n",
       "      <td>1.71</td>\n",
       "      <td>2.43</td>\n",
       "      <td>15.6</td>\n",
       "      <td>127.0</td>\n",
       "      <td>2.80</td>\n",
       "      <td>3.06</td>\n",
       "      <td>0.28</td>\n",
       "      <td>2.29</td>\n",
       "      <td>5.64</td>\n",
       "      <td>1.04</td>\n",
       "      <td>3.92</td>\n",
       "      <td>1065</td>\n",
       "      <td>-3.561968</td>\n",
       "      <td>-1.528967</td>\n",
       "      <td>-0.130558</td>\n",
       "    </tr>\n",
       "    <tr>\n",
       "      <th>1</th>\n",
       "      <td>13.20</td>\n",
       "      <td>1.78</td>\n",
       "      <td>2.14</td>\n",
       "      <td>11.2</td>\n",
       "      <td>100.0</td>\n",
       "      <td>2.65</td>\n",
       "      <td>2.76</td>\n",
       "      <td>0.26</td>\n",
       "      <td>1.28</td>\n",
       "      <td>4.38</td>\n",
       "      <td>1.05</td>\n",
       "      <td>3.40</td>\n",
       "      <td>1050</td>\n",
       "      <td>-2.544330</td>\n",
       "      <td>0.329993</td>\n",
       "      <td>-2.041603</td>\n",
       "    </tr>\n",
       "    <tr>\n",
       "      <th>2</th>\n",
       "      <td>13.16</td>\n",
       "      <td>2.36</td>\n",
       "      <td>2.67</td>\n",
       "      <td>18.6</td>\n",
       "      <td>101.0</td>\n",
       "      <td>2.80</td>\n",
       "      <td>3.24</td>\n",
       "      <td>0.30</td>\n",
       "      <td>2.81</td>\n",
       "      <td>5.68</td>\n",
       "      <td>1.03</td>\n",
       "      <td>3.17</td>\n",
       "      <td>1185</td>\n",
       "      <td>-2.806546</td>\n",
       "      <td>-1.042225</td>\n",
       "      <td>1.016791</td>\n",
       "    </tr>\n",
       "    <tr>\n",
       "      <th>3</th>\n",
       "      <td>14.37</td>\n",
       "      <td>1.95</td>\n",
       "      <td>2.50</td>\n",
       "      <td>16.8</td>\n",
       "      <td>113.0</td>\n",
       "      <td>3.85</td>\n",
       "      <td>3.49</td>\n",
       "      <td>0.24</td>\n",
       "      <td>2.18</td>\n",
       "      <td>7.80</td>\n",
       "      <td>0.86</td>\n",
       "      <td>3.45</td>\n",
       "      <td>1480</td>\n",
       "      <td>-3.944287</td>\n",
       "      <td>-2.793264</td>\n",
       "      <td>-0.154956</td>\n",
       "    </tr>\n",
       "    <tr>\n",
       "      <th>4</th>\n",
       "      <td>13.24</td>\n",
       "      <td>2.59</td>\n",
       "      <td>2.87</td>\n",
       "      <td>21.0</td>\n",
       "      <td>118.0</td>\n",
       "      <td>2.80</td>\n",
       "      <td>2.69</td>\n",
       "      <td>0.39</td>\n",
       "      <td>1.82</td>\n",
       "      <td>4.32</td>\n",
       "      <td>1.04</td>\n",
       "      <td>2.93</td>\n",
       "      <td>735</td>\n",
       "      <td>-1.415866</td>\n",
       "      <td>-0.953430</td>\n",
       "      <td>2.117093</td>\n",
       "    </tr>\n",
       "  </tbody>\n",
       "</table>\n",
       "</div>"
      ],
      "text/plain": [
       "   Alcohol  Malic_Acid   Ash  Ash_Alcanity  Magnesium  Total_Phenols  \\\n",
       "0    14.23        1.71  2.43          15.6      127.0           2.80   \n",
       "1    13.20        1.78  2.14          11.2      100.0           2.65   \n",
       "2    13.16        2.36  2.67          18.6      101.0           2.80   \n",
       "3    14.37        1.95  2.50          16.8      113.0           3.85   \n",
       "4    13.24        2.59  2.87          21.0      118.0           2.80   \n",
       "\n",
       "   Flavanoids  Nonflavanoid_Phenols  Proanthocyanins  Color_Intensity   Hue  \\\n",
       "0        3.06                  0.28             2.29             5.64  1.04   \n",
       "1        2.76                  0.26             1.28             4.38  1.05   \n",
       "2        3.24                  0.30             2.81             5.68  1.03   \n",
       "3        3.49                  0.24             2.18             7.80  0.86   \n",
       "4        2.69                  0.39             1.82             4.32  1.04   \n",
       "\n",
       "   OD280  Proline  Data PC1  Data PC2  Data PC3  \n",
       "0   3.92     1065 -3.561968 -1.528967 -0.130558  \n",
       "1   3.40     1050 -2.544330  0.329993 -2.041603  \n",
       "2   3.17     1185 -2.806546 -1.042225  1.016791  \n",
       "3   3.45     1480 -3.944287 -2.793264 -0.154956  \n",
       "4   2.93      735 -1.415866 -0.953430  2.117093  "
      ]
     },
     "execution_count": 166,
     "metadata": {},
     "output_type": "execute_result"
    }
   ],
   "source": [
    "final_data = pd.concat([scaled_train,principalDf],axis=1)\n",
    "final_data.head()"
   ]
  },
  {
   "cell_type": "code",
   "execution_count": 167,
   "id": "f49e41a2",
   "metadata": {},
   "outputs": [
    {
     "data": {
      "text/html": [
       "<style type=\"text/css\">\n",
       "#T_421d1_row0_col1, #T_421d1_row1_col0, #T_421d1_row2_col1, #T_421d1_row2_col2, #T_421d1_row3_col0, #T_421d1_row3_col2, #T_421d1_row4_col1, #T_421d1_row5_col0, #T_421d1_row6_col0, #T_421d1_row7_col0, #T_421d1_row8_col0, #T_421d1_row9_col1, #T_421d1_row10_col0, #T_421d1_row11_col0, #T_421d1_row12_col0, #T_421d1_row12_col1 {\n",
       "  background-color: yellow;\n",
       "}\n",
       "</style>\n",
       "<table id=\"T_421d1\">\n",
       "  <thead>\n",
       "    <tr>\n",
       "      <th class=\"blank level0\" >&nbsp;</th>\n",
       "      <th id=\"T_421d1_level0_col0\" class=\"col_heading level0 col0\" >Data PC1</th>\n",
       "      <th id=\"T_421d1_level0_col1\" class=\"col_heading level0 col1\" >Data PC2</th>\n",
       "      <th id=\"T_421d1_level0_col2\" class=\"col_heading level0 col2\" >Data PC3</th>\n",
       "    </tr>\n",
       "  </thead>\n",
       "  <tbody>\n",
       "    <tr>\n",
       "      <th id=\"T_421d1_level0_row0\" class=\"row_heading level0 row0\" >Alcohol</th>\n",
       "      <td id=\"T_421d1_row0_col0\" class=\"data row0 col0\" >32.500000</td>\n",
       "      <td id=\"T_421d1_row0_col1\" class=\"data row0 col1\" >76.100000</td>\n",
       "      <td id=\"T_421d1_row0_col2\" class=\"data row0 col2\" >24.100000</td>\n",
       "    </tr>\n",
       "    <tr>\n",
       "      <th id=\"T_421d1_level0_row1\" class=\"row_heading level0 row1\" >Malic_Acid</th>\n",
       "      <td id=\"T_421d1_row1_col0\" class=\"data row1 col0\" >52.700000</td>\n",
       "      <td id=\"T_421d1_row1_col1\" class=\"data row1 col1\" >36.000000</td>\n",
       "      <td id=\"T_421d1_row1_col2\" class=\"data row1 col2\" >10.300000</td>\n",
       "    </tr>\n",
       "    <tr>\n",
       "      <th id=\"T_421d1_level0_row2\" class=\"row_heading level0 row2\" >Ash</th>\n",
       "      <td id=\"T_421d1_row2_col0\" class=\"data row2 col0\" >0.200000</td>\n",
       "      <td id=\"T_421d1_row2_col1\" class=\"data row2 col1\" >50.900000</td>\n",
       "      <td id=\"T_421d1_row2_col2\" class=\"data row2 col2\" >75.000000</td>\n",
       "    </tr>\n",
       "    <tr>\n",
       "      <th id=\"T_421d1_level0_row3\" class=\"row_heading level0 row3\" >Ash_Alcanity</th>\n",
       "      <td id=\"T_421d1_row3_col0\" class=\"data row3 col0\" >54.000000</td>\n",
       "      <td id=\"T_421d1_row3_col1\" class=\"data row3 col1\" >2.500000</td>\n",
       "      <td id=\"T_421d1_row3_col2\" class=\"data row3 col2\" >72.400000</td>\n",
       "    </tr>\n",
       "    <tr>\n",
       "      <th id=\"T_421d1_level0_row4\" class=\"row_heading level0 row4\" >Magnesium</th>\n",
       "      <td id=\"T_421d1_row4_col0\" class=\"data row4 col0\" >29.500000</td>\n",
       "      <td id=\"T_421d1_row4_col1\" class=\"data row4 col1\" >52.100000</td>\n",
       "      <td id=\"T_421d1_row4_col2\" class=\"data row4 col2\" >15.900000</td>\n",
       "    </tr>\n",
       "    <tr>\n",
       "      <th id=\"T_421d1_level0_row5\" class=\"row_heading level0 row5\" >Total_Phenols</th>\n",
       "      <td id=\"T_421d1_row5_col0\" class=\"data row5 col0\" >84.600000</td>\n",
       "      <td id=\"T_421d1_row5_col1\" class=\"data row5 col1\" >9.800000</td>\n",
       "      <td id=\"T_421d1_row5_col2\" class=\"data row5 col2\" >17.700000</td>\n",
       "    </tr>\n",
       "    <tr>\n",
       "      <th id=\"T_421d1_level0_row6\" class=\"row_heading level0 row6\" >Flavanoids</th>\n",
       "      <td id=\"T_421d1_row6_col0\" class=\"data row6 col0\" >92.000000</td>\n",
       "      <td id=\"T_421d1_row6_col1\" class=\"data row6 col1\" >0.700000</td>\n",
       "      <td id=\"T_421d1_row6_col2\" class=\"data row6 col2\" >17.600000</td>\n",
       "    </tr>\n",
       "    <tr>\n",
       "      <th id=\"T_421d1_level0_row7\" class=\"row_heading level0 row7\" >Nonflavanoid_Phenols</th>\n",
       "      <td id=\"T_421d1_row7_col0\" class=\"data row7 col0\" >62.700000</td>\n",
       "      <td id=\"T_421d1_row7_col1\" class=\"data row7 col1\" >4.000000</td>\n",
       "      <td id=\"T_421d1_row7_col2\" class=\"data row7 col2\" >20.800000</td>\n",
       "    </tr>\n",
       "    <tr>\n",
       "      <th id=\"T_421d1_level0_row8\" class=\"row_heading level0 row8\" >Proanthocyanins</th>\n",
       "      <td id=\"T_421d1_row8_col0\" class=\"data row8 col0\" >66.600000</td>\n",
       "      <td id=\"T_421d1_row8_col1\" class=\"data row8 col1\" >5.100000</td>\n",
       "      <td id=\"T_421d1_row8_col2\" class=\"data row8 col2\" >16.900000</td>\n",
       "    </tr>\n",
       "    <tr>\n",
       "      <th id=\"T_421d1_level0_row9\" class=\"row_heading level0 row9\" >Color_Intensity</th>\n",
       "      <td id=\"T_421d1_row9_col0\" class=\"data row9 col0\" >20.500000</td>\n",
       "      <td id=\"T_421d1_row9_col1\" class=\"data row9 col1\" >83.800000</td>\n",
       "      <td id=\"T_421d1_row9_col2\" class=\"data row9 col2\" >18.000000</td>\n",
       "    </tr>\n",
       "    <tr>\n",
       "      <th id=\"T_421d1_level0_row10\" class=\"row_heading level0 row10\" >Hue</th>\n",
       "      <td id=\"T_421d1_row10_col0\" class=\"data row10 col0\" >65.400000</td>\n",
       "      <td id=\"T_421d1_row10_col1\" class=\"data row10 col1\" >43.500000</td>\n",
       "      <td id=\"T_421d1_row10_col2\" class=\"data row10 col2\" >10.500000</td>\n",
       "    </tr>\n",
       "    <tr>\n",
       "      <th id=\"T_421d1_level0_row11\" class=\"row_heading level0 row11\" >OD280</th>\n",
       "      <td id=\"T_421d1_row11_col0\" class=\"data row11 col0\" >82.400000</td>\n",
       "      <td id=\"T_421d1_row11_col1\" class=\"data row11 col1\" >26.300000</td>\n",
       "      <td id=\"T_421d1_row11_col2\" class=\"data row11 col2\" >19.700000</td>\n",
       "    </tr>\n",
       "    <tr>\n",
       "      <th id=\"T_421d1_level0_row12\" class=\"row_heading level0 row12\" >Proline</th>\n",
       "      <td id=\"T_421d1_row12_col0\" class=\"data row12 col0\" >63.600000</td>\n",
       "      <td id=\"T_421d1_row12_col1\" class=\"data row12 col1\" >57.900000</td>\n",
       "      <td id=\"T_421d1_row12_col2\" class=\"data row12 col2\" >14.700000</td>\n",
       "    </tr>\n",
       "  </tbody>\n",
       "</table>\n"
      ],
      "text/plain": [
       "<pandas.io.formats.style.Styler at 0x2bc24e71790>"
      ]
     },
     "execution_count": 167,
     "metadata": {},
     "output_type": "execute_result"
    }
   ],
   "source": [
    "Correlation_Matrix=pd.DataFrame(round(final_data.corr(),3))*100\n",
    "Correlation_Matrix=abs(Correlation_Matrix.iloc[0:13,13:16])\n",
    "Correlation_Matrix.style.applymap(lambda x: 'background-color : yellow' if x > 50 else '')"
   ]
  },
  {
   "cell_type": "markdown",
   "id": "f055ce3e",
   "metadata": {},
   "source": [
    "Data PC1 = Malic_Acid,Total_Phenols,Flavanoids,Nonflavanoid_Phenols,Proanthocyanins,Hue,OD280,Proline\n",
    "\n",
    "Data PC2 = Alcohol,Magnesium,Color_Intensity\n",
    "\n",
    "Data PC3 = Ash,Ash_Alcanity"
   ]
  },
  {
   "cell_type": "code",
   "execution_count": null,
   "id": "5ffc077c",
   "metadata": {},
   "outputs": [],
   "source": []
  },
  {
   "cell_type": "code",
   "execution_count": 168,
   "id": "c100bc6f",
   "metadata": {},
   "outputs": [
    {
     "data": {
      "text/html": [
       "<div>\n",
       "<style scoped>\n",
       "    .dataframe tbody tr th:only-of-type {\n",
       "        vertical-align: middle;\n",
       "    }\n",
       "\n",
       "    .dataframe tbody tr th {\n",
       "        vertical-align: top;\n",
       "    }\n",
       "\n",
       "    .dataframe thead th {\n",
       "        text-align: right;\n",
       "    }\n",
       "</style>\n",
       "<table border=\"1\" class=\"dataframe\">\n",
       "  <thead>\n",
       "    <tr style=\"text-align: right;\">\n",
       "      <th></th>\n",
       "      <th>Data PC1</th>\n",
       "      <th>Data PC2</th>\n",
       "      <th>Data PC3</th>\n",
       "      <th>Customer_Segment</th>\n",
       "    </tr>\n",
       "  </thead>\n",
       "  <tbody>\n",
       "    <tr>\n",
       "      <th>0</th>\n",
       "      <td>-3.561968</td>\n",
       "      <td>-1.528967</td>\n",
       "      <td>-0.130558</td>\n",
       "      <td>1</td>\n",
       "    </tr>\n",
       "    <tr>\n",
       "      <th>1</th>\n",
       "      <td>-2.544330</td>\n",
       "      <td>0.329993</td>\n",
       "      <td>-2.041603</td>\n",
       "      <td>1</td>\n",
       "    </tr>\n",
       "    <tr>\n",
       "      <th>2</th>\n",
       "      <td>-2.806546</td>\n",
       "      <td>-1.042225</td>\n",
       "      <td>1.016791</td>\n",
       "      <td>1</td>\n",
       "    </tr>\n",
       "    <tr>\n",
       "      <th>3</th>\n",
       "      <td>-3.944287</td>\n",
       "      <td>-2.793264</td>\n",
       "      <td>-0.154956</td>\n",
       "      <td>1</td>\n",
       "    </tr>\n",
       "    <tr>\n",
       "      <th>4</th>\n",
       "      <td>-1.415866</td>\n",
       "      <td>-0.953430</td>\n",
       "      <td>2.117093</td>\n",
       "      <td>1</td>\n",
       "    </tr>\n",
       "    <tr>\n",
       "      <th>...</th>\n",
       "      <td>...</td>\n",
       "      <td>...</td>\n",
       "      <td>...</td>\n",
       "      <td>...</td>\n",
       "    </tr>\n",
       "    <tr>\n",
       "      <th>173</th>\n",
       "      <td>3.575821</td>\n",
       "      <td>-2.165115</td>\n",
       "      <td>-0.378914</td>\n",
       "      <td>3</td>\n",
       "    </tr>\n",
       "    <tr>\n",
       "      <th>174</th>\n",
       "      <td>2.951568</td>\n",
       "      <td>-1.793183</td>\n",
       "      <td>0.210665</td>\n",
       "      <td>3</td>\n",
       "    </tr>\n",
       "    <tr>\n",
       "      <th>175</th>\n",
       "      <td>3.019601</td>\n",
       "      <td>-2.860911</td>\n",
       "      <td>-0.975719</td>\n",
       "      <td>3</td>\n",
       "    </tr>\n",
       "    <tr>\n",
       "      <th>176</th>\n",
       "      <td>2.739308</td>\n",
       "      <td>-2.390595</td>\n",
       "      <td>-0.562449</td>\n",
       "      <td>3</td>\n",
       "    </tr>\n",
       "    <tr>\n",
       "      <th>177</th>\n",
       "      <td>3.513592</td>\n",
       "      <td>-2.793054</td>\n",
       "      <td>1.033999</td>\n",
       "      <td>3</td>\n",
       "    </tr>\n",
       "  </tbody>\n",
       "</table>\n",
       "<p>178 rows × 4 columns</p>\n",
       "</div>"
      ],
      "text/plain": [
       "     Data PC1  Data PC2  Data PC3  Customer_Segment\n",
       "0   -3.561968 -1.528967 -0.130558                 1\n",
       "1   -2.544330  0.329993 -2.041603                 1\n",
       "2   -2.806546 -1.042225  1.016791                 1\n",
       "3   -3.944287 -2.793264 -0.154956                 1\n",
       "4   -1.415866 -0.953430  2.117093                 1\n",
       "..        ...       ...       ...               ...\n",
       "173  3.575821 -2.165115 -0.378914                 3\n",
       "174  2.951568 -1.793183  0.210665                 3\n",
       "175  3.019601 -2.860911 -0.975719                 3\n",
       "176  2.739308 -2.390595 -0.562449                 3\n",
       "177  3.513592 -2.793054  1.033999                 3\n",
       "\n",
       "[178 rows x 4 columns]"
      ]
     },
     "execution_count": 168,
     "metadata": {},
     "output_type": "execute_result"
    }
   ],
   "source": [
    "train = pd.concat([principalDf,y_train],axis=1)\n",
    "train"
   ]
  },
  {
   "cell_type": "markdown",
   "id": "a4dd0150",
   "metadata": {},
   "source": [
    "# Q :3\n",
    "Build a Decision Tree Classifier as dataset contains more than 2 values in Customer_Segment comment about its accuracy.\n",
    "\n"
   ]
  },
  {
   "cell_type": "code",
   "execution_count": 169,
   "id": "6794cacf",
   "metadata": {},
   "outputs": [
    {
     "data": {
      "text/plain": [
       "2    71\n",
       "1    59\n",
       "3    48\n",
       "Name: Customer_Segment, dtype: int64"
      ]
     },
     "execution_count": 169,
     "metadata": {},
     "output_type": "execute_result"
    }
   ],
   "source": [
    "wine.Customer_Segment.value_counts()"
   ]
  },
  {
   "cell_type": "code",
   "execution_count": 171,
   "id": "00f6c950",
   "metadata": {},
   "outputs": [
    {
     "data": {
      "text/html": [
       "<div>\n",
       "<style scoped>\n",
       "    .dataframe tbody tr th:only-of-type {\n",
       "        vertical-align: middle;\n",
       "    }\n",
       "\n",
       "    .dataframe tbody tr th {\n",
       "        vertical-align: top;\n",
       "    }\n",
       "\n",
       "    .dataframe thead th {\n",
       "        text-align: right;\n",
       "    }\n",
       "</style>\n",
       "<table border=\"1\" class=\"dataframe\">\n",
       "  <thead>\n",
       "    <tr style=\"text-align: right;\">\n",
       "      <th></th>\n",
       "      <th>Data PC1</th>\n",
       "      <th>Data PC2</th>\n",
       "      <th>Data PC3</th>\n",
       "      <th>Customer_Segment</th>\n",
       "    </tr>\n",
       "  </thead>\n",
       "  <tbody>\n",
       "    <tr>\n",
       "      <th>0</th>\n",
       "      <td>-3.561968</td>\n",
       "      <td>-1.528967</td>\n",
       "      <td>-0.130558</td>\n",
       "      <td>1</td>\n",
       "    </tr>\n",
       "    <tr>\n",
       "      <th>1</th>\n",
       "      <td>-2.544330</td>\n",
       "      <td>0.329993</td>\n",
       "      <td>-2.041603</td>\n",
       "      <td>1</td>\n",
       "    </tr>\n",
       "    <tr>\n",
       "      <th>2</th>\n",
       "      <td>-2.806546</td>\n",
       "      <td>-1.042225</td>\n",
       "      <td>1.016791</td>\n",
       "      <td>1</td>\n",
       "    </tr>\n",
       "    <tr>\n",
       "      <th>3</th>\n",
       "      <td>-3.944287</td>\n",
       "      <td>-2.793264</td>\n",
       "      <td>-0.154956</td>\n",
       "      <td>1</td>\n",
       "    </tr>\n",
       "    <tr>\n",
       "      <th>4</th>\n",
       "      <td>-1.415866</td>\n",
       "      <td>-0.953430</td>\n",
       "      <td>2.117093</td>\n",
       "      <td>1</td>\n",
       "    </tr>\n",
       "    <tr>\n",
       "      <th>...</th>\n",
       "      <td>...</td>\n",
       "      <td>...</td>\n",
       "      <td>...</td>\n",
       "      <td>...</td>\n",
       "    </tr>\n",
       "    <tr>\n",
       "      <th>173</th>\n",
       "      <td>3.575821</td>\n",
       "      <td>-2.165115</td>\n",
       "      <td>-0.378914</td>\n",
       "      <td>3</td>\n",
       "    </tr>\n",
       "    <tr>\n",
       "      <th>174</th>\n",
       "      <td>2.951568</td>\n",
       "      <td>-1.793183</td>\n",
       "      <td>0.210665</td>\n",
       "      <td>3</td>\n",
       "    </tr>\n",
       "    <tr>\n",
       "      <th>175</th>\n",
       "      <td>3.019601</td>\n",
       "      <td>-2.860911</td>\n",
       "      <td>-0.975719</td>\n",
       "      <td>3</td>\n",
       "    </tr>\n",
       "    <tr>\n",
       "      <th>176</th>\n",
       "      <td>2.739308</td>\n",
       "      <td>-2.390595</td>\n",
       "      <td>-0.562449</td>\n",
       "      <td>3</td>\n",
       "    </tr>\n",
       "    <tr>\n",
       "      <th>177</th>\n",
       "      <td>3.513592</td>\n",
       "      <td>-2.793054</td>\n",
       "      <td>1.033999</td>\n",
       "      <td>3</td>\n",
       "    </tr>\n",
       "  </tbody>\n",
       "</table>\n",
       "<p>178 rows × 4 columns</p>\n",
       "</div>"
      ],
      "text/plain": [
       "     Data PC1  Data PC2  Data PC3  Customer_Segment\n",
       "0   -3.561968 -1.528967 -0.130558                 1\n",
       "1   -2.544330  0.329993 -2.041603                 1\n",
       "2   -2.806546 -1.042225  1.016791                 1\n",
       "3   -3.944287 -2.793264 -0.154956                 1\n",
       "4   -1.415866 -0.953430  2.117093                 1\n",
       "..        ...       ...       ...               ...\n",
       "173  3.575821 -2.165115 -0.378914                 3\n",
       "174  2.951568 -1.793183  0.210665                 3\n",
       "175  3.019601 -2.860911 -0.975719                 3\n",
       "176  2.739308 -2.390595 -0.562449                 3\n",
       "177  3.513592 -2.793054  1.033999                 3\n",
       "\n",
       "[178 rows x 4 columns]"
      ]
     },
     "execution_count": 171,
     "metadata": {},
     "output_type": "execute_result"
    }
   ],
   "source": [
    "dt=train\n",
    "dt"
   ]
  },
  {
   "cell_type": "code",
   "execution_count": 172,
   "id": "7293d645",
   "metadata": {},
   "outputs": [],
   "source": [
    "from sklearn.model_selection import train_test_split\n",
    "\n",
    "x = dt.drop([\"Customer_Segment\"],axis=1)\n",
    "y = dt[[\"Customer_Segment\"]]\n",
    "\n",
    "X_train, X_test, y_train, y_test = train_test_split(x,y,test_size=0.3,random_state=231)"
   ]
  },
  {
   "cell_type": "code",
   "execution_count": 173,
   "id": "9b6306e8",
   "metadata": {},
   "outputs": [
    {
     "data": {
      "text/html": [
       "<div>\n",
       "<style scoped>\n",
       "    .dataframe tbody tr th:only-of-type {\n",
       "        vertical-align: middle;\n",
       "    }\n",
       "\n",
       "    .dataframe tbody tr th {\n",
       "        vertical-align: top;\n",
       "    }\n",
       "\n",
       "    .dataframe thead th {\n",
       "        text-align: right;\n",
       "    }\n",
       "</style>\n",
       "<table border=\"1\" class=\"dataframe\">\n",
       "  <thead>\n",
       "    <tr style=\"text-align: right;\">\n",
       "      <th></th>\n",
       "      <th>Customer_Segment</th>\n",
       "      <th>Data PC1</th>\n",
       "      <th>Data PC2</th>\n",
       "      <th>Data PC3</th>\n",
       "    </tr>\n",
       "  </thead>\n",
       "  <tbody>\n",
       "    <tr>\n",
       "      <th>50</th>\n",
       "      <td>1</td>\n",
       "      <td>-3.450534</td>\n",
       "      <td>-0.131976</td>\n",
       "      <td>-2.039342</td>\n",
       "    </tr>\n",
       "    <tr>\n",
       "      <th>109</th>\n",
       "      <td>2</td>\n",
       "      <td>-1.418961</td>\n",
       "      <td>1.462938</td>\n",
       "      <td>1.815816</td>\n",
       "    </tr>\n",
       "    <tr>\n",
       "      <th>141</th>\n",
       "      <td>3</td>\n",
       "      <td>2.646097</td>\n",
       "      <td>-0.364124</td>\n",
       "      <td>-0.981187</td>\n",
       "    </tr>\n",
       "    <tr>\n",
       "      <th>108</th>\n",
       "      <td>2</td>\n",
       "      <td>-0.040610</td>\n",
       "      <td>2.354541</td>\n",
       "      <td>-0.505442</td>\n",
       "    </tr>\n",
       "    <tr>\n",
       "      <th>43</th>\n",
       "      <td>1</td>\n",
       "      <td>-0.904882</td>\n",
       "      <td>-0.342410</td>\n",
       "      <td>-0.198481</td>\n",
       "    </tr>\n",
       "  </tbody>\n",
       "</table>\n",
       "</div>"
      ],
      "text/plain": [
       "     Customer_Segment  Data PC1  Data PC2  Data PC3\n",
       "50                  1 -3.450534 -0.131976 -2.039342\n",
       "109                 2 -1.418961  1.462938  1.815816\n",
       "141                 3  2.646097 -0.364124 -0.981187\n",
       "108                 2 -0.040610  2.354541 -0.505442\n",
       "43                  1 -0.904882 -0.342410 -0.198481"
      ]
     },
     "execution_count": 173,
     "metadata": {},
     "output_type": "execute_result"
    }
   ],
   "source": [
    "train = pd.concat([y_train,X_train],axis=1)\n",
    "train.head()"
   ]
  },
  {
   "cell_type": "code",
   "execution_count": 178,
   "id": "143cd354",
   "metadata": {},
   "outputs": [
    {
     "data": {
      "text/html": [
       "<div>\n",
       "<style scoped>\n",
       "    .dataframe tbody tr th:only-of-type {\n",
       "        vertical-align: middle;\n",
       "    }\n",
       "\n",
       "    .dataframe tbody tr th {\n",
       "        vertical-align: top;\n",
       "    }\n",
       "\n",
       "    .dataframe thead th {\n",
       "        text-align: right;\n",
       "    }\n",
       "</style>\n",
       "<table border=\"1\" class=\"dataframe\">\n",
       "  <thead>\n",
       "    <tr style=\"text-align: right;\">\n",
       "      <th></th>\n",
       "      <th>Customer_Segment</th>\n",
       "      <th>Data PC1</th>\n",
       "      <th>Data PC2</th>\n",
       "      <th>Data PC3</th>\n",
       "    </tr>\n",
       "  </thead>\n",
       "  <tbody>\n",
       "    <tr>\n",
       "      <th>115</th>\n",
       "      <td>2</td>\n",
       "      <td>-0.324053</td>\n",
       "      <td>3.809609</td>\n",
       "      <td>1.313594</td>\n",
       "    </tr>\n",
       "    <tr>\n",
       "      <th>86</th>\n",
       "      <td>2</td>\n",
       "      <td>0.769887</td>\n",
       "      <td>2.255458</td>\n",
       "      <td>0.790085</td>\n",
       "    </tr>\n",
       "    <tr>\n",
       "      <th>151</th>\n",
       "      <td>3</td>\n",
       "      <td>2.928557</td>\n",
       "      <td>-2.104990</td>\n",
       "      <td>-0.338029</td>\n",
       "    </tr>\n",
       "    <tr>\n",
       "      <th>42</th>\n",
       "      <td>1</td>\n",
       "      <td>-3.315787</td>\n",
       "      <td>-1.170049</td>\n",
       "      <td>-0.285485</td>\n",
       "    </tr>\n",
       "    <tr>\n",
       "      <th>17</th>\n",
       "      <td>1</td>\n",
       "      <td>-2.240096</td>\n",
       "      <td>-1.690143</td>\n",
       "      <td>0.848541</td>\n",
       "    </tr>\n",
       "  </tbody>\n",
       "</table>\n",
       "</div>"
      ],
      "text/plain": [
       "     Customer_Segment  Data PC1  Data PC2  Data PC3\n",
       "115                 2 -0.324053  3.809609  1.313594\n",
       "86                  2  0.769887  2.255458  0.790085\n",
       "151                 3  2.928557 -2.104990 -0.338029\n",
       "42                  1 -3.315787 -1.170049 -0.285485\n",
       "17                  1 -2.240096 -1.690143  0.848541"
      ]
     },
     "execution_count": 178,
     "metadata": {},
     "output_type": "execute_result"
    }
   ],
   "source": [
    "test = pd.concat([y_test,X_test],axis=1)\n",
    "test.head()"
   ]
  },
  {
   "cell_type": "code",
   "execution_count": 179,
   "id": "94489a98",
   "metadata": {},
   "outputs": [
    {
     "data": {
      "text/plain": [
       "['Data PC1', 'Data PC2', 'Data PC3']"
      ]
     },
     "execution_count": 179,
     "metadata": {},
     "output_type": "execute_result"
    }
   ],
   "source": [
    "independent_variable = list(train.columns[1:])\n",
    "independent_variable"
   ]
  },
  {
   "cell_type": "code",
   "execution_count": 186,
   "id": "dee04e3b",
   "metadata": {},
   "outputs": [
    {
     "data": {
      "text/html": [
       "<style>#sk-container-id-9 {color: black;}#sk-container-id-9 pre{padding: 0;}#sk-container-id-9 div.sk-toggleable {background-color: white;}#sk-container-id-9 label.sk-toggleable__label {cursor: pointer;display: block;width: 100%;margin-bottom: 0;padding: 0.3em;box-sizing: border-box;text-align: center;}#sk-container-id-9 label.sk-toggleable__label-arrow:before {content: \"▸\";float: left;margin-right: 0.25em;color: #696969;}#sk-container-id-9 label.sk-toggleable__label-arrow:hover:before {color: black;}#sk-container-id-9 div.sk-estimator:hover label.sk-toggleable__label-arrow:before {color: black;}#sk-container-id-9 div.sk-toggleable__content {max-height: 0;max-width: 0;overflow: hidden;text-align: left;background-color: #f0f8ff;}#sk-container-id-9 div.sk-toggleable__content pre {margin: 0.2em;color: black;border-radius: 0.25em;background-color: #f0f8ff;}#sk-container-id-9 input.sk-toggleable__control:checked~div.sk-toggleable__content {max-height: 200px;max-width: 100%;overflow: auto;}#sk-container-id-9 input.sk-toggleable__control:checked~label.sk-toggleable__label-arrow:before {content: \"▾\";}#sk-container-id-9 div.sk-estimator input.sk-toggleable__control:checked~label.sk-toggleable__label {background-color: #d4ebff;}#sk-container-id-9 div.sk-label input.sk-toggleable__control:checked~label.sk-toggleable__label {background-color: #d4ebff;}#sk-container-id-9 input.sk-hidden--visually {border: 0;clip: rect(1px 1px 1px 1px);clip: rect(1px, 1px, 1px, 1px);height: 1px;margin: -1px;overflow: hidden;padding: 0;position: absolute;width: 1px;}#sk-container-id-9 div.sk-estimator {font-family: monospace;background-color: #f0f8ff;border: 1px dotted black;border-radius: 0.25em;box-sizing: border-box;margin-bottom: 0.5em;}#sk-container-id-9 div.sk-estimator:hover {background-color: #d4ebff;}#sk-container-id-9 div.sk-parallel-item::after {content: \"\";width: 100%;border-bottom: 1px solid gray;flex-grow: 1;}#sk-container-id-9 div.sk-label:hover label.sk-toggleable__label {background-color: #d4ebff;}#sk-container-id-9 div.sk-serial::before {content: \"\";position: absolute;border-left: 1px solid gray;box-sizing: border-box;top: 0;bottom: 0;left: 50%;z-index: 0;}#sk-container-id-9 div.sk-serial {display: flex;flex-direction: column;align-items: center;background-color: white;padding-right: 0.2em;padding-left: 0.2em;position: relative;}#sk-container-id-9 div.sk-item {position: relative;z-index: 1;}#sk-container-id-9 div.sk-parallel {display: flex;align-items: stretch;justify-content: center;background-color: white;position: relative;}#sk-container-id-9 div.sk-item::before, #sk-container-id-9 div.sk-parallel-item::before {content: \"\";position: absolute;border-left: 1px solid gray;box-sizing: border-box;top: 0;bottom: 0;left: 50%;z-index: -1;}#sk-container-id-9 div.sk-parallel-item {display: flex;flex-direction: column;z-index: 1;position: relative;background-color: white;}#sk-container-id-9 div.sk-parallel-item:first-child::after {align-self: flex-end;width: 50%;}#sk-container-id-9 div.sk-parallel-item:last-child::after {align-self: flex-start;width: 50%;}#sk-container-id-9 div.sk-parallel-item:only-child::after {width: 0;}#sk-container-id-9 div.sk-dashed-wrapped {border: 1px dashed gray;margin: 0 0.4em 0.5em 0.4em;box-sizing: border-box;padding-bottom: 0.4em;background-color: white;}#sk-container-id-9 div.sk-label label {font-family: monospace;font-weight: bold;display: inline-block;line-height: 1.2em;}#sk-container-id-9 div.sk-label-container {text-align: center;}#sk-container-id-9 div.sk-container {/* jupyter's `normalize.less` sets `[hidden] { display: none; }` but bootstrap.min.css set `[hidden] { display: none !important; }` so we also need the `!important` here to be able to override the default hidden behavior on the sphinx rendered scikit-learn.org. See: https://github.com/scikit-learn/scikit-learn/issues/21755 */display: inline-block !important;position: relative;}#sk-container-id-9 div.sk-text-repr-fallback {display: none;}</style><div id=\"sk-container-id-9\" class=\"sk-top-container\"><div class=\"sk-text-repr-fallback\"><pre>DecisionTreeClassifier()</pre><b>In a Jupyter environment, please rerun this cell to show the HTML representation or trust the notebook. <br />On GitHub, the HTML representation is unable to render, please try loading this page with nbviewer.org.</b></div><div class=\"sk-container\" hidden><div class=\"sk-item\"><div class=\"sk-estimator sk-toggleable\"><input class=\"sk-toggleable__control sk-hidden--visually\" id=\"sk-estimator-id-9\" type=\"checkbox\" checked><label for=\"sk-estimator-id-9\" class=\"sk-toggleable__label sk-toggleable__label-arrow\">DecisionTreeClassifier</label><div class=\"sk-toggleable__content\"><pre>DecisionTreeClassifier()</pre></div></div></div></div></div>"
      ],
      "text/plain": [
       "DecisionTreeClassifier()"
      ]
     },
     "execution_count": 186,
     "metadata": {},
     "output_type": "execute_result"
    }
   ],
   "source": [
    "from sklearn.tree import DecisionTreeClassifier\n",
    "\n",
    "dc = DecisionTreeClassifier() \n",
    "dc.fit(X_train,y_train)  # "
   ]
  },
  {
   "cell_type": "code",
   "execution_count": 181,
   "id": "6c2f52ac",
   "metadata": {},
   "outputs": [
    {
     "data": {
      "text/html": [
       "<div>\n",
       "<style scoped>\n",
       "    .dataframe tbody tr th:only-of-type {\n",
       "        vertical-align: middle;\n",
       "    }\n",
       "\n",
       "    .dataframe tbody tr th {\n",
       "        vertical-align: top;\n",
       "    }\n",
       "\n",
       "    .dataframe thead th {\n",
       "        text-align: right;\n",
       "    }\n",
       "</style>\n",
       "<table border=\"1\" class=\"dataframe\">\n",
       "  <thead>\n",
       "    <tr style=\"text-align: right;\">\n",
       "      <th></th>\n",
       "      <th>Customer_Segment</th>\n",
       "      <th>Data PC1</th>\n",
       "      <th>Data PC2</th>\n",
       "      <th>Data PC3</th>\n",
       "    </tr>\n",
       "  </thead>\n",
       "  <tbody>\n",
       "    <tr>\n",
       "      <th>2</th>\n",
       "      <td>A</td>\n",
       "      <td>-2.806546</td>\n",
       "      <td>-1.042225</td>\n",
       "      <td>1.016791</td>\n",
       "    </tr>\n",
       "    <tr>\n",
       "      <th>11</th>\n",
       "      <td>A</td>\n",
       "      <td>-2.118922</td>\n",
       "      <td>-0.594497</td>\n",
       "      <td>-1.177841</td>\n",
       "    </tr>\n",
       "    <tr>\n",
       "      <th>148</th>\n",
       "      <td>C</td>\n",
       "      <td>3.146198</td>\n",
       "      <td>-1.569729</td>\n",
       "      <td>-0.500398</td>\n",
       "    </tr>\n",
       "    <tr>\n",
       "      <th>176</th>\n",
       "      <td>C</td>\n",
       "      <td>2.739308</td>\n",
       "      <td>-2.390595</td>\n",
       "      <td>-0.562449</td>\n",
       "    </tr>\n",
       "    <tr>\n",
       "      <th>87</th>\n",
       "      <td>B</td>\n",
       "      <td>0.551359</td>\n",
       "      <td>2.381242</td>\n",
       "      <td>2.358299</td>\n",
       "    </tr>\n",
       "  </tbody>\n",
       "</table>\n",
       "</div>"
      ],
      "text/plain": [
       "    Customer_Segment  Data PC1  Data PC2  Data PC3\n",
       "2                  A -2.806546 -1.042225  1.016791\n",
       "11                 A -2.118922 -0.594497 -1.177841\n",
       "148                C  3.146198 -1.569729 -0.500398\n",
       "176                C  2.739308 -2.390595 -0.562449\n",
       "87                 B  0.551359  2.381242  2.358299"
      ]
     },
     "execution_count": 181,
     "metadata": {},
     "output_type": "execute_result"
    }
   ],
   "source": [
    "train['Customer_Segment'] = train['Customer_Segment'].replace([1,2,3],[\"A\",\"B\",\"C\"])\n",
    "test['Customer_Segment'] = test['Customer_Segment'].replace([1,2,3],[\"A\",\"B\",\"C\"])\n",
    "train.tail()"
   ]
  },
  {
   "cell_type": "code",
   "execution_count": 182,
   "id": "d6a8a647",
   "metadata": {},
   "outputs": [
    {
     "data": {
      "text/plain": [
       "B    48\n",
       "A    40\n",
       "C    36\n",
       "Name: Customer_Segment, dtype: int64"
      ]
     },
     "execution_count": 182,
     "metadata": {},
     "output_type": "execute_result"
    }
   ],
   "source": [
    "train['Customer_Segment'].value_counts()"
   ]
  },
  {
   "cell_type": "code",
   "execution_count": null,
   "id": "dd147984",
   "metadata": {},
   "outputs": [],
   "source": []
  },
  {
   "cell_type": "markdown",
   "id": "e83cea2c",
   "metadata": {},
   "source": [
    "# Decision tree using CHAID"
   ]
  },
  {
   "cell_type": "code",
   "execution_count": 184,
   "id": "4c7562ee",
   "metadata": {},
   "outputs": [],
   "source": [
    "config={'algorithm': 'CHAID'}"
   ]
  },
  {
   "cell_type": "code",
   "execution_count": 185,
   "id": "541d3d7b",
   "metadata": {},
   "outputs": [
    {
     "name": "stdout",
     "output_type": "stream",
     "text": [
      "[INFO]:  2 CPU cores will be allocated in parallel running\n",
      "WARNING: You set the algorithm to  CHAID  but the Decision column of your data set has non-object type.\n",
      "That's why, the algorithm is set to Regression to handle the data set.\n",
      "Regression  tree is going to be built...\n",
      "-------------------------\n",
      "finished in  12.674037456512451  seconds\n",
      "-------------------------\n",
      "Evaluate  train set\n",
      "-------------------------\n",
      "MAE:  0.09269662921348315\n",
      "MSE:  0.13342696629213482\n",
      "RMSE:  0.3652765613779987\n",
      "RAE:  0.17505759420922753\n",
      "RRSE:  0.47263280688639286\n",
      "Mean:  1.9382022471910112\n",
      "MAE / Mean:  4.782608695652175 %\n",
      "RMSE / Mean:  18.84615302182138 %\n"
     ]
    },
    {
     "data": {
      "text/plain": [
       "{'trees': [<module 'outputs/rules/rules' from 'C:\\\\Users\\\\Dell\\\\Desktop\\\\MACHINE LEARNING\\\\Practices\\\\outputs/rules/rules.py'>],\n",
       " 'alphas': [],\n",
       " 'config': {'algorithm': 'Regression',\n",
       "  'enableRandomForest': False,\n",
       "  'num_of_trees': 5,\n",
       "  'enableMultitasking': False,\n",
       "  'enableGBM': False,\n",
       "  'epochs': 10,\n",
       "  'learning_rate': 1,\n",
       "  'max_depth': 3,\n",
       "  'enableAdaboost': False,\n",
       "  'num_of_weak_classifier': 4,\n",
       "  'enableParallelism': True,\n",
       "  'num_cores': 2},\n",
       " 'nan_values': [['Data PC1', None],\n",
       "  ['Data PC2', None],\n",
       "  ['Data PC3', None],\n",
       "  ['Decision', None]]}"
      ]
     },
     "execution_count": 185,
     "metadata": {},
     "output_type": "execute_result"
    }
   ],
   "source": [
    "from chefboost import Chefboost as cb\n",
    "tree = cb.fit(dt, config = config, target_label ='Customer_Segment')\n",
    "\n",
    "tree"
   ]
  },
  {
   "cell_type": "code",
   "execution_count": 187,
   "id": "f25c87e6",
   "metadata": {},
   "outputs": [
    {
     "data": {
      "text/plain": [
       "{'trees': [<module 'outputs/rules/rules' from 'C:\\\\Users\\\\Dell\\\\Desktop\\\\MACHINE LEARNING\\\\Practices\\\\outputs/rules/rules.py'>],\n",
       " 'alphas': [],\n",
       " 'config': {'algorithm': 'Regression',\n",
       "  'enableRandomForest': False,\n",
       "  'num_of_trees': 5,\n",
       "  'enableMultitasking': False,\n",
       "  'enableGBM': False,\n",
       "  'epochs': 10,\n",
       "  'learning_rate': 1,\n",
       "  'max_depth': 3,\n",
       "  'enableAdaboost': False,\n",
       "  'num_of_weak_classifier': 4,\n",
       "  'enableParallelism': True,\n",
       "  'num_cores': 2},\n",
       " 'nan_values': [['Data PC1', None],\n",
       "  ['Data PC2', None],\n",
       "  ['Data PC3', None],\n",
       "  ['Decision', None]]}"
      ]
     },
     "execution_count": 187,
     "metadata": {},
     "output_type": "execute_result"
    }
   ],
   "source": [
    "tree"
   ]
  },
  {
   "cell_type": "code",
   "execution_count": 190,
   "id": "398d9a9e",
   "metadata": {},
   "outputs": [
    {
     "name": "stdout",
     "output_type": "stream",
     "text": [
      "['Data PC1', 'Data PC2', 'Data PC3', 'Decision']\n",
      "-------------------------\n",
      "Evaluate  train set\n",
      "-------------------------\n",
      "Accuracy:  0.0 % on  124  instances\n",
      "Labels:  ['A' 'B' 'C']\n",
      "Confusion matrix:  [[0, 0, 0], [0, 0, 0], [0, 0, 0]]\n",
      "Decision  A  => Accuray:  67.7419 %, Precision:  0.0 %, Recall:  0.0 %, F1:  0.0 %\n",
      "Decision  B  => Accuray:  61.2903 %, Precision:  0.0 %, Recall:  0.0 %, F1:  0.0 %\n",
      "Decision  C  => Accuray:  70.9677 %, Precision:  0.0 %, Recall:  0.0 %, F1:  0.0 %\n"
     ]
    }
   ],
   "source": [
    "cb.evaluate(tree, df=train,target_label='Customer_Segment',task='train')    "
   ]
  },
  {
   "cell_type": "code",
   "execution_count": 189,
   "id": "cbd84bcd",
   "metadata": {},
   "outputs": [
    {
     "name": "stdout",
     "output_type": "stream",
     "text": [
      "['Data PC1', 'Data PC2', 'Data PC3', 'Decision']\n",
      "-------------------------\n",
      "Evaluate  test set\n",
      "-------------------------\n",
      "Accuracy:  0.0 % on  54  instances\n",
      "Labels:  ['B' 'C' 'A']\n",
      "Confusion matrix:  [[0, 0, 0], [0, 0, 0], [0, 0, 0]]\n",
      "Decision  B  => Accuray:  57.4074 %, Precision:  0.0 %, Recall:  0.0 %, F1:  0.0 %\n",
      "Decision  C  => Accuray:  77.7778 %, Precision:  0.0 %, Recall:  0.0 %, F1:  0.0 %\n",
      "Decision  A  => Accuray:  64.8148 %, Precision:  0.0 %, Recall:  0.0 %, F1:  0.0 %\n"
     ]
    }
   ],
   "source": [
    "cb.evaluate(tree, df=test,target_label='Customer_Segment',task='test')    "
   ]
  },
  {
   "cell_type": "markdown",
   "id": "8c589005",
   "metadata": {},
   "source": [
    "# Q:4\n",
    "K-means Clustering\n",
    "\n",
    "Extract the measurements from the DataFrame using its .values attribute:"
   ]
  },
  {
   "cell_type": "code",
   "execution_count": 109,
   "id": "4b12ac4e",
   "metadata": {},
   "outputs": [
    {
     "data": {
      "text/html": [
       "<div>\n",
       "<style scoped>\n",
       "    .dataframe tbody tr th:only-of-type {\n",
       "        vertical-align: middle;\n",
       "    }\n",
       "\n",
       "    .dataframe tbody tr th {\n",
       "        vertical-align: top;\n",
       "    }\n",
       "\n",
       "    .dataframe thead th {\n",
       "        text-align: right;\n",
       "    }\n",
       "</style>\n",
       "<table border=\"1\" class=\"dataframe\">\n",
       "  <thead>\n",
       "    <tr style=\"text-align: right;\">\n",
       "      <th></th>\n",
       "      <th>Alcohol</th>\n",
       "      <th>Malic_Acid</th>\n",
       "      <th>Ash</th>\n",
       "      <th>Ash_Alcanity</th>\n",
       "      <th>Magnesium</th>\n",
       "      <th>Total_Phenols</th>\n",
       "      <th>Flavanoids</th>\n",
       "      <th>Nonflavanoid_Phenols</th>\n",
       "      <th>Proanthocyanins</th>\n",
       "      <th>Color_Intensity</th>\n",
       "      <th>Hue</th>\n",
       "      <th>OD280</th>\n",
       "      <th>Proline</th>\n",
       "    </tr>\n",
       "  </thead>\n",
       "  <tbody>\n",
       "    <tr>\n",
       "      <th>0</th>\n",
       "      <td>14.23</td>\n",
       "      <td>1.71</td>\n",
       "      <td>2.43</td>\n",
       "      <td>15.6</td>\n",
       "      <td>127.0</td>\n",
       "      <td>2.80</td>\n",
       "      <td>3.06</td>\n",
       "      <td>0.28</td>\n",
       "      <td>2.29</td>\n",
       "      <td>5.64</td>\n",
       "      <td>1.04</td>\n",
       "      <td>3.92</td>\n",
       "      <td>1065</td>\n",
       "    </tr>\n",
       "    <tr>\n",
       "      <th>1</th>\n",
       "      <td>13.20</td>\n",
       "      <td>1.78</td>\n",
       "      <td>2.14</td>\n",
       "      <td>11.2</td>\n",
       "      <td>100.0</td>\n",
       "      <td>2.65</td>\n",
       "      <td>2.76</td>\n",
       "      <td>0.26</td>\n",
       "      <td>1.28</td>\n",
       "      <td>4.38</td>\n",
       "      <td>1.05</td>\n",
       "      <td>3.40</td>\n",
       "      <td>1050</td>\n",
       "    </tr>\n",
       "    <tr>\n",
       "      <th>2</th>\n",
       "      <td>13.16</td>\n",
       "      <td>2.36</td>\n",
       "      <td>2.67</td>\n",
       "      <td>18.6</td>\n",
       "      <td>101.0</td>\n",
       "      <td>2.80</td>\n",
       "      <td>3.24</td>\n",
       "      <td>0.30</td>\n",
       "      <td>2.81</td>\n",
       "      <td>5.68</td>\n",
       "      <td>1.03</td>\n",
       "      <td>3.17</td>\n",
       "      <td>1185</td>\n",
       "    </tr>\n",
       "    <tr>\n",
       "      <th>3</th>\n",
       "      <td>14.37</td>\n",
       "      <td>1.95</td>\n",
       "      <td>2.50</td>\n",
       "      <td>16.8</td>\n",
       "      <td>113.0</td>\n",
       "      <td>3.85</td>\n",
       "      <td>3.49</td>\n",
       "      <td>0.24</td>\n",
       "      <td>2.18</td>\n",
       "      <td>7.80</td>\n",
       "      <td>0.86</td>\n",
       "      <td>3.45</td>\n",
       "      <td>1480</td>\n",
       "    </tr>\n",
       "    <tr>\n",
       "      <th>4</th>\n",
       "      <td>13.24</td>\n",
       "      <td>2.59</td>\n",
       "      <td>2.87</td>\n",
       "      <td>21.0</td>\n",
       "      <td>118.0</td>\n",
       "      <td>2.80</td>\n",
       "      <td>2.69</td>\n",
       "      <td>0.39</td>\n",
       "      <td>1.82</td>\n",
       "      <td>4.32</td>\n",
       "      <td>1.04</td>\n",
       "      <td>2.93</td>\n",
       "      <td>735</td>\n",
       "    </tr>\n",
       "  </tbody>\n",
       "</table>\n",
       "</div>"
      ],
      "text/plain": [
       "   Alcohol  Malic_Acid   Ash  Ash_Alcanity  Magnesium  Total_Phenols  \\\n",
       "0    14.23        1.71  2.43          15.6      127.0           2.80   \n",
       "1    13.20        1.78  2.14          11.2      100.0           2.65   \n",
       "2    13.16        2.36  2.67          18.6      101.0           2.80   \n",
       "3    14.37        1.95  2.50          16.8      113.0           3.85   \n",
       "4    13.24        2.59  2.87          21.0      118.0           2.80   \n",
       "\n",
       "   Flavanoids  Nonflavanoid_Phenols  Proanthocyanins  Color_Intensity   Hue  \\\n",
       "0        3.06                  0.28             2.29             5.64  1.04   \n",
       "1        2.76                  0.26             1.28             4.38  1.05   \n",
       "2        3.24                  0.30             2.81             5.68  1.03   \n",
       "3        3.49                  0.24             2.18             7.80  0.86   \n",
       "4        2.69                  0.39             1.82             4.32  1.04   \n",
       "\n",
       "   OD280  Proline  \n",
       "0   3.92     1065  \n",
       "1   3.40     1050  \n",
       "2   3.17     1185  \n",
       "3   3.45     1480  \n",
       "4   2.93      735  "
      ]
     },
     "execution_count": 109,
     "metadata": {},
     "output_type": "execute_result"
    }
   ],
   "source": [
    "wine.head()"
   ]
  },
  {
   "cell_type": "code",
   "execution_count": 111,
   "id": "e87d7978",
   "metadata": {},
   "outputs": [],
   "source": [
    "wine_Final = wine.copy()"
   ]
  },
  {
   "cell_type": "code",
   "execution_count": null,
   "id": "56e291c2",
   "metadata": {},
   "outputs": [],
   "source": []
  },
  {
   "cell_type": "code",
   "execution_count": 112,
   "id": "c068e94b",
   "metadata": {},
   "outputs": [
    {
     "data": {
      "text/plain": [
       "array([[1.423e+01, 1.710e+00, 2.430e+00, ..., 1.040e+00, 3.920e+00,\n",
       "        1.065e+03],\n",
       "       [1.320e+01, 1.780e+00, 2.140e+00, ..., 1.050e+00, 3.400e+00,\n",
       "        1.050e+03],\n",
       "       [1.316e+01, 2.360e+00, 2.670e+00, ..., 1.030e+00, 3.170e+00,\n",
       "        1.185e+03],\n",
       "       ...,\n",
       "       [1.327e+01, 4.280e+00, 2.260e+00, ..., 5.900e-01, 1.560e+00,\n",
       "        8.350e+02],\n",
       "       [1.317e+01, 2.590e+00, 2.370e+00, ..., 6.000e-01, 1.620e+00,\n",
       "        8.400e+02],\n",
       "       [1.413e+01, 4.100e+00, 2.740e+00, ..., 6.100e-01, 1.600e+00,\n",
       "        5.600e+02]])"
      ]
     },
     "execution_count": 112,
     "metadata": {},
     "output_type": "execute_result"
    }
   ],
   "source": [
    "samples = wine.values # get all row and columne without header \n",
    "\n",
    "samples"
   ]
  },
  {
   "cell_type": "markdown",
   "id": "a61ec5fe",
   "metadata": {},
   "source": [
    "# Elbow Method¶"
   ]
  },
  {
   "cell_type": "code",
   "execution_count": 113,
   "id": "1740062e",
   "metadata": {},
   "outputs": [
    {
     "data": {
      "image/png": "[encoded data removed]",
      "text/plain": [
       "<Figure size 800x550 with 1 Axes>"
      ]
     },
     "metadata": {},
     "output_type": "display_data"
    },
    {
     "data": {
      "text/plain": [
       "<Axes: title={'center': 'Distortion Score Elbow for KMeans Clustering'}, xlabel='k', ylabel='distortion score'>"
      ]
     },
     "execution_count": 113,
     "metadata": {},
     "output_type": "execute_result"
    }
   ],
   "source": [
    "from sklearn.cluster import KMeans\n",
    "from yellowbrick.cluster import KElbowVisualizer\n",
    "km = KMeans(random_state=42)\n",
    "visualizer = KElbowVisualizer(km, k=(1,10),timings=False)\n",
    "visualizer.fit(samples)        # Fit the data to the visualizer\n",
    "visualizer.show()"
   ]
  },
  {
   "cell_type": "markdown",
   "id": "f2732544",
   "metadata": {},
   "source": [
    "# Model"
   ]
  },
  {
   "cell_type": "code",
   "execution_count": 114,
   "id": "b30dc8c0",
   "metadata": {},
   "outputs": [],
   "source": [
    "model2 = KMeans(n_clusters=3,max_iter=100,random_state=42)"
   ]
  },
  {
   "cell_type": "code",
   "execution_count": 115,
   "id": "252154b1",
   "metadata": {},
   "outputs": [
    {
     "data": {
      "text/html": [
       "<div>\n",
       "<style scoped>\n",
       "    .dataframe tbody tr th:only-of-type {\n",
       "        vertical-align: middle;\n",
       "    }\n",
       "\n",
       "    .dataframe tbody tr th {\n",
       "        vertical-align: top;\n",
       "    }\n",
       "\n",
       "    .dataframe thead th {\n",
       "        text-align: right;\n",
       "    }\n",
       "</style>\n",
       "<table border=\"1\" class=\"dataframe\">\n",
       "  <thead>\n",
       "    <tr style=\"text-align: right;\">\n",
       "      <th></th>\n",
       "      <th>Alcohol</th>\n",
       "      <th>Malic_Acid</th>\n",
       "      <th>Ash</th>\n",
       "      <th>Ash_Alcanity</th>\n",
       "      <th>Magnesium</th>\n",
       "      <th>Total_Phenols</th>\n",
       "      <th>Flavanoids</th>\n",
       "      <th>Nonflavanoid_Phenols</th>\n",
       "      <th>Proanthocyanins</th>\n",
       "      <th>Color_Intensity</th>\n",
       "      <th>Hue</th>\n",
       "      <th>OD280</th>\n",
       "      <th>Proline</th>\n",
       "      <th>Cluster_Made</th>\n",
       "    </tr>\n",
       "  </thead>\n",
       "  <tbody>\n",
       "    <tr>\n",
       "      <th>0</th>\n",
       "      <td>14.23</td>\n",
       "      <td>1.71</td>\n",
       "      <td>2.43</td>\n",
       "      <td>15.6</td>\n",
       "      <td>127.0</td>\n",
       "      <td>2.80</td>\n",
       "      <td>3.06</td>\n",
       "      <td>0.28</td>\n",
       "      <td>2.29</td>\n",
       "      <td>5.64</td>\n",
       "      <td>1.04</td>\n",
       "      <td>3.92</td>\n",
       "      <td>1065</td>\n",
       "      <td>1</td>\n",
       "    </tr>\n",
       "    <tr>\n",
       "      <th>1</th>\n",
       "      <td>13.20</td>\n",
       "      <td>1.78</td>\n",
       "      <td>2.14</td>\n",
       "      <td>11.2</td>\n",
       "      <td>100.0</td>\n",
       "      <td>2.65</td>\n",
       "      <td>2.76</td>\n",
       "      <td>0.26</td>\n",
       "      <td>1.28</td>\n",
       "      <td>4.38</td>\n",
       "      <td>1.05</td>\n",
       "      <td>3.40</td>\n",
       "      <td>1050</td>\n",
       "      <td>1</td>\n",
       "    </tr>\n",
       "    <tr>\n",
       "      <th>2</th>\n",
       "      <td>13.16</td>\n",
       "      <td>2.36</td>\n",
       "      <td>2.67</td>\n",
       "      <td>18.6</td>\n",
       "      <td>101.0</td>\n",
       "      <td>2.80</td>\n",
       "      <td>3.24</td>\n",
       "      <td>0.30</td>\n",
       "      <td>2.81</td>\n",
       "      <td>5.68</td>\n",
       "      <td>1.03</td>\n",
       "      <td>3.17</td>\n",
       "      <td>1185</td>\n",
       "      <td>1</td>\n",
       "    </tr>\n",
       "    <tr>\n",
       "      <th>3</th>\n",
       "      <td>14.37</td>\n",
       "      <td>1.95</td>\n",
       "      <td>2.50</td>\n",
       "      <td>16.8</td>\n",
       "      <td>113.0</td>\n",
       "      <td>3.85</td>\n",
       "      <td>3.49</td>\n",
       "      <td>0.24</td>\n",
       "      <td>2.18</td>\n",
       "      <td>7.80</td>\n",
       "      <td>0.86</td>\n",
       "      <td>3.45</td>\n",
       "      <td>1480</td>\n",
       "      <td>1</td>\n",
       "    </tr>\n",
       "    <tr>\n",
       "      <th>4</th>\n",
       "      <td>13.24</td>\n",
       "      <td>2.59</td>\n",
       "      <td>2.87</td>\n",
       "      <td>21.0</td>\n",
       "      <td>118.0</td>\n",
       "      <td>2.80</td>\n",
       "      <td>2.69</td>\n",
       "      <td>0.39</td>\n",
       "      <td>1.82</td>\n",
       "      <td>4.32</td>\n",
       "      <td>1.04</td>\n",
       "      <td>2.93</td>\n",
       "      <td>735</td>\n",
       "      <td>0</td>\n",
       "    </tr>\n",
       "  </tbody>\n",
       "</table>\n",
       "</div>"
      ],
      "text/plain": [
       "   Alcohol  Malic_Acid   Ash  Ash_Alcanity  Magnesium  Total_Phenols  \\\n",
       "0    14.23        1.71  2.43          15.6      127.0           2.80   \n",
       "1    13.20        1.78  2.14          11.2      100.0           2.65   \n",
       "2    13.16        2.36  2.67          18.6      101.0           2.80   \n",
       "3    14.37        1.95  2.50          16.8      113.0           3.85   \n",
       "4    13.24        2.59  2.87          21.0      118.0           2.80   \n",
       "\n",
       "   Flavanoids  Nonflavanoid_Phenols  Proanthocyanins  Color_Intensity   Hue  \\\n",
       "0        3.06                  0.28             2.29             5.64  1.04   \n",
       "1        2.76                  0.26             1.28             4.38  1.05   \n",
       "2        3.24                  0.30             2.81             5.68  1.03   \n",
       "3        3.49                  0.24             2.18             7.80  0.86   \n",
       "4        2.69                  0.39             1.82             4.32  1.04   \n",
       "\n",
       "   OD280  Proline  Cluster_Made  \n",
       "0   3.92     1065             1  \n",
       "1   3.40     1050             1  \n",
       "2   3.17     1185             1  \n",
       "3   3.45     1480             1  \n",
       "4   2.93      735             0  "
      ]
     },
     "execution_count": 115,
     "metadata": {},
     "output_type": "execute_result"
    }
   ],
   "source": [
    "wine_Final['Cluster_Made'] = model2.fit_predict(samples)\n",
    "wine_Final.head()"
   ]
  },
  {
   "cell_type": "code",
   "execution_count": 116,
   "id": "fc242c03",
   "metadata": {},
   "outputs": [
    {
     "data": {
      "text/plain": [
       "array([[1.29298387e+01, 2.49842742e+00, 2.40578629e+00, 1.98903226e+01,\n",
       "        1.02911290e+02, 2.11112903e+00, 1.58403226e+00, 3.88387097e-01,\n",
       "        1.49887097e+00, 5.59516129e+00, 8.83967742e-01, 2.36548387e+00,\n",
       "        7.28338710e+02],\n",
       "       [1.38044681e+01, 1.88340426e+00, 2.42617021e+00, 1.69797872e+01,\n",
       "        1.05436170e+02, 2.86723404e+00, 3.01425532e+00, 2.85319149e-01,\n",
       "        1.91042553e+00, 5.70255319e+00, 1.07829787e+00, 3.11404255e+00,\n",
       "        1.19514894e+03],\n",
       "       [1.25166667e+01, 2.48398551e+00, 2.29112319e+00, 2.08094203e+01,\n",
       "        9.23478261e+01, 2.07072464e+00, 1.75840580e+00, 3.90144928e-01,\n",
       "        1.44347826e+00, 4.08507245e+00, 9.39945652e-01, 2.49072464e+00,\n",
       "        4.58231884e+02]])"
      ]
     },
     "execution_count": 116,
     "metadata": {},
     "output_type": "execute_result"
    }
   ],
   "source": [
    "model2.cluster_centers_"
   ]
  },
  {
   "cell_type": "code",
   "execution_count": 117,
   "id": "102ee8bb",
   "metadata": {},
   "outputs": [
    {
     "data": {
      "text/plain": [
       "2    69\n",
       "0    62\n",
       "1    47\n",
       "Name: Cluster_Made, dtype: int64"
      ]
     },
     "execution_count": 117,
     "metadata": {},
     "output_type": "execute_result"
    }
   ],
   "source": [
    "wine_Final.Cluster_Made.value_counts(ascending=False)"
   ]
  },
  {
   "cell_type": "markdown",
   "id": "9dc44a9c",
   "metadata": {},
   "source": [
    "# b.Using Silhouette Chart"
   ]
  },
  {
   "cell_type": "code",
   "execution_count": 118,
   "id": "1ff505fc",
   "metadata": {},
   "outputs": [
    {
     "data": {
      "image/png": "[encoded data removed]",
      "text/plain": [
       "<Figure size 800x550 with 1 Axes>"
      ]
     },
     "metadata": {},
     "output_type": "display_data"
    },
    {
     "data": {
      "text/plain": [
       "<Axes: title={'center': 'Silhouette Plot of KMeans Clustering for 178 Samples in 8 Centers'}, xlabel='silhouette coefficient values', ylabel='cluster label'>"
      ]
     },
     "execution_count": 118,
     "metadata": {},
     "output_type": "execute_result"
    }
   ],
   "source": [
    "from sklearn.cluster import KMeans\n",
    "from yellowbrick.cluster import SilhouetteVisualizer\n",
    "km = KMeans(random_state=24)\n",
    "visualizer = SilhouetteVisualizer(km,timimngs=False)\n",
    "visualizer.fit(samples)        # Fit the data to the visualizer\n",
    "visualizer.show()"
   ]
  },
  {
   "cell_type": "code",
   "execution_count": 130,
   "id": "abb43754",
   "metadata": {},
   "outputs": [],
   "source": [
    "model_Elbow = KMeans(n_clusters=3,max_iter=100,random_state=42)\n",
    "model_Silhhouette = KMeans(n_clusters=5,max_iter=100,random_state=42)"
   ]
  },
  {
   "cell_type": "code",
   "execution_count": 131,
   "id": "74c0fae3",
   "metadata": {},
   "outputs": [
    {
     "data": {
      "text/html": [
       "<div>\n",
       "<style scoped>\n",
       "    .dataframe tbody tr th:only-of-type {\n",
       "        vertical-align: middle;\n",
       "    }\n",
       "\n",
       "    .dataframe tbody tr th {\n",
       "        vertical-align: top;\n",
       "    }\n",
       "\n",
       "    .dataframe thead th {\n",
       "        text-align: right;\n",
       "    }\n",
       "</style>\n",
       "<table border=\"1\" class=\"dataframe\">\n",
       "  <thead>\n",
       "    <tr style=\"text-align: right;\">\n",
       "      <th></th>\n",
       "      <th>Alcohol</th>\n",
       "      <th>Malic_Acid</th>\n",
       "      <th>Ash</th>\n",
       "      <th>Ash_Alcanity</th>\n",
       "      <th>Magnesium</th>\n",
       "      <th>Total_Phenols</th>\n",
       "      <th>Flavanoids</th>\n",
       "      <th>Nonflavanoid_Phenols</th>\n",
       "      <th>Proanthocyanins</th>\n",
       "      <th>Color_Intensity</th>\n",
       "      <th>Hue</th>\n",
       "      <th>OD280</th>\n",
       "      <th>Proline</th>\n",
       "      <th>Cluster_Made</th>\n",
       "      <th>Cluster_Made_Elbow</th>\n",
       "      <th>Cluster_Made_Silhotte</th>\n",
       "    </tr>\n",
       "  </thead>\n",
       "  <tbody>\n",
       "    <tr>\n",
       "      <th>0</th>\n",
       "      <td>14.23</td>\n",
       "      <td>1.71</td>\n",
       "      <td>2.43</td>\n",
       "      <td>15.6</td>\n",
       "      <td>127.0</td>\n",
       "      <td>2.80</td>\n",
       "      <td>3.06</td>\n",
       "      <td>0.28</td>\n",
       "      <td>2.29</td>\n",
       "      <td>5.64</td>\n",
       "      <td>1.04</td>\n",
       "      <td>3.92</td>\n",
       "      <td>1065</td>\n",
       "      <td>1</td>\n",
       "      <td>1</td>\n",
       "      <td>4</td>\n",
       "    </tr>\n",
       "    <tr>\n",
       "      <th>1</th>\n",
       "      <td>13.20</td>\n",
       "      <td>1.78</td>\n",
       "      <td>2.14</td>\n",
       "      <td>11.2</td>\n",
       "      <td>100.0</td>\n",
       "      <td>2.65</td>\n",
       "      <td>2.76</td>\n",
       "      <td>0.26</td>\n",
       "      <td>1.28</td>\n",
       "      <td>4.38</td>\n",
       "      <td>1.05</td>\n",
       "      <td>3.40</td>\n",
       "      <td>1050</td>\n",
       "      <td>1</td>\n",
       "      <td>1</td>\n",
       "      <td>4</td>\n",
       "    </tr>\n",
       "    <tr>\n",
       "      <th>2</th>\n",
       "      <td>13.16</td>\n",
       "      <td>2.36</td>\n",
       "      <td>2.67</td>\n",
       "      <td>18.6</td>\n",
       "      <td>101.0</td>\n",
       "      <td>2.80</td>\n",
       "      <td>3.24</td>\n",
       "      <td>0.30</td>\n",
       "      <td>2.81</td>\n",
       "      <td>5.68</td>\n",
       "      <td>1.03</td>\n",
       "      <td>3.17</td>\n",
       "      <td>1185</td>\n",
       "      <td>1</td>\n",
       "      <td>1</td>\n",
       "      <td>4</td>\n",
       "    </tr>\n",
       "    <tr>\n",
       "      <th>3</th>\n",
       "      <td>14.37</td>\n",
       "      <td>1.95</td>\n",
       "      <td>2.50</td>\n",
       "      <td>16.8</td>\n",
       "      <td>113.0</td>\n",
       "      <td>3.85</td>\n",
       "      <td>3.49</td>\n",
       "      <td>0.24</td>\n",
       "      <td>2.18</td>\n",
       "      <td>7.80</td>\n",
       "      <td>0.86</td>\n",
       "      <td>3.45</td>\n",
       "      <td>1480</td>\n",
       "      <td>1</td>\n",
       "      <td>1</td>\n",
       "      <td>0</td>\n",
       "    </tr>\n",
       "    <tr>\n",
       "      <th>4</th>\n",
       "      <td>13.24</td>\n",
       "      <td>2.59</td>\n",
       "      <td>2.87</td>\n",
       "      <td>21.0</td>\n",
       "      <td>118.0</td>\n",
       "      <td>2.80</td>\n",
       "      <td>2.69</td>\n",
       "      <td>0.39</td>\n",
       "      <td>1.82</td>\n",
       "      <td>4.32</td>\n",
       "      <td>1.04</td>\n",
       "      <td>2.93</td>\n",
       "      <td>735</td>\n",
       "      <td>0</td>\n",
       "      <td>0</td>\n",
       "      <td>2</td>\n",
       "    </tr>\n",
       "  </tbody>\n",
       "</table>\n",
       "</div>"
      ],
      "text/plain": [
       "   Alcohol  Malic_Acid   Ash  Ash_Alcanity  Magnesium  Total_Phenols  \\\n",
       "0    14.23        1.71  2.43          15.6      127.0           2.80   \n",
       "1    13.20        1.78  2.14          11.2      100.0           2.65   \n",
       "2    13.16        2.36  2.67          18.6      101.0           2.80   \n",
       "3    14.37        1.95  2.50          16.8      113.0           3.85   \n",
       "4    13.24        2.59  2.87          21.0      118.0           2.80   \n",
       "\n",
       "   Flavanoids  Nonflavanoid_Phenols  Proanthocyanins  Color_Intensity   Hue  \\\n",
       "0        3.06                  0.28             2.29             5.64  1.04   \n",
       "1        2.76                  0.26             1.28             4.38  1.05   \n",
       "2        3.24                  0.30             2.81             5.68  1.03   \n",
       "3        3.49                  0.24             2.18             7.80  0.86   \n",
       "4        2.69                  0.39             1.82             4.32  1.04   \n",
       "\n",
       "   OD280  Proline  Cluster_Made  Cluster_Made_Elbow  Cluster_Made_Silhotte  \n",
       "0   3.92     1065             1                   1                      4  \n",
       "1   3.40     1050             1                   1                      4  \n",
       "2   3.17     1185             1                   1                      4  \n",
       "3   3.45     1480             1                   1                      0  \n",
       "4   2.93      735             0                   0                      2  "
      ]
     },
     "execution_count": 131,
     "metadata": {},
     "output_type": "execute_result"
    }
   ],
   "source": [
    "wine_Final['Cluster_Made_Elbow'] = model_Elbow.fit_predict(samples)\n",
    "wine_Final['Cluster_Made_Silhotte'] = model_Silhhouette.fit_predict(samples)\n",
    "wine_Final.head()"
   ]
  },
  {
   "cell_type": "code",
   "execution_count": 124,
   "id": "711898b9",
   "metadata": {},
   "outputs": [
    {
     "data": {
      "text/plain": [
       "array([[1.29298387e+01, 2.49842742e+00, 2.40578629e+00, 1.98903226e+01,\n",
       "        1.02911290e+02, 2.11112903e+00, 1.58403226e+00, 3.88387097e-01,\n",
       "        1.49887097e+00, 5.59516129e+00, 8.83967742e-01, 2.36548387e+00,\n",
       "        7.28338710e+02],\n",
       "       [1.38044681e+01, 1.88340426e+00, 2.42617021e+00, 1.69797872e+01,\n",
       "        1.05436170e+02, 2.86723404e+00, 3.01425532e+00, 2.85319149e-01,\n",
       "        1.91042553e+00, 5.70255319e+00, 1.07829787e+00, 3.11404255e+00,\n",
       "        1.19514894e+03],\n",
       "       [1.25166667e+01, 2.48398551e+00, 2.29112319e+00, 2.08094203e+01,\n",
       "        9.23478261e+01, 2.07072464e+00, 1.75840580e+00, 3.90144928e-01,\n",
       "        1.44347826e+00, 4.08507245e+00, 9.39945652e-01, 2.49072464e+00,\n",
       "        4.58231884e+02]])"
      ]
     },
     "execution_count": 124,
     "metadata": {},
     "output_type": "execute_result"
    }
   ],
   "source": [
    "model_Elbow.cluster_centers_"
   ]
  },
  {
   "cell_type": "code",
   "execution_count": 132,
   "id": "a85c31df",
   "metadata": {},
   "outputs": [
    {
     "data": {
      "text/plain": [
       "array([[1.39205000e+01, 1.76900000e+00, 2.49750000e+00, 1.72000000e+01,\n",
       "        1.06650000e+02, 2.90800000e+00, 3.08150000e+00, 2.95500000e-01,\n",
       "        1.90850000e+00, 6.32250000e+00, 1.11700000e+00, 3.00850000e+00,\n",
       "        1.36085000e+03],\n",
       "       [1.27416667e+01, 2.68354167e+00, 2.36416667e+00, 2.06125000e+01,\n",
       "        9.68020833e+01, 1.96687500e+00, 1.32833333e+00, 4.12916667e-01,\n",
       "        1.37354167e+00, 5.47062500e+00, 8.64583333e-01, 2.18875000e+00,\n",
       "        6.36125000e+02],\n",
       "       [1.31776923e+01, 2.52509615e+00, 2.44725962e+00, 1.93961538e+01,\n",
       "        1.10692308e+02, 2.28192308e+00, 1.88884615e+00, 3.58846154e-01,\n",
       "        1.65000000e+00, 5.42461538e+00, 9.03692308e-01, 2.63192308e+00,\n",
       "        8.23576923e+02],\n",
       "       [1.24750877e+01, 2.31289474e+00, 2.28311404e+00, 2.06201754e+01,\n",
       "        9.17192982e+01, 2.10578947e+00, 1.87140351e+00, 3.83333333e-01,\n",
       "        1.46842105e+00, 3.94982454e+00, 9.59057018e-01, 2.54438596e+00,\n",
       "        4.35578947e+02],\n",
       "       [1.37185185e+01, 1.96814815e+00, 2.37333333e+00, 1.68166667e+01,\n",
       "        1.04537037e+02, 2.83703704e+00, 2.96444444e+00, 2.77777778e-01,\n",
       "        1.91185185e+00, 5.24333333e+00, 1.04962963e+00, 3.19222222e+00,\n",
       "        1.07240741e+03]])"
      ]
     },
     "execution_count": 132,
     "metadata": {},
     "output_type": "execute_result"
    }
   ],
   "source": [
    "model_Silhhouette.cluster_centers_"
   ]
  },
  {
   "cell_type": "code",
   "execution_count": 133,
   "id": "a9235d0d",
   "metadata": {},
   "outputs": [
    {
     "name": "stdout",
     "output_type": "stream",
     "text": [
      " By ELBOW METHOD :\n",
      " 2    69\n",
      "0    62\n",
      "1    47\n",
      "Name: Cluster_Made_Elbow, dtype: int64\n",
      " By Silhotte METHOD :\n",
      " 3    57\n",
      "1    48\n",
      "4    27\n",
      "2    26\n",
      "0    20\n",
      "Name: Cluster_Made_Silhotte, dtype: int64\n"
     ]
    }
   ],
   "source": [
    "print(\" By ELBOW METHOD :\\n\",wine_Final.Cluster_Made_Elbow.value_counts(ascending=False))\n",
    "print(\" By Silhotte METHOD :\\n\",wine_Final.Cluster_Made_Silhotte.value_counts(ascending=False))"
   ]
  },
  {
   "cell_type": "code",
   "execution_count": 129,
   "id": "a099c272",
   "metadata": {},
   "outputs": [
    {
     "ename": "KeyError",
     "evalue": "\"None of [Index(['Customer_Segment', 'Cluster_Made_Elbow', 'Cluster_Made_Silhotte'], dtype='object')] are in the [columns]\"",
     "output_type": "error",
     "traceback": [
      "\u001b[1;31m---------------------------------------------------------------------------\u001b[0m",
      "\u001b[1;31mKeyError\u001b[0m                                  Traceback (most recent call last)",
      "Cell \u001b[1;32mIn[129], line 1\u001b[0m\n\u001b[1;32m----> 1\u001b[0m Submission \u001b[38;5;241m=\u001b[39m wine\u001b[38;5;241m.\u001b[39mloc[:,[\u001b[38;5;124m'\u001b[39m\u001b[38;5;124mCustomer_Segment\u001b[39m\u001b[38;5;124m'\u001b[39m,\u001b[38;5;124m\"\u001b[39m\u001b[38;5;124mCluster_Made_Elbow\u001b[39m\u001b[38;5;124m\"\u001b[39m,\u001b[38;5;124m\"\u001b[39m\u001b[38;5;124mCluster_Made_Silhotte\u001b[39m\u001b[38;5;124m\"\u001b[39m]]\n\u001b[0;32m      2\u001b[0m Submission\n",
      "File \u001b[1;32mC:\\ProgramData\\anaconda3\\Lib\\site-packages\\pandas\\core\\indexing.py:1067\u001b[0m, in \u001b[0;36m_LocationIndexer.__getitem__\u001b[1;34m(self, key)\u001b[0m\n\u001b[0;32m   1065\u001b[0m     \u001b[38;5;28;01mif\u001b[39;00m \u001b[38;5;28mself\u001b[39m\u001b[38;5;241m.\u001b[39m_is_scalar_access(key):\n\u001b[0;32m   1066\u001b[0m         \u001b[38;5;28;01mreturn\u001b[39;00m \u001b[38;5;28mself\u001b[39m\u001b[38;5;241m.\u001b[39mobj\u001b[38;5;241m.\u001b[39m_get_value(\u001b[38;5;241m*\u001b[39mkey, takeable\u001b[38;5;241m=\u001b[39m\u001b[38;5;28mself\u001b[39m\u001b[38;5;241m.\u001b[39m_takeable)\n\u001b[1;32m-> 1067\u001b[0m     \u001b[38;5;28;01mreturn\u001b[39;00m \u001b[38;5;28mself\u001b[39m\u001b[38;5;241m.\u001b[39m_getitem_tuple(key)\n\u001b[0;32m   1068\u001b[0m \u001b[38;5;28;01melse\u001b[39;00m:\n\u001b[0;32m   1069\u001b[0m     \u001b[38;5;66;03m# we by definition only have the 0th axis\u001b[39;00m\n\u001b[0;32m   1070\u001b[0m     axis \u001b[38;5;241m=\u001b[39m \u001b[38;5;28mself\u001b[39m\u001b[38;5;241m.\u001b[39maxis \u001b[38;5;129;01mor\u001b[39;00m \u001b[38;5;241m0\u001b[39m\n",
      "File \u001b[1;32mC:\\ProgramData\\anaconda3\\Lib\\site-packages\\pandas\\core\\indexing.py:1256\u001b[0m, in \u001b[0;36m_LocIndexer._getitem_tuple\u001b[1;34m(self, tup)\u001b[0m\n\u001b[0;32m   1253\u001b[0m \u001b[38;5;28;01mif\u001b[39;00m \u001b[38;5;28mself\u001b[39m\u001b[38;5;241m.\u001b[39m_multi_take_opportunity(tup):\n\u001b[0;32m   1254\u001b[0m     \u001b[38;5;28;01mreturn\u001b[39;00m \u001b[38;5;28mself\u001b[39m\u001b[38;5;241m.\u001b[39m_multi_take(tup)\n\u001b[1;32m-> 1256\u001b[0m \u001b[38;5;28;01mreturn\u001b[39;00m \u001b[38;5;28mself\u001b[39m\u001b[38;5;241m.\u001b[39m_getitem_tuple_same_dim(tup)\n",
      "File \u001b[1;32mC:\\ProgramData\\anaconda3\\Lib\\site-packages\\pandas\\core\\indexing.py:924\u001b[0m, in \u001b[0;36m_LocationIndexer._getitem_tuple_same_dim\u001b[1;34m(self, tup)\u001b[0m\n\u001b[0;32m    921\u001b[0m \u001b[38;5;28;01mif\u001b[39;00m com\u001b[38;5;241m.\u001b[39mis_null_slice(key):\n\u001b[0;32m    922\u001b[0m     \u001b[38;5;28;01mcontinue\u001b[39;00m\n\u001b[1;32m--> 924\u001b[0m retval \u001b[38;5;241m=\u001b[39m \u001b[38;5;28mgetattr\u001b[39m(retval, \u001b[38;5;28mself\u001b[39m\u001b[38;5;241m.\u001b[39mname)\u001b[38;5;241m.\u001b[39m_getitem_axis(key, axis\u001b[38;5;241m=\u001b[39mi)\n\u001b[0;32m    925\u001b[0m \u001b[38;5;66;03m# We should never have retval.ndim < self.ndim, as that should\u001b[39;00m\n\u001b[0;32m    926\u001b[0m \u001b[38;5;66;03m#  be handled by the _getitem_lowerdim call above.\u001b[39;00m\n\u001b[0;32m    927\u001b[0m \u001b[38;5;28;01massert\u001b[39;00m retval\u001b[38;5;241m.\u001b[39mndim \u001b[38;5;241m==\u001b[39m \u001b[38;5;28mself\u001b[39m\u001b[38;5;241m.\u001b[39mndim\n",
      "File \u001b[1;32mC:\\ProgramData\\anaconda3\\Lib\\site-packages\\pandas\\core\\indexing.py:1301\u001b[0m, in \u001b[0;36m_LocIndexer._getitem_axis\u001b[1;34m(self, key, axis)\u001b[0m\n\u001b[0;32m   1298\u001b[0m     \u001b[38;5;28;01mif\u001b[39;00m \u001b[38;5;28mhasattr\u001b[39m(key, \u001b[38;5;124m\"\u001b[39m\u001b[38;5;124mndim\u001b[39m\u001b[38;5;124m\"\u001b[39m) \u001b[38;5;129;01mand\u001b[39;00m key\u001b[38;5;241m.\u001b[39mndim \u001b[38;5;241m>\u001b[39m \u001b[38;5;241m1\u001b[39m:\n\u001b[0;32m   1299\u001b[0m         \u001b[38;5;28;01mraise\u001b[39;00m \u001b[38;5;167;01mValueError\u001b[39;00m(\u001b[38;5;124m\"\u001b[39m\u001b[38;5;124mCannot index with multidimensional key\u001b[39m\u001b[38;5;124m\"\u001b[39m)\n\u001b[1;32m-> 1301\u001b[0m     \u001b[38;5;28;01mreturn\u001b[39;00m \u001b[38;5;28mself\u001b[39m\u001b[38;5;241m.\u001b[39m_getitem_iterable(key, axis\u001b[38;5;241m=\u001b[39maxis)\n\u001b[0;32m   1303\u001b[0m \u001b[38;5;66;03m# nested tuple slicing\u001b[39;00m\n\u001b[0;32m   1304\u001b[0m \u001b[38;5;28;01mif\u001b[39;00m is_nested_tuple(key, labels):\n",
      "File \u001b[1;32mC:\\ProgramData\\anaconda3\\Lib\\site-packages\\pandas\\core\\indexing.py:1239\u001b[0m, in \u001b[0;36m_LocIndexer._getitem_iterable\u001b[1;34m(self, key, axis)\u001b[0m\n\u001b[0;32m   1236\u001b[0m \u001b[38;5;28mself\u001b[39m\u001b[38;5;241m.\u001b[39m_validate_key(key, axis)\n\u001b[0;32m   1238\u001b[0m \u001b[38;5;66;03m# A collection of keys\u001b[39;00m\n\u001b[1;32m-> 1239\u001b[0m keyarr, indexer \u001b[38;5;241m=\u001b[39m \u001b[38;5;28mself\u001b[39m\u001b[38;5;241m.\u001b[39m_get_listlike_indexer(key, axis)\n\u001b[0;32m   1240\u001b[0m \u001b[38;5;28;01mreturn\u001b[39;00m \u001b[38;5;28mself\u001b[39m\u001b[38;5;241m.\u001b[39mobj\u001b[38;5;241m.\u001b[39m_reindex_with_indexers(\n\u001b[0;32m   1241\u001b[0m     {axis: [keyarr, indexer]}, copy\u001b[38;5;241m=\u001b[39m\u001b[38;5;28;01mTrue\u001b[39;00m, allow_dups\u001b[38;5;241m=\u001b[39m\u001b[38;5;28;01mTrue\u001b[39;00m\n\u001b[0;32m   1242\u001b[0m )\n",
      "File \u001b[1;32mC:\\ProgramData\\anaconda3\\Lib\\site-packages\\pandas\\core\\indexing.py:1432\u001b[0m, in \u001b[0;36m_LocIndexer._get_listlike_indexer\u001b[1;34m(self, key, axis)\u001b[0m\n\u001b[0;32m   1429\u001b[0m ax \u001b[38;5;241m=\u001b[39m \u001b[38;5;28mself\u001b[39m\u001b[38;5;241m.\u001b[39mobj\u001b[38;5;241m.\u001b[39m_get_axis(axis)\n\u001b[0;32m   1430\u001b[0m axis_name \u001b[38;5;241m=\u001b[39m \u001b[38;5;28mself\u001b[39m\u001b[38;5;241m.\u001b[39mobj\u001b[38;5;241m.\u001b[39m_get_axis_name(axis)\n\u001b[1;32m-> 1432\u001b[0m keyarr, indexer \u001b[38;5;241m=\u001b[39m ax\u001b[38;5;241m.\u001b[39m_get_indexer_strict(key, axis_name)\n\u001b[0;32m   1434\u001b[0m \u001b[38;5;28;01mreturn\u001b[39;00m keyarr, indexer\n",
      "File \u001b[1;32mC:\\ProgramData\\anaconda3\\Lib\\site-packages\\pandas\\core\\indexes\\base.py:6070\u001b[0m, in \u001b[0;36mIndex._get_indexer_strict\u001b[1;34m(self, key, axis_name)\u001b[0m\n\u001b[0;32m   6067\u001b[0m \u001b[38;5;28;01melse\u001b[39;00m:\n\u001b[0;32m   6068\u001b[0m     keyarr, indexer, new_indexer \u001b[38;5;241m=\u001b[39m \u001b[38;5;28mself\u001b[39m\u001b[38;5;241m.\u001b[39m_reindex_non_unique(keyarr)\n\u001b[1;32m-> 6070\u001b[0m \u001b[38;5;28mself\u001b[39m\u001b[38;5;241m.\u001b[39m_raise_if_missing(keyarr, indexer, axis_name)\n\u001b[0;32m   6072\u001b[0m keyarr \u001b[38;5;241m=\u001b[39m \u001b[38;5;28mself\u001b[39m\u001b[38;5;241m.\u001b[39mtake(indexer)\n\u001b[0;32m   6073\u001b[0m \u001b[38;5;28;01mif\u001b[39;00m \u001b[38;5;28misinstance\u001b[39m(key, Index):\n\u001b[0;32m   6074\u001b[0m     \u001b[38;5;66;03m# GH 42790 - Preserve name from an Index\u001b[39;00m\n",
      "File \u001b[1;32mC:\\ProgramData\\anaconda3\\Lib\\site-packages\\pandas\\core\\indexes\\base.py:6130\u001b[0m, in \u001b[0;36mIndex._raise_if_missing\u001b[1;34m(self, key, indexer, axis_name)\u001b[0m\n\u001b[0;32m   6128\u001b[0m     \u001b[38;5;28;01mif\u001b[39;00m use_interval_msg:\n\u001b[0;32m   6129\u001b[0m         key \u001b[38;5;241m=\u001b[39m \u001b[38;5;28mlist\u001b[39m(key)\n\u001b[1;32m-> 6130\u001b[0m     \u001b[38;5;28;01mraise\u001b[39;00m \u001b[38;5;167;01mKeyError\u001b[39;00m(\u001b[38;5;124mf\u001b[39m\u001b[38;5;124m\"\u001b[39m\u001b[38;5;124mNone of [\u001b[39m\u001b[38;5;132;01m{\u001b[39;00mkey\u001b[38;5;132;01m}\u001b[39;00m\u001b[38;5;124m] are in the [\u001b[39m\u001b[38;5;132;01m{\u001b[39;00maxis_name\u001b[38;5;132;01m}\u001b[39;00m\u001b[38;5;124m]\u001b[39m\u001b[38;5;124m\"\u001b[39m)\n\u001b[0;32m   6132\u001b[0m not_found \u001b[38;5;241m=\u001b[39m \u001b[38;5;28mlist\u001b[39m(ensure_index(key)[missing_mask\u001b[38;5;241m.\u001b[39mnonzero()[\u001b[38;5;241m0\u001b[39m]]\u001b[38;5;241m.\u001b[39munique())\n\u001b[0;32m   6133\u001b[0m \u001b[38;5;28;01mraise\u001b[39;00m \u001b[38;5;167;01mKeyError\u001b[39;00m(\u001b[38;5;124mf\u001b[39m\u001b[38;5;124m\"\u001b[39m\u001b[38;5;132;01m{\u001b[39;00mnot_found\u001b[38;5;132;01m}\u001b[39;00m\u001b[38;5;124m not in index\u001b[39m\u001b[38;5;124m\"\u001b[39m)\n",
      "\u001b[1;31mKeyError\u001b[0m: \"None of [Index(['Customer_Segment', 'Cluster_Made_Elbow', 'Cluster_Made_Silhotte'], dtype='object')] are in the [columns]\""
     ]
    }
   ],
   "source": [
    "Submission = wine.loc[:,['Customer_Segment',\"Cluster_Made_Elbow\",\"Cluster_Made_Silhotte\"]]\n",
    "Submission"
   ]
  }
 ],
 "metadata": {
  "kernelspec": {
   "display_name": "Python 3 (ipykernel)",
   "language": "python",
   "name": "python3"
  },
  "language_info": {
   "codemirror_mode": {
    "name": "ipython",
    "version": 3
   },
   "file_extension": ".py",
   "mimetype": "text/x-python",
   "name": "python",
   "nbconvert_exporter": "python",
   "pygments_lexer": "ipython3",
   "version": "3.11.4"
  }
 },
 "nbformat": 4,
 "nbformat_minor": 5
}
